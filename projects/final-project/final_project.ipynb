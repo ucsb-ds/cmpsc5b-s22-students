{
 "cells": [
  {
   "cell_type": "code",
   "execution_count": null,
   "id": "baa6e0c8",
   "metadata": {
    "deletable": false,
    "editable": false
   },
   "outputs": [],
   "source": [
    "# Initialize Otter\n",
    "import otter\n",
    "grader = otter.Notebook(\"final_project.ipynb\")"
   ]
  },
  {
   "cell_type": "markdown",
   "id": "cbcde440",
   "metadata": {
    "hideCode": false,
    "hidePrompt": false
   },
   "source": [
    "# Final Project: Penguins!!! (and other thingies)\n",
    "\n",
    "Welcome to the Final Project of CMPSC 5B (DS 2)!\n",
    "\n",
    "Here is a roadmap for this project:\n",
    "* In Part 1, we'll investigate the correlations between some penguin features and build a linear regression model.\n",
    "* In Part 2, we'll build a classification model to have python try and classify each type of penguin based on its features.\n",
    "* In Part 3, you'll design your own model (either linear regression or classification) using the whichever dataset.\n",
    "\n",
    "\n",
    "### Logistics\n",
    "\n",
    "**Checkpoint.** For full credit, you must **complete Part 1 project and submit it by Week 10** (check Gradescope for exact due date)  You may or may not have lab time to work on these questions, we recommend that you start early on each part to stay on track. Since your Final Project (checkpoint) is your first draft of your project, we want to give you feedback so that you can make corrections for the full submission. Because of this, we will not accept late submissions for your Checkpoint.\n",
    "\n",
    "**Deadline.** The full project is due during Finals Week, during Finals Week (check Gradescope for exact due date). It's **much** better to be early than late, so start working now. Because of the quick turnaround with course grades being due June 15, we will not be accepting late submissions for your full submission either.\n",
    "\n",
    "**Partners.** You may work with one other partner; this partner **does not** need to be from the same lab section. Only one of you is required to submit the project. In Gradescope, the person who submits should also designate their partner so that both of you receive credit. Here is how you [add a group member in Gradescope](https://help.gradescope.com/article/m5qz2xsnjy-student-add-group-members). \n",
    "\n",
    "**Rules.** Don't share your code with anybody but your partner. You are welcome to discuss questions with other students, but don't share the answers. The experience of solving the problems in this project will prepare you for other courses (and life). If someone asks you for the answer, resist! Instead, you can demonstrate how you would solve a similar problem.\n",
    "\n",
    "**Support.** You are not alone! Come to office hours, post on Piazza, and talk to your classmates. If you want to ask about the details of your solution to a problem, make a private Piazza post and the staff will respond. If you're ever feeling overwhelmed or don't know how to make progress, email your TA or ULA for help. \n",
    "\n",
    "**Tests.** Passing the tests for a question **does not** mean that you answered the question correctly. Tests usually only check that your table has the correct column labels. However, more tests will be applied to verify the correctness of your submission in order to assign your final score, so be careful and check your work!\n",
    "\n",
    "**Advice.** Develop your answers incrementally. To perform a complicated table manipulation, break it up into steps, perform each step on a different line, give a new name to each result, and check that each intermediate result is what you expect. You can add any additional names or functions you want to the provided cells. Also, please be sure to not re-assign variables throughout the notebook! For example, if you use max_temperature in your answer to one question, do not reassign it later on.\n",
    "\n",
    "To get started, load `datascience`, `numpy`, and `plots`"
   ]
  },
  {
   "cell_type": "code",
   "execution_count": 1,
   "id": "d9021245",
   "metadata": {
    "hideCode": false,
    "hidePrompt": false
   },
   "outputs": [],
   "source": [
    "# Run this cell to set up the notebook, but please don't change it.\n",
    "import numpy as np\n",
    "import math\n",
    "from datascience import *\n",
    "\n",
    "# These lines set up the plotting functionality and formatting.\n",
    "import matplotlib\n",
    "matplotlib.use('Agg')\n",
    "%matplotlib inline\n",
    "import matplotlib.pyplot as plots\n",
    "plots.style.use('fivethirtyeight')\n",
    "import warnings\n",
    "warnings.simplefilter(action=\"ignore\", category=FutureWarning)\n",
    "\n",
    "import pandas as pd\n",
    "import altair as alt"
   ]
  },
  {
   "cell_type": "markdown",
   "id": "8bce5b39",
   "metadata": {
    "hideCode": false,
    "hidePrompt": false
   },
   "source": [
    "# The Dataset\n",
    "\n",
    "Penguins are super cute and interesting. You may disagree but you are wrong. Today we are going to use our penguin dataset, which contain rows of different penguins and their features.\n",
    "\n",
    "Our [dataset](https://www.kaggle.com/code/parulpandey/penguin-dataset-the-new-iris/notebook) contains the following columns and information:\n",
    "\n",
    "1. **species** - indicates what type of penguin (Adelie, Chinstrap, Gentoo)\n",
    "2. **island** - which island our penguin came from\n",
    "3. **culmen_length_mm** - The culmen is the upper ridge of a bird's beak. For simplicity we will be referencing culmin as their beaks in the future. This is the penguin's beak length in millimeter.\n",
    "4. **culmen_depth_mm** - This is the penguin's beak depth in millimeter.\n",
    "5. **flipper_length_mm** - This is the penguin's flipper (or wings) length in millimeter.\n",
    "6. **body_mass_g** - This is how much the penguin weighs in grams.\n",
    "7. **sex** - The sex of the penguin.\n",
    "\n",
    "Run the cell below to read the `penguin` table."
   ]
  },
  {
   "cell_type": "code",
   "execution_count": 2,
   "id": "5f7d4ccf",
   "metadata": {
    "hideCode": false,
    "hidePrompt": false,
    "scrolled": false
   },
   "outputs": [],
   "source": [
    "# Run this cell to load our dataset!\n",
    "penguins = Table.read_table('data/penguin.csv')\n",
    "penguins.show(5)"
   ]
  },
  {
   "cell_type": "markdown",
   "id": "e3b22595",
   "metadata": {
    "hideCode": false,
    "hidePrompt": false
   },
   "source": [
    "If you are interested in taking PSTAT 100, below is a code cell that shows a glimpse of what you will be taught in that class. You don’t have to understand it now (of course!), but these are cool visualizations we want to expose you to. These graphs are interactive, so you zoom-in/zoom-out of them or drag the visualizations around to see different parts of the graph!"
   ]
  },
  {
   "cell_type": "code",
   "execution_count": 3,
   "id": "4720d3a7",
   "metadata": {
    "hideCode": false,
    "hidePrompt": false,
    "scrolled": false
   },
   "outputs": [],
   "source": [
    "# just run this cell, you will learn about this if you take PSTAT 100!\n",
    "source = pd.read_csv('data/penguin.csv')\n",
    "\n",
    "chart1 = alt.Chart(source).mark_circle(size=60).encode(\n",
    "    x= alt.X('culmen_length_mm', scale=alt.Scale(domain=(25, 65))),\n",
    "    y= alt.Y('culmen_depth_mm', scale=alt.Scale(domain=(12, 22))),\n",
    "    color='species'\n",
    ").properties(width=300,height=300).interactive()\n",
    "\n",
    "chart2 = alt.Chart(source).mark_circle(size=60).encode(\n",
    "    x= alt.X('flipper_length_mm', scale=alt.Scale(domain=(165, 235))),\n",
    "    y= alt.Y('culmen_depth_mm', scale=alt.Scale(domain=(12, 22))),\n",
    "    color='species'\n",
    ").properties(width=300,height=300).interactive()\n",
    "\n",
    "chart3 = alt.Chart(source).mark_circle(size=60).encode(\n",
    "    x= alt.X('body_mass_g', scale=alt.Scale(domain=(2500, 6500))),\n",
    "    y= alt.Y('flipper_length_mm', scale=alt.Scale(domain=(165, 235))),\n",
    "    color='species'\n",
    ").properties(width=300,height=300).interactive()\n",
    "\n",
    "chart4 = alt.Chart(source).mark_circle(size=60).encode(\n",
    "    x= alt.X('body_mass_g', scale=alt.Scale(domain=(2500, 6500))),\n",
    "    y= alt.Y('culmen_depth_mm', scale=alt.Scale(domain=(12, 22))),\n",
    "    color='species'\n",
    ").properties(width=300,height=300).interactive()\n",
    "\n",
    "(chart1 & chart3) | (chart2 & chart4)"
   ]
  },
  {
   "cell_type": "markdown",
   "id": "93c86511",
   "metadata": {
    "deletable": false,
    "editable": false,
    "hideCode": false,
    "hidePrompt": false
   },
   "source": [
    "#### Question 1.0\n",
    "\n",
    "A goal of this project is to introduce you to the concept of classifying two things based on their features. In this case, from our visualizations we can see that between the three penguins, it looks like the Adelie penguins and the Gentoo penguins are most different from each other. The Chinstrap penguin shares some characteristics with the other two, so it might be hard to identify this type of penguin based on the data we have. Thus, it’s best to focus on the two most different penguin species: Adelie and Gentoo. Sucks to be a chinstrap I guess.\n",
    "\n",
    "In the cell below, filter out our `penguins` table to only contain rows of Adelie penguins and Gentoo penguins. Store this new table as `cool_penguins`.\n",
    "\n",
    "*HINT: If you are stuck, I think the midterm might tell you how to do this somewhere...*\n",
    "<!--\n",
    "BEGIN QUESTION\n",
    "name: q1_0\n",
    "-->"
   ]
  },
  {
   "cell_type": "code",
   "execution_count": 4,
   "id": "7825e042",
   "metadata": {
    "hideCode": false,
    "hidePrompt": false,
    "scrolled": false
   },
   "outputs": [],
   "source": [
    "cool_penguins = ...\n",
    "cool_penguins.show(5)"
   ]
  },
  {
   "cell_type": "code",
   "execution_count": null,
   "id": "2b72948f",
   "metadata": {
    "deletable": false,
    "editable": false
   },
   "outputs": [],
   "source": [
    "grader.check(\"q1_0\")"
   ]
  },
  {
   "cell_type": "markdown",
   "id": "8f39ba62",
   "metadata": {
    "hideCode": false,
    "hidePrompt": false
   },
   "source": [
    "# PART 1: Penguin Correlation & Linear Regression"
   ]
  },
  {
   "cell_type": "markdown",
   "id": "941cb15c",
   "metadata": {
    "deletable": false,
    "editable": false,
    "hideCode": false,
    "hidePrompt": false
   },
   "source": [
    "#### Question 1.1.1\n",
    "\n",
    "Let’s find out which two variables are most correlated with each other! Below we’ve given you a function that will take in an array of numbers and convert it into standard units. This function will be useful for calculating the correlation between two arrays.\n",
    "\n",
    "Define a function `penguin_corr` which takes in three arguments:\n",
    "- tbl: The table we are using (in this case, cool_penguins)\n",
    "- col1 / col2: The string of which column we want within our table (eg. `culmen_length_mm`)\n",
    "\n",
    "The function should return the correlation between the two columns in our array.\n",
    "\n",
    "\n",
    "<!--\n",
    "BEGIN QUESTION\n",
    "name: q1_1_1\n",
    "-->"
   ]
  },
  {
   "cell_type": "code",
   "execution_count": 7,
   "id": "ee9a006b",
   "metadata": {
    "hideCode": false,
    "hidePrompt": false
   },
   "outputs": [],
   "source": [
    "def standard_units(arr):\n",
    "    return (arr - np.mean(arr)) / np.std(arr)\n",
    "\n",
    "def penguin_corr(tbl, col1, col2):\n",
    "    return ..."
   ]
  },
  {
   "cell_type": "code",
   "execution_count": null,
   "id": "9c827a69",
   "metadata": {
    "deletable": false,
    "editable": false
   },
   "outputs": [],
   "source": [
    "grader.check(\"q1_1_1\")"
   ]
  },
  {
   "cell_type": "markdown",
   "id": "6fd391d8",
   "metadata": {
    "deletable": false,
    "editable": false,
    "hideCode": false,
    "hidePrompt": false
   },
   "source": [
    "#### Question 1.1.2\n",
    "Nice! Let’s see this `penguin_corr` function in action. First, produce a scatter plot with `body_mass_g` on the x axis and `culmen_depth_mm` on the y axis. If produced correctly, you should see two scatter groups: The Adelie penguins on the top and Gentoo penguins on the bottom.\n",
    "\n",
    "Then, assign `beak_and_body` with the correlation coefficient r between the two variables. (This is when you use the `penguin_corr` function)\n",
    "\n",
    "\n",
    "<!--\n",
    "BEGIN QUESTION\n",
    "name: q1_1_2\n",
    "-->"
   ]
  },
  {
   "cell_type": "code",
   "execution_count": 10,
   "id": "7a3d0743",
   "metadata": {
    "hideCode": false,
    "hidePrompt": false
   },
   "outputs": [],
   "source": [
    "# Produce plot here\n",
    "...\n",
    "\n",
    "# Calculate r here\n",
    "beak_and_body = ...\n",
    "\n",
    "print(beak_and_body)"
   ]
  },
  {
   "cell_type": "code",
   "execution_count": null,
   "id": "455b410c",
   "metadata": {
    "deletable": false,
    "editable": false
   },
   "outputs": [],
   "source": [
    "grader.check(\"q1_1_2\")"
   ]
  },
  {
   "cell_type": "markdown",
   "id": "e04c3a6c",
   "metadata": {
    "deletable": false,
    "editable": false,
    "hideCode": false,
    "hidePrompt": false
   },
   "source": [
    "#### Question 1.1.3\n",
    "\n",
    "Wait…that’s weird. Why is the correlation NEGATIVE? That can’t be right…right?\n",
    "\n",
    "You see, what is happening here is a statistical phenomenon called Simpson’s Paradox.This happens when groups of data exhibit some sort of trend (eg. larger Adelie penguins have larger beaks, same for Gentoo), but when combined exhibit the opposite trend. We have the Gentoo penguins, which are typically larger in size but have smaller beaks mixed in with Adelie penguins which are typically smaller in size and have bigger beaks. They both seem to express the notion that the bigger the penguin, the bigger the beaks, but combining the two penguins together confuses Python since it just assumes that all these penguins are the same.\n",
    "\n",
    "You’re not expected to fully understand what Simpson’s Paradox is or why it happens. We just wanted to show you something cool.\n",
    "\n",
    "Thankfully, there is a way to get around Simpson’s Paradox: Calculating the correlation separately for each penguin!\n",
    "\n",
    "In the cell below, compute the correlation between the same two variables (culmen depth and body mass) but for each penguin species! Assign the correlation for the Adelie penguins to `Adele` and the correlation for Gentoo penguins to `Gen2`.\n",
    "\n",
    "<!--\n",
    "BEGIN QUESTION\n",
    "name: q1_1_3\n",
    "-->"
   ]
  },
  {
   "cell_type": "code",
   "execution_count": 13,
   "id": "b3c1fe69",
   "metadata": {
    "hideCode": false,
    "hidePrompt": false
   },
   "outputs": [],
   "source": [
    "Adele = ...\n",
    "Gen2 = ...\n",
    "\n",
    "print('Adelie Correlation is {0}, Gentoo Correlation is {1}'.format(Adele, Gen2))"
   ]
  },
  {
   "cell_type": "code",
   "execution_count": null,
   "id": "e3a2b226",
   "metadata": {
    "deletable": false,
    "editable": false
   },
   "outputs": [],
   "source": [
    "grader.check(\"q1_1_3\")"
   ]
  },
  {
   "cell_type": "markdown",
   "id": "890117b8",
   "metadata": {
    "deletable": false,
    "editable": false,
    "hideCode": false,
    "hidePrompt": false
   },
   "source": [
    "<!-- BEGIN QUESTION -->\n",
    "\n",
    "#### Question 1.1.4\n",
    "\n",
    "WooHoo! We’re not insane! In general, a bigger penguin correlates to a bigger beak size. Thus, can we conclude that being bigger *causes* the penguin to have a bigger beak? Explain your reasoning. \n",
    "\n",
    "<!--\n",
    "BEGIN QUESTION\n",
    "name: q1_1_4\n",
    "manual: true\n",
    "-->"
   ]
  },
  {
   "cell_type": "markdown",
   "id": "31b369ec",
   "metadata": {},
   "source": [
    "_Type your answer here, replacing this text._"
   ]
  },
  {
   "cell_type": "markdown",
   "id": "c269cac6",
   "metadata": {
    "deletable": false,
    "editable": false,
    "hideCode": false,
    "hidePrompt": false
   },
   "source": [
    "<!-- END QUESTION -->\n",
    "\n",
    "#### Question 1.2.1\n",
    "Let’s start working on some good old linear regression. \n",
    "\n",
    "First, produce a scatter plot with `body_mass_g` on the x axis and `flipper_length_mm` on the y axis. \n",
    "\n",
    "Then, assign `pengu` with the correlation coefficient r between the two variables.\n",
    "\n",
    "<!--\n",
    "BEGIN QUESTION\n",
    "name: q1_2_1\n",
    "-->"
   ]
  },
  {
   "cell_type": "code",
   "execution_count": 16,
   "id": "d9daf1c6",
   "metadata": {
    "hideCode": false,
    "hidePrompt": false
   },
   "outputs": [],
   "source": [
    "# Produce plot here\n",
    "...\n",
    "\n",
    "# Calculate r here\n",
    "pengu = ...\n",
    "\n",
    "print(pengu)"
   ]
  },
  {
   "cell_type": "code",
   "execution_count": null,
   "id": "f6ad381d",
   "metadata": {
    "deletable": false,
    "editable": false
   },
   "outputs": [],
   "source": [
    "grader.check(\"q1_2_1\")"
   ]
  },
  {
   "cell_type": "markdown",
   "id": "6fe8aaf9",
   "metadata": {
    "deletable": false,
    "editable": false,
    "hideCode": false,
    "hidePrompt": false
   },
   "source": [
    "#### Question 1.2.2\n",
    "Our scatterplot has a nice singular pattern. While it would be better to separate our dataset into Adelie penguins and Gentoo penguins, for the sake of simplicity, we can keep them combined for this example. \n",
    "\n",
    "Let’s create a simple linear regression model in which we are trying to predict a penguin’s `body_mass_g` based on its `flipper_length_mm`\n",
    "\n",
    "Assign to the variables `slope` and `intercept` the values of the slope and intercept respectively  using`body_mass_g` as our X variable and `flipper_length_mm` as our Y variable.\n",
    "<!--\n",
    "BEGIN QUESTION\n",
    "name: q1_2_2\n",
    "-->"
   ]
  },
  {
   "cell_type": "code",
   "execution_count": 18,
   "id": "5b204201",
   "metadata": {
    "hideCode": false,
    "hidePrompt": false
   },
   "outputs": [],
   "source": [
    "# define slope and intercept here\n",
    "slope = ...\n",
    "intercept = ...\n",
    "\n",
    "print('slope: ', slope)\n",
    "print('intercept: ', intercept)"
   ]
  },
  {
   "cell_type": "code",
   "execution_count": null,
   "id": "ff170018",
   "metadata": {
    "deletable": false,
    "editable": false
   },
   "outputs": [],
   "source": [
    "grader.check(\"q1_2_2\")"
   ]
  },
  {
   "cell_type": "markdown",
   "id": "8aa5eba9",
   "metadata": {
    "deletable": false,
    "editable": false,
    "hideCode": false,
    "hidePrompt": false
   },
   "source": [
    "#### Question 1.2.3\n",
    "Finally, create a table with three columns.\n",
    "The first column should be your X, also known as the `flipper_length_mm` column from your `cool_penguins` table.\n",
    "The second column should be your Y, also known as the `body_mass_g` column from your `cool_penguins` table.\n",
    "The third column will be something you create. It should be called `predicted_body_mass_g`. Using the slope and intercept that you have calculated, compute the estimated body mass using the `flipper_length_mm` as the predictor variable.\n",
    "\n",
    "*HINT 1: Look at Q12 of HW4 to see how you computed the regression line*\n",
    "\n",
    "*HINT 2: What you produced in that question (predicted_rnaseq) is an array of predicted numbers. How do you add an array of numbers to a table as a column?*\n",
    "\n",
    "<!--\n",
    "BEGIN QUESTION\n",
    "name: q1_2_3\n",
    "-->"
   ]
  },
  {
   "cell_type": "code",
   "execution_count": 21,
   "id": "3f8d52cc",
   "metadata": {
    "hideCode": false,
    "hidePrompt": false,
    "scrolled": true
   },
   "outputs": [],
   "source": [
    "# While it's possible to do this in one line, breaking this problem into steps might be more helpful!\n",
    "prediction = ...\n",
    "\n",
    "prediction.show(5)"
   ]
  },
  {
   "cell_type": "code",
   "execution_count": null,
   "id": "be423d54",
   "metadata": {
    "deletable": false,
    "editable": false
   },
   "outputs": [],
   "source": [
    "grader.check(\"q1_2_3\")"
   ]
  },
  {
   "cell_type": "code",
   "execution_count": 24,
   "id": "55f7cc2c",
   "metadata": {
    "hideCode": false,
    "hidePrompt": false,
    "scrolled": true
   },
   "outputs": [],
   "source": [
    "# Run this cell to produce a scatter plot\n",
    "prediction.scatter('flipper_length_mm')"
   ]
  },
  {
   "cell_type": "markdown",
   "id": "ab8b5d93",
   "metadata": {
    "hideCode": false,
    "hidePrompt": false
   },
   "source": [
    "Nice work! You have defined a linear regression model to predict a penguin’s body mass based on its flipper length. In Part 2, you will build a K-Nearest-Neighbor classifier to try and guess which type of penguin (either Adelie or Gentoo) a penguin is based on its attributes.\n"
   ]
  },
  {
   "cell_type": "markdown",
   "id": "a731fe5b",
   "metadata": {
    "hideCode": false,
    "hidePrompt": false
   },
   "source": [
    "# PART 2: Penguin Classification"
   ]
  },
  {
   "cell_type": "markdown",
   "id": "9f8b1efd",
   "metadata": {
    "deletable": false,
    "editable": false,
    "hideCode": false,
    "hidePrompt": false
   },
   "source": [
    "#### Question 2.1.1\n",
    "\n",
    "Let's begin implementing the k-Nearest Neighbors algorithm. Define the `distance` function, which takes in two arguments: an array of numerical features, and a different array of numerical features. The function should return the [Euclidean distance](https://en.wikipedia.org/wiki/Euclidean_distance) between the two arrays. Euclidean distance is often referred to as the straight-line distance formula that you may have learned previously.\n",
    "\n",
    "Here is the formula if needed:\n",
    "\n",
    "$\\sqrt{\\sum [(array 1) - (array 2)]^2}$\n",
    "\n",
    "<!--\n",
    "BEGIN QUESTION\n",
    "name: q2_1_1\n",
    "-->"
   ]
  },
  {
   "cell_type": "code",
   "execution_count": 25,
   "id": "5974616c",
   "metadata": {
    "hideCode": false,
    "hidePrompt": false
   },
   "outputs": [],
   "source": [
    "def distance(arr1, arr2):\n",
    "    ...\n",
    "\n",
    "# Don't change/delete the code below in this cell. distance_example should be ~5\n",
    "distance_example = distance(make_array(1, 2, 3), make_array(4, 5, 6))\n",
    "distance_example"
   ]
  },
  {
   "cell_type": "code",
   "execution_count": null,
   "id": "96782a95",
   "metadata": {
    "deletable": false,
    "editable": false
   },
   "outputs": [],
   "source": [
    "grader.check(\"q2_1_1\")"
   ]
  },
  {
   "cell_type": "markdown",
   "id": "0dae1c73",
   "metadata": {
    "hideCode": false,
    "hidePrompt": false
   },
   "source": [
    "We learned in this class that table.sample() will randomly select rows from any tables. We can control which rows are to be picked every single time through something called a random seed eg. `np.random.seed(5)` Basically, the gist of code is that it makes the randomness predictable. There is a certain order in which our rows will be picked for seed(5), and that order will always be the same. No matter how many times you run the cell below, it will always result in the same table. For the sake of this project, keep the random seed to be 5, standing for 5b :D\n",
    "\n",
    "We want to shuffle our table “randomly” because our original table had all the Adelie penguins on the top and the Gentoo penguins on the bottom. This is important for what we are about to do next.\n",
    "\n",
    "**NOTE: Our new table is now called `rad_penguins`** \n",
    "\n",
    "=)"
   ]
  },
  {
   "cell_type": "code",
   "execution_count": 28,
   "id": "e18afc42",
   "metadata": {},
   "outputs": [],
   "source": [
    "# Run this cell\n",
    "np.random.seed(5)\n",
    "\n",
    "rad_penguins = cool_penguins.sample(with_replacement = True)\n",
    "rad_penguins.show(5)"
   ]
  },
  {
   "cell_type": "markdown",
   "id": "c91a5069",
   "metadata": {
    "deletable": false,
    "editable": false
   },
   "source": [
    "Next, let's split our dataset into a training set and a test set. This is so we can use our training set to build our classifier, and the test set to see if our model was able to accurately predict the information we want. This is also to prevent something called overfitting (which is beyond the scope of this class, you will learn more about it in PSTAT 100!) but the general gist of this concept is like this (you can skip this section if you want):\n",
    "- Pretend that you are a machine learning model. To prepare for your next math test, you train yourself by studying the study guide. You choose to study the entire study guide.\n",
    "- You study the study guide super well. Thus, when you try and test your knowledge, you quiz yourself on how you do on that exact same study guide. Unsurprisingly, you know how to do every single problem on that study guide and get a 100%.\n",
    "- Now it’s time for the real world. You go and take that math test. However, you ONLY studied for your study guide, and struggle to understand and apply what was supposed to be learned from that study guide to the real test. You fail :(\n",
    "This is similar to what overfitting is, and why we avoid it. We want our machine learning model to learn the concept and idea of what our data is trying to say, and use this data to make inference on real things.\n",
    "\n",
    "#### Question 2.1.2\n",
    "\n",
    "Our table `rad_penguins` has a lot of row, so let's create a training set with the first 200 rows and a test set with the remaining rows. Assign `train` with your training set and `test` with your testing set.\n",
    "\n",
    "*Hint: A policeman tries to capture a criminal. The criminal, confident in his ability to escape yells, “You’ll never TAKE (wink wink) me alive!*\n",
    "\n",
    "<!--\n",
    "BEGIN QUESTION\n",
    "name: q2_1_2\n",
    "-->"
   ]
  },
  {
   "cell_type": "code",
   "execution_count": 29,
   "id": "6fb35ea6",
   "metadata": {},
   "outputs": [],
   "source": [
    "train = ...\n",
    "test = ..."
   ]
  },
  {
   "cell_type": "code",
   "execution_count": null,
   "id": "9f28f394",
   "metadata": {
    "deletable": false,
    "editable": false
   },
   "outputs": [],
   "source": [
    "grader.check(\"q2_1_2\")"
   ]
  },
  {
   "cell_type": "markdown",
   "id": "4f7a8c19",
   "metadata": {
    "deletable": false,
    "editable": false
   },
   "source": [
    "<!-- BEGIN QUESTION -->\n",
    "\n",
    "#### Question 2.1.3\n",
    "\n",
    "Draw a horizontal bar chart with two bars that show the proportion of Adelie penguins in each dataset (both the train and test dataset). Complete the function `adelie_proportion` first; it should help you create the bar chart.\n",
    "\n",
    "We are creating this bar chat to give us a sanity check that our randomly select rows have roughly the same proportions of each penguin for both the train and test dataset\n",
    "<!--\n",
    "BEGIN QUESTION\n",
    "name: q2_1_3\n",
    "manual: true\n",
    "-->"
   ]
  },
  {
   "cell_type": "code",
   "execution_count": 33,
   "id": "f7f2441f",
   "metadata": {},
   "outputs": [],
   "source": [
    "def adelie_proportion(table):\n",
    "    # Return the proportion of penguins in a table that are adelie penguins.\n",
    "    return ...\n",
    "# Your solution may take multiple lines.  Start by creating a table.\n",
    "# If you get stuck, think about what sort of table you need for barh to work"
   ]
  },
  {
   "cell_type": "markdown",
   "id": "857fd419",
   "metadata": {
    "deletable": false,
    "editable": false
   },
   "source": [
    "<!-- END QUESTION -->\n",
    "\n",
    "#### Question 2.1.4\n",
    "\n",
    "We want to predict the species of penguin based on four numerical columns.  Assign `features` to an array of the labels of these features from the `rad_penguins` table.\n",
    "\n",
    "<!--\n",
    "BEGIN QUESTION\n",
    "name: q2_1_4\n",
    "-->"
   ]
  },
  {
   "cell_type": "code",
   "execution_count": 34,
   "id": "80a2f7ea",
   "metadata": {},
   "outputs": [],
   "source": [
    "features = ...\n",
    "features"
   ]
  },
  {
   "cell_type": "code",
   "execution_count": null,
   "id": "ba6cbf0d",
   "metadata": {
    "deletable": false,
    "editable": false
   },
   "outputs": [],
   "source": [
    "grader.check(\"q2_1_4\")"
   ]
  },
  {
   "cell_type": "markdown",
   "id": "c12b88fa",
   "metadata": {
    "deletable": false,
    "editable": false
   },
   "source": [
    "#### Question 2.1.5\n",
    "\n",
    "Now define the `classify` function. This function should take in a row from a table like `test` and classify it based on the data in `train` using the `k`-Nearest Neighbors based on the correct `features`. Think of each row in the `test` table as a potential penguin you want to try and guess. Here are some hints if needed, but you should definitely try and attempt this problem without them if you want a challenge haha xD\n",
    "\n",
    "### THE HINTS: \n",
    "\n",
    "- the `row_to_array` function we defined for you to convert rows to arrays of features so that you can use the `distance` function you defined earlier.\n",
    "- `test_row_features_array` will be an array of four numbers corresponding to each of the four features selected.\n",
    "- `distances` will be an empty array you will populate with the distance. More on this later.\n",
    "- `train_row_features_array` , similar to before, will be an array of four numbers corresponding to each of the four features selected. Every time our loop goes to each row, this array will change to be the four feature values of each row.\n",
    "- `row_distance` Here we want you to compute the Euclidean distance between the testing array and training array.\n",
    "- `distances` oh? This seems familiar…\n",
    "- `train_with_distances` Now that we have our array of distances computed from our mystery penguin to our training set penguins, add this array of values to our table.\n",
    "- `nearest_neighbors` Using k (which is a numerical representation of the closest k amount of penguins we want to take), get the rows for the closest k amount of penguins. This should be a table of only k amount of rows.\n",
    "- `most_common_label` Using `the nearest_neighbors` table, get the penguin (either Adelie or Gentoo) that appears the most.\n",
    "\n",
    "\n",
    "<!--\n",
    "BEGIN QUESTION\n",
    "name: q2_1_5\n",
    "-->"
   ]
  },
  {
   "cell_type": "code",
   "execution_count": 36,
   "id": "3c41a2c5",
   "metadata": {},
   "outputs": [],
   "source": [
    "def row_to_array(row, features):\n",
    "    arr = make_array()\n",
    "    for feature in features:\n",
    "        arr = np.append(arr, row.item(feature))\n",
    "    return arr\n",
    "\n",
    "def classify(row, k, train):\n",
    "    test_row_features_array = row_to_array(row, features)\n",
    "    distances = make_array()\n",
    "    for train_row in train.rows: # goes through every row in our training set\n",
    "        train_row_features_array = row_to_array(train_row, features)\n",
    "        row_distance = ...\n",
    "        distances = ...\n",
    "    train_with_distances = ...\n",
    "    nearest_neighbors = ...\n",
    "    most_common_label = ...\n",
    "    ...\n",
    "    \n",
    "\n",
    "# Don't modify/delete the code below\n",
    "first_test = classify(test.row(0), 5, train)\n",
    "first_test"
   ]
  },
  {
   "cell_type": "code",
   "execution_count": null,
   "id": "2cc82df5",
   "metadata": {
    "deletable": false,
    "editable": false
   },
   "outputs": [],
   "source": [
    "grader.check(\"q2_1_5\")"
   ]
  },
  {
   "cell_type": "markdown",
   "id": "ba4d4df8",
   "metadata": {
    "deletable": false,
    "editable": false
   },
   "source": [
    "#### Question 2.1.6\n",
    "\n",
    "Now that we have defined our K-Nearest Neighbor Classifier, let’s test the accuracy of our model!\n",
    "\n",
    "Below we have defined a function called `my_classifier` which currently classifies our penguins using 5 nearest neighbors. Feel free to change it using any ODD number you want :)\n",
    "\n",
    "Then we have `test_with_prediction` which is our original test table with a column called ‘prediction’ which indicates which penguin our classifier predicts each penguin as depending on their features.\n",
    "\n",
    "<!--\n",
    "BEGIN QUESTION\n",
    "name: q2_1_6\n",
    "-->"
   ]
  },
  {
   "cell_type": "code",
   "execution_count": 39,
   "id": "ad6ac0dc",
   "metadata": {},
   "outputs": [],
   "source": [
    "def my_classifier(row):\n",
    "    return classify(row, 5, train)\n",
    "\n",
    "test_with_prediction = test.drop('island', 'sex').with_column(\"prediction\", test.apply(my_classifier))\n",
    "\n",
    "accuracy = ...\n",
    "accuracy"
   ]
  },
  {
   "cell_type": "code",
   "execution_count": null,
   "id": "8f649962",
   "metadata": {
    "deletable": false,
    "editable": false
   },
   "outputs": [],
   "source": [
    "grader.check(\"q2_1_6\")"
   ]
  },
  {
   "cell_type": "markdown",
   "id": "123dc75d",
   "metadata": {
    "deletable": false,
    "editable": false
   },
   "source": [
    "<!-- BEGIN QUESTION -->\n",
    "\n",
    "#### Question 2.1.7\n",
    "\n",
    "Why do we use an odd-numbered `k` in k-NN? Explain.\n",
    "<!--\n",
    "BEGIN QUESTION\n",
    "name: q2_1_7\n",
    "manual: true\n",
    "-->"
   ]
  },
  {
   "cell_type": "markdown",
   "id": "428d8c9b",
   "metadata": {},
   "source": [
    "_Type your answer here, replacing this text._"
   ]
  },
  {
   "cell_type": "markdown",
   "id": "2c858e98",
   "metadata": {},
   "source": [
    "<!-- END QUESTION -->\n",
    "\n",
    "\n",
    "\n",
    "Alrighty! We have finished with the Penguins dataset, which covers both linear regression and simple K-nearest neighbors."
   ]
  },
  {
   "cell_type": "markdown",
   "id": "19afab57",
   "metadata": {},
   "source": [
    "# PART 3: Show Us What You've Learned!\n",
    "\n",
    "For the final portion of your final, we want you to select your own dataset. We have provided these datasets already for you to use. Look through the data folder and load up any csv as a table. If you would like to use your own dataset, by all means please do so. Simply upload the csv file into the data folder and you are ready to go. Some difficulties you may face is that you might encounter messy datasets with missing values or some other errors. These datasets we have provided for you are already cleaned, so you do not need to worry about that. \n",
    "\n",
    "The datasets we have provided for you are meant for linear regression, but if you are using your own dataset and you want to do K-nearest neighbors classification, then that is great as well.\n",
    "\n",
    "If you would like to do an oral presentation for the final, this would be the section you would do it on!\n",
    "\n",
    "To get full credit on this portion, you must meet all of the following requirements.\n",
    "\n",
    "1. **Clean Table:** Please showcase what your table looks like and explain what each column represents (look in the beginning of the project where it explains what each column has as a reference).\n",
    " - For Linear Regression, you should only have 2 columns at this stage. \n",
    " - For K-nearest neighbors, you should have a target column and multiple (at least 3) predictor feature columns.\n",
    "\n",
    "\n",
    "2. **Methodology:** Depending on whether you are doing linear regression or KNN classification, under each cell of code, please document and write down what you are doing and how each piece of code gets you to the end of your goal (If you do KNN classification, one thing to note is that we typically split our dataset into ~80% training and ~20%). It doesn’t have to be a paragraph for each section, just some sentences to help guide the readers through what you are doing. This will make your project easier for us to understand, as well as showcasing how well you understand which method you choose to do. Example could be something like:\n",
    " - “Here we computed the correlation coefficient r between X and Y”\n",
    " - “Here we used r to compute our slope, and our slope to compute the intercept”\n",
    "\n",
    "\n",
    "3. **Model Performance:** This is when you showcase your model and its performance. \n",
    " - For Linear Regression: We would like to see a scatter plot with the regression line (as done in the first part). Explain what the slope and intercept means in the scope of your data, calculate the RMSE to evaluate the performance of your regression line (not done in this project, but reference an old homework), and do some outside research to explain why you think you got the result that you did.\n",
    " - For KNN Classification, we would like you to build a classification model with the features you chose (at least 3)  and calculate the accuracy score. Then, we would like you to tune your model in two 2 ways: One is changing the k value to a different number (pretty simple), and the other way is adding/removing features to your model (for example, we could have only used 3 columns instead of 4 in our penguin classifier). We want you to experiment with changing up your models in different ways (should have at least 3 models with different parameters in the end) to really showcase how these parameters affect your model. Lastly, we want you to explain what difficulties your KNN classifier may have in relation to your project (as in, what are some reasons your model misclassified your data) and what are some possible ways to solve these issues."
   ]
  },
  {
   "cell_type": "code",
   "execution_count": 42,
   "id": "bfc168eb",
   "metadata": {},
   "outputs": [],
   "source": [
    "# START HERE AND GOOD LUCK!"
   ]
  },
  {
   "cell_type": "code",
   "execution_count": 43,
   "id": "6fb67a27",
   "metadata": {},
   "outputs": [],
   "source": [
    "# REMEMBER TUTORING HOURS ARE OFFERED EVERY DAY \n",
    "# MONDAY - FRIDAY\n",
    "# FIND THE TUTORING HOURS SCHEDULE IN GAUCHOSPACE, UNDER SCHEDULE TAB"
   ]
  },
  {
   "cell_type": "code",
   "execution_count": null,
   "id": "85d4eeef",
   "metadata": {},
   "outputs": [],
   "source": []
  },
  {
   "cell_type": "markdown",
   "id": "3842fae2",
   "metadata": {
    "deletable": false,
    "editable": false
   },
   "source": [
    "<!-- BEGIN QUESTION -->\n",
    "\n",
    "**1. CLEAN TABLE:** \n",
    "- 1 Point for showcasing your new clean table\n",
    "- 1 Point for explaining what each column represents\n",
    "\n",
    "\n",
    "<!--\n",
    "BEGIN QUESTION\n",
    "name: q3_1\n",
    "points: 2\n",
    "manual: true\n",
    "-->"
   ]
  },
  {
   "cell_type": "code",
   "execution_count": null,
   "id": "6bb285f5",
   "metadata": {},
   "outputs": [],
   "source": []
  },
  {
   "cell_type": "markdown",
   "id": "9d00b7b7",
   "metadata": {
    "deletable": false,
    "editable": false
   },
   "source": [
    "<!-- END QUESTION -->"
   ]
  },
  {
   "cell_type": "code",
   "execution_count": null,
   "id": "239dc5cc",
   "metadata": {},
   "outputs": [],
   "source": []
  },
  {
   "cell_type": "markdown",
   "id": "3ca6d90c",
   "metadata": {
    "deletable": false,
    "editable": false
   },
   "source": [
    "<!-- BEGIN QUESTION -->\n",
    "\n",
    "**2. METHODOLOGY:** \n",
    "- 1 Point for documenting your steps\n",
    "- 1 Point clarity and accuracy.\n",
    "\n",
    "\n",
    "<!--\n",
    "BEGIN QUESTION\n",
    "name: q3_2\n",
    "points: 2\n",
    "manual: true\n",
    "-->"
   ]
  },
  {
   "cell_type": "code",
   "execution_count": null,
   "id": "85cd3731",
   "metadata": {},
   "outputs": [],
   "source": []
  },
  {
   "cell_type": "markdown",
   "id": "446f7b53",
   "metadata": {
    "deletable": false,
    "editable": false
   },
   "source": [
    "<!-- END QUESTION -->"
   ]
  },
  {
   "cell_type": "code",
   "execution_count": null,
   "id": "7524d3e7",
   "metadata": {},
   "outputs": [],
   "source": []
  },
  {
   "cell_type": "markdown",
   "id": "ecf5565f",
   "metadata": {
    "deletable": false,
    "editable": false
   },
   "source": [
    "<!-- BEGIN QUESTION -->\n",
    "\n",
    "**3. MODEL PERFORMANCE:** \n",
    "- 1 Point for model showcase (regression scatter plot OR 3 different KNN classifiers)\n",
    "- 1 Point for model performance (RMSE OR Classification Accuracies)\n",
    "- 2 Points for results (explain what your regression equation means (remember to include slope & intercept) and why you believe you got this result OR explain what challenges your classifier may have faced regarding some of its misclassification and what could be done to improve it)\n",
    "\n",
    "<!--\n",
    "BEGIN QUESTION\n",
    "name: q3_2\n",
    "points: 4\n",
    "manual: true\n",
    "-->"
   ]
  },
  {
   "cell_type": "code",
   "execution_count": null,
   "id": "f888b57c",
   "metadata": {},
   "outputs": [],
   "source": []
  },
  {
   "cell_type": "markdown",
   "id": "2683ff93",
   "metadata": {
    "deletable": false,
    "editable": false
   },
   "source": [
    "<!-- END QUESTION -->"
   ]
  },
  {
   "cell_type": "code",
   "execution_count": null,
   "id": "6776963f",
   "metadata": {},
   "outputs": [],
   "source": []
  },
  {
   "cell_type": "markdown",
   "id": "13cdd16e",
   "metadata": {},
   "source": [
    "**Congratulations!**\n",
    "**You have completed the CMPSC 5B Final Project.**"
   ]
  },
  {
   "cell_type": "markdown",
   "id": "a7bfdbc9",
   "metadata": {},
   "source": [
    "## Submit your work\n",
    "\n",
    "Before you submit your work, \n",
    "* Make sure you **save the notebook** first, \n",
    "* Then go up to the `Kernel` menu and select `Restart & Clear Output` (make sure the notebook is saved first, because otherwise, you will lose all your work!). \n",
    "* Now, go to `Cell -> Run All`. Carefully look through your notebook and verify that all computations execute correctly. You should see **no errors**; if there are any errors, make sure to correct them before you submit the notebook.\n",
    "* Then, go to `File -> Download as -> Notebook` and download the notebook to your own computer. ([Please verify](https://ucsb-ds.github.io/ds1-f20/troubleshooting/#i-downloaded-the-notebook-file-but-it-saves-as-the-ipynbjson-extension-so-whenever-i-upload-it-to-gradescope-it-fails) that it got saved as an `.ipynb` file.)\n",
    "* Upload the notebook to [Gradescope](https://www.gradescope.com/)."
   ]
  },
  {
   "cell_type": "code",
   "execution_count": null,
   "id": "942c349c",
   "metadata": {},
   "outputs": [],
   "source": []
  },
  {
   "cell_type": "markdown",
   "id": "2e6d0aaa",
   "metadata": {
    "deletable": false,
    "editable": false
   },
   "source": [
    "---\n",
    "\n",
    "To double-check your work, the cell below will rerun all of the autograder tests."
   ]
  },
  {
   "cell_type": "code",
   "execution_count": null,
   "id": "c0a013d4",
   "metadata": {
    "deletable": false,
    "editable": false
   },
   "outputs": [],
   "source": [
    "grader.check_all()"
   ]
  }
 ],
 "metadata": {
  "hide_code_all_hidden": false,
  "hide_input": false,
  "kernelspec": {
   "display_name": "Python 3 (ipykernel)",
   "language": "python",
   "name": "python3"
  },
  "language_info": {
   "codemirror_mode": {
    "name": "ipython",
    "version": 3
   },
   "file_extension": ".py",
   "mimetype": "text/x-python",
   "name": "python",
   "nbconvert_exporter": "python",
   "pygments_lexer": "ipython3",
   "version": "3.9.10"
  },
  "toc": {
   "base_numbering": 1,
   "nav_menu": {},
   "number_sections": true,
   "sideBar": true,
   "skip_h1_title": false,
   "title_cell": "Table of Contents",
   "title_sidebar": "Contents",
   "toc_cell": false,
   "toc_position": {},
   "toc_section_display": true,
   "toc_window_display": false
  }
 },
 "nbformat": 4,
 "nbformat_minor": 5
}
