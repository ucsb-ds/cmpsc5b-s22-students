{
 "cells": [
  {
   "cell_type": "code",
   "execution_count": null,
   "metadata": {
    "deletable": false,
    "editable": false
   },
   "outputs": [],
   "source": [
    "# Initialize Otter\n",
    "import otter\n",
    "grader = otter.Notebook(\"midterm_project.ipynb\")"
   ]
  },
  {
   "cell_type": "code",
   "execution_count": null,
   "metadata": {},
   "outputs": [],
   "source": []
  },
  {
   "cell_type": "code",
   "execution_count": 1,
   "metadata": {
    "hideCode": false,
    "hidePrompt": false
   },
   "outputs": [],
   "source": [
    "# Run this cell\n",
    "\n",
    "from datascience import *\n",
    "import numpy as np\n",
    "\n",
    "%matplotlib inline\n",
    "import matplotlib.pyplot as plots\n",
    "plots.style.use('fivethirtyeight')\n",
    "np.set_printoptions(legacy='1.13')"
   ]
  },
  {
   "cell_type": "markdown",
   "metadata": {
    "hideCode": false,
    "hidePrompt": false
   },
   "source": [
    "## Logistics\n",
    "\n",
    "**Checkpoint.** For full credit, **you must complete the checkpoint** (this is your first draft of the project). For the checkpoint, you must complete the questions up until the end of Part 2 (indicated by the cell that says \"End of Checkpoint\"), by **Wednesday, Feburary 2, 11:59pm**. Submit in Gradescope.\n",
    "\n",
    "**Deadline.** The full project is due on **Wednesday, Feburary 9, 11:59pm**. It's **much** better to be early than late, so start working now. Submit in Gradescope.\n",
    "\n",
    "**Partners.** You may work with one other partner. Only one of you is required to submit the project in Gradescope.\n",
    "\n",
    "**Rules.** Don't share your code with anybody but your partner. You are welcome to discuss questions with other students, but don't share the answers. The experience of solving the problems in this project will prepare you for exams (and life). If someone asks you for the answer, resist! Instead, you can demonstrate how you would solve a similar problem.\n",
    "\n",
    "**Support.** You are not alone! Come to office hours, post on Piazza, and talk to your classmates. If you want to ask about the details of your solution to a problem, make a private Piazza post and the staff will respond. If you're ever feeling overwhelmed or don't know how to make progress, send a Piazza message (public, private or anonymous) to your TA or ULA for help. \n",
    "\n",
    "**Tests.** Passing the tests for a question **does not** mean that you answered the question correctly. Tests usually only check that your table has the correct column labels. However, more tests will be applied to verify the correctness of your submission in order to assign your final score, so be careful and check your work!\n",
    "\n",
    "**Advice.** Develop your answers incrementally. To perform a complicated table manipulation, break it up into steps, perform each step on a different line, give a new name to each result, and check that each intermediate result is what you expect. You can add any additional names or functions you want to the provided cells. \n",
    "\n",
    "All of the concepts necessary for this project are found in the textbook. If you are stuck on a particular problem, reading through the relevant textbook section often will help clarify the concept."
   ]
  },
  {
   "cell_type": "markdown",
   "metadata": {
    "hideCode": false,
    "hidePrompt": false
   },
   "source": [
    "Here is a roadmap for this project:\n",
    "\n",
    "* In Part 1, we'll investigate whether the speed limit has an effect on limiting car accidents.\n",
    "* In Part 2, we'll look at the salaries of data scientists in different big companies to see if they differ significantly.\n",
    "* In Part 3, you'll design your own experiment using the titanic dataset."
   ]
  },
  {
   "cell_type": "markdown",
   "metadata": {
    "hideCode": false,
    "hidePrompt": false
   },
   "source": [
    "## Part 1: SPEED LIMIT AND ACCIDENTS"
   ]
  },
  {
   "cell_type": "markdown",
   "metadata": {
    "hideCode": false,
    "hidePrompt": false
   },
   "source": [
    "In 1961-1962, an experiment was conducted in Sweden to assess whether the implementation of a speed limit reduced the amount of accidents on a highway. Researchers found that cars tended to drive significantly faster on days without a speed limit than days with one. \n",
    "\n",
    "Our [dataset](https://r-data.pmagunia.com/dataset/r-dataset-package-mass-traffic) contains the following rows and information:\n",
    "1. **year** - indicates the year\n",
    "2. **day** - indicates the day of the year eg. 1 = Jan 1, 2 = Jan 2, etc.\n",
    "3. **limit** - whether there was a speed limit enforced on that day\n",
    "4. **accidents** - count of how many accidents there was recorded on that singular day"
   ]
  },
  {
   "cell_type": "code",
   "execution_count": 2,
   "metadata": {
    "hideCode": false,
    "hidePrompt": false,
    "scrolled": true
   },
   "outputs": [],
   "source": [
    "# Run this cell\n",
    "traffic = Table.read_table('data/traffic.csv')\n",
    "traffic.show(5)"
   ]
  },
  {
   "cell_type": "markdown",
   "metadata": {
    "deletable": false,
    "editable": false,
    "hideCode": false,
    "hidePrompt": false
   },
   "source": [
    "**Question 1** \n",
    "\n",
    "Before we conduct any statistical analysis, we should do some data exploration. First, let's see if there is a difference in average accidents for days with a speed limit versus days without one.\n",
    "\n",
    "Create a table named `accidents`, with two columns and two rows. The two columns should be \"limit\" and \"accidents mean\" There should be one row for whether there was a speed limit ('yes') and not ('no'), and each row should encode the average accidents depending on whether there was a speed limit imposed.\n",
    "\n",
    "<!--\n",
    "BEGIN QUESTION\n",
    "name: q1_1\n",
    "-->"
   ]
  },
  {
   "cell_type": "code",
   "execution_count": 3,
   "metadata": {
    "hideCode": false,
    "hidePrompt": false,
    "scrolled": true
   },
   "outputs": [],
   "source": [
    "accidents = ...\n",
    "accidents"
   ]
  },
  {
   "cell_type": "code",
   "execution_count": null,
   "metadata": {
    "deletable": false,
    "editable": false
   },
   "outputs": [],
   "source": [
    "grader.check(\"q1_1\")"
   ]
  },
  {
   "cell_type": "markdown",
   "metadata": {
    "deletable": false,
    "editable": false,
    "hideCode": false,
    "hidePrompt": false
   },
   "source": [
    "<!-- BEGIN QUESTION -->\n",
    "\n",
    "**Question 2.** Let's visualize our data.\n",
    "\n",
    "Create a bar chart to visualize the difference in these two groups. For a refresher on how to create a bar chart, please reference the textbook: [Ch 7.1.1 Bar Chart](https://inferentialthinking.com/chapters/07/1/Visualizing_Categorical_Distributions.html#bar-chart)\n",
    "\n",
    "<!--\n",
    "BEGIN QUESTION\n",
    "name: q1_2\n",
    "points: 1\n",
    "manual: true\n",
    "-->"
   ]
  },
  {
   "cell_type": "code",
   "execution_count": 8,
   "metadata": {
    "hideCode": false,
    "hidePrompt": false,
    "scrolled": true
   },
   "outputs": [],
   "source": [
    "# Create Bar Histogram Here\n",
    "\n",
    "..."
   ]
  },
  {
   "cell_type": "markdown",
   "metadata": {
    "deletable": false,
    "editable": false,
    "hideCode": false,
    "hidePrompt": false
   },
   "source": [
    "<!-- END QUESTION -->\n",
    "\n",
    "**Question 3:**\n",
    "Through our visualization, we can see that there are on average more accidents on days without a speed limit. Thus, we define our hypothesis as follows:\n",
    "\n",
    "**Test Statistic:** The average difference of accidents between days with no speed limit and days with a speed limit.\n",
    "\n",
    "**Null Hypothesis:** The speed limit does not affect the amount of accidents on any given day. Any deviation is due to random chance\n",
    "\n",
    "**Alternative Hypothesis:** The speed limit does reduce the amount of accidents on any given day.\n",
    "\n",
    "In the cell below, write a code to compute the average difference of accidents for days with a speed limit versus days without one.\n",
    "\n",
    "<!--\n",
    "BEGIN QUESTION\n",
    "name: q1_3\n",
    "-->"
   ]
  },
  {
   "cell_type": "code",
   "execution_count": 9,
   "metadata": {
    "hideCode": false,
    "hidePrompt": false
   },
   "outputs": [],
   "source": [
    "accidents_observed_statistic = ...\n",
    "accidents_observed_statistic"
   ]
  },
  {
   "cell_type": "code",
   "execution_count": null,
   "metadata": {
    "deletable": false,
    "editable": false
   },
   "outputs": [],
   "source": [
    "grader.check(\"q1_3\")"
   ]
  },
  {
   "cell_type": "markdown",
   "metadata": {
    "deletable": false,
    "editable": false,
    "hideCode": false,
    "hidePrompt": false
   },
   "source": [
    "**Question 4:** Now, create a function `compute_accidents_test_statistic` which takes in a table like traffic and computes our test statistic, which is the average difference of accidents between days with no speed limit and days with a speed limit.\n",
    "\n",
    "This function should combine what was done in Q1 and Q3, and should have the same output as Q3.\n",
    "<!--\n",
    "BEGIN QUESTION\n",
    "name: q1_4\n",
    "-->"
   ]
  },
  {
   "cell_type": "code",
   "execution_count": 12,
   "metadata": {
    "hideCode": false,
    "hidePrompt": false
   },
   "outputs": [],
   "source": [
    "def compute_accidents_test_statistic(tbl):\n",
    "    ...\n",
    "    \n",
    "traffic_observed_statistic = compute_accidents_test_statistic(traffic)\n",
    "traffic_observed_statistic"
   ]
  },
  {
   "cell_type": "code",
   "execution_count": null,
   "metadata": {
    "deletable": false,
    "editable": false
   },
   "outputs": [],
   "source": [
    "grader.check(\"q1_4\")"
   ]
  },
  {
   "cell_type": "markdown",
   "metadata": {
    "deletable": false,
    "editable": false,
    "hideCode": false,
    "hidePrompt": false
   },
   "source": [
    "**Question 5:** Now that we have defined hypotheses and a test statistic, we are ready to conduct a hypothesis test. We'll start by defining a function to simulate the test statistic under the null hypothesis, and then use that function 1000 times to understand the distribution under the null hypothesis.\n",
    "\n",
    "Write a function to simulate the test statistic under the null hypothesis. \n",
    "\n",
    "The `simulate_traffic_null` function should simulate the null hypothesis once (not 1000 times) and return the value of the test statistic for that simulated sample.\n",
    "\n",
    "**HINT:** This is similar to that of your Death Penalty lab! We are trying to conduct A/B testing!\n",
    "\n",
    "<!--\n",
    "BEGIN QUESTION\n",
    "name: q1_5\n",
    "-->"
   ]
  },
  {
   "cell_type": "code",
   "execution_count": 15,
   "metadata": {
    "hideCode": false,
    "hidePrompt": false
   },
   "outputs": [],
   "source": [
    "def simulate_traffic_null():\n",
    "    ...\n",
    "    \n",
    "# Run your function once to make sure that it works.\n",
    "simulate_traffic_null()"
   ]
  },
  {
   "cell_type": "code",
   "execution_count": null,
   "metadata": {
    "deletable": false,
    "editable": false
   },
   "outputs": [],
   "source": [
    "grader.check(\"q1_5\")"
   ]
  },
  {
   "cell_type": "markdown",
   "metadata": {
    "deletable": false,
    "editable": false,
    "hideCode": false,
    "hidePrompt": false
   },
   "source": [
    "<!-- BEGIN QUESTION -->\n",
    "\n",
    "**Question 6:** Fill in the blanks below to complete the simulation for the hypothesis test. Your simulation should compute 1000 values of the test statistic under the null hypothesis and store the result in the array `accidents_simulated_stats`.\n",
    "\n",
    "*Hint*: You should use the function you wrote above in Question 5.\n",
    "\n",
    "*Note*: Warning: running should only take a couple minutes at max!  We encourage you to check your `simulate_traffic_null()` code to make sure it works correctly before running this cell. \n",
    "<!--\n",
    "BEGIN QUESTION\n",
    "name: q1_6\n",
    "points: 1\n",
    "manual: true\n",
    "-->"
   ]
  },
  {
   "cell_type": "code",
   "execution_count": 17,
   "metadata": {
    "hideCode": false,
    "hidePrompt": false
   },
   "outputs": [],
   "source": [
    "accidents_simulated_stats = make_array()\n",
    "\n",
    "for i in np.arange(1000):\n",
    "    ..."
   ]
  },
  {
   "cell_type": "markdown",
   "metadata": {
    "hideCode": false,
    "hidePrompt": false
   },
   "source": [
    "<!-- END QUESTION -->\n",
    "\n",
    "\n",
    "\n",
    "The following line will plot the histogram of the simulated test statistics, as well as a point for the observed test statistic. Make sure to run it, as it will be graded. "
   ]
  },
  {
   "cell_type": "code",
   "execution_count": 18,
   "metadata": {
    "hideCode": false,
    "hidePrompt": false
   },
   "outputs": [],
   "source": [
    "# RUN THIS CELL FOR PLOT\n",
    "\n",
    "Table().with_column('Simulated statistics', accidents_simulated_stats).hist()\n",
    "plots.scatter(accidents_observed_statistic, 0, color='red', s=100)\n",
    "plots.axvline(x=accidents_observed_statistic, color = 'red');"
   ]
  },
  {
   "cell_type": "markdown",
   "metadata": {
    "deletable": false,
    "editable": false,
    "hideCode": false,
    "hidePrompt": false
   },
   "source": [
    "**Question 7:** Compute the p-value for this hypothesis test, and assign it to the name `accidents_p_value`.\n",
    "\n",
    "<!--\n",
    "BEGIN QUESTION\n",
    "name: q1_7\n",
    "-->"
   ]
  },
  {
   "cell_type": "code",
   "execution_count": 19,
   "metadata": {
    "hideCode": false,
    "hidePrompt": false
   },
   "outputs": [],
   "source": [
    "accidents_p_value = ...\n",
    "accidents_p_value"
   ]
  },
  {
   "cell_type": "code",
   "execution_count": null,
   "metadata": {
    "deletable": false,
    "editable": false
   },
   "outputs": [],
   "source": [
    "grader.check(\"q1_7\")"
   ]
  },
  {
   "cell_type": "markdown",
   "metadata": {
    "deletable": false,
    "editable": false,
    "hideCode": false,
    "hidePrompt": false
   },
   "source": [
    "<!-- BEGIN QUESTION -->\n",
    "\n",
    "**Question 8:** Using the P-Value above, what can we conclude about the implimentation of a speed limit in reference to the difference of accidents? Test under a p-value cutoff of 0.05.\n",
    "\n",
    "**What does our p-value mean in this experiment?**\n",
    "\n",
    "<!--\n",
    "BEGIN QUESTION\n",
    "name: q1_8\n",
    "points: 1\n",
    "manual: true\n",
    "-->"
   ]
  },
  {
   "cell_type": "markdown",
   "metadata": {},
   "source": [
    "_Type your answer here, replacing this text._"
   ]
  },
  {
   "cell_type": "markdown",
   "metadata": {
    "hideCode": false,
    "hidePrompt": false
   },
   "source": [
    "<!-- END QUESTION -->\n",
    "\n",
    "\n",
    "\n",
    "## Part 2: DATA SCIENCE COMPENSATION"
   ]
  },
  {
   "cell_type": "markdown",
   "metadata": {
    "hideCode": false,
    "hidePrompt": false
   },
   "source": [
    "[Kaggle](https://www.kaggle.com/) is a community for anyone interested in data science. There are people with experience ranging from complete beginners to experts within the field. There are also datasets on Kaggle on any topic imaginable for anyone to conduct data science methods on!\n",
    "\n",
    "One such dataset includes the salaries records of many top companies- [source](https://www.kaggle.com/jackogozaly/data-science-and-stem-salaries?select=Levels_Fyi_Salary_Data.csv).\n",
    "\n",
    "This dataset is quite large, but we have cleaned and refined it to only have data relevant for our experiment. The columns are as follows:\n",
    "\n",
    "1. **company** - The company an individual works in, either Facebook or Microsoft\n",
    "2. **title** - Their job title (which are all data scientists)\n",
    "3. **total_compensation** - Their base pay\n",
    "4. **years_of_experience** - How many years of total work experience the individual has at their respective title.\n",
    "5. **years_at_company** - How long the individual has stayed in their respective company."
   ]
  },
  {
   "cell_type": "code",
   "execution_count": 21,
   "metadata": {
    "hideCode": false,
    "hidePrompt": false,
    "scrolled": true
   },
   "outputs": [],
   "source": [
    "# load csv\n",
    "\n",
    "ds = Table.read_table('data/ds_data.csv')\n",
    "ds.show(5)"
   ]
  },
  {
   "cell_type": "markdown",
   "metadata": {
    "deletable": false,
    "editable": false,
    "hideCode": false,
    "hidePrompt": false
   },
   "source": [
    "**Question 1.** Companies like Facebook and Microsoft are titans in the tech industries, but do they pay their data scientists the same?\n",
    "\n",
    "Create a table named `compensation`, with two columns and two rows. The two columns should be \"company\" and \"total_compensation mean\" There should be one row for Facebook and one row for Microsoft group, and each row should encode the total average salary of data scientisits within their respective company.\n",
    "\n",
    "<!--\n",
    "BEGIN QUESTION\n",
    "name: q2_1\n",
    "-->"
   ]
  },
  {
   "cell_type": "code",
   "execution_count": 22,
   "metadata": {
    "hideCode": false,
    "hidePrompt": false,
    "scrolled": true
   },
   "outputs": [],
   "source": [
    "compensation = ...\n",
    "compensation"
   ]
  },
  {
   "cell_type": "code",
   "execution_count": null,
   "metadata": {
    "deletable": false,
    "editable": false
   },
   "outputs": [],
   "source": [
    "grader.check(\"q2_1\")"
   ]
  },
  {
   "cell_type": "markdown",
   "metadata": {
    "deletable": false,
    "editable": false,
    "hideCode": false,
    "hidePrompt": false
   },
   "source": [
    "<!-- BEGIN QUESTION -->\n",
    "\n",
    "**Question 2.**  Then, then create a bar chart to visualize the difference in these two groups. \n",
    "<!--\n",
    "BEGIN QUESTION\n",
    "name: q2_2\n",
    "points: 1\n",
    "manual: true\n",
    "-->"
   ]
  },
  {
   "cell_type": "code",
   "execution_count": 27,
   "metadata": {
    "hideCode": false,
    "hidePrompt": false,
    "scrolled": true
   },
   "outputs": [],
   "source": [
    "# Create Bar Histogram Here\n",
    "\n",
    "..."
   ]
  },
  {
   "cell_type": "markdown",
   "metadata": {
    "deletable": false,
    "editable": false,
    "hideCode": false,
    "hidePrompt": false
   },
   "source": [
    "<!-- END QUESTION -->\n",
    "\n",
    "**Question 3:**\n",
    "\n",
    "Through our visualization, we can see that Facebook on average pays more than Microsoft. Thus, we define our hypothesis as follows:\n",
    "\n",
    "**Test Statistic:** The average difference of salaries of data scientists in Facebook vs Microsoft.\n",
    "\n",
    "**Null Hypothesis:** Facebook and Microsoft pay their data scientists the same. Any deviation is due to random chance\n",
    "\n",
    "**Alternative Hypothesis:** Facebook pays their data scientists more than Microsoft.\n",
    "\n",
    "In the cell below, write a code to compute the average difference of salaries for data scientists in Facebook vs Microsoft.\n",
    "\n",
    "<!--\n",
    "BEGIN QUESTION\n",
    "name: q2_3\n",
    "-->"
   ]
  },
  {
   "cell_type": "code",
   "execution_count": 28,
   "metadata": {
    "hideCode": false,
    "hidePrompt": false
   },
   "outputs": [],
   "source": [
    "comp_diff = ...\n",
    "comp_diff"
   ]
  },
  {
   "cell_type": "code",
   "execution_count": null,
   "metadata": {
    "deletable": false,
    "editable": false
   },
   "outputs": [],
   "source": [
    "grader.check(\"q2_3\")"
   ]
  },
  {
   "cell_type": "markdown",
   "metadata": {
    "deletable": false,
    "editable": false,
    "hideCode": false,
    "hidePrompt": false
   },
   "source": [
    "<!-- BEGIN QUESTION -->\n",
    "\n",
    "**Question 4:** In the code cell below, do any sort of exploratory analysis (like visualizing total compensation versus years of experience) and create an inferential/observational comment based on your code. For example, your exploratory code may lead you to find that there may be other outside factors aside from which company data scientists work in that determine the total compensation.\n",
    "\n",
    "You will get full credit as long as there is some exploratory coding and thoughtful analysis.\n",
    "\n",
    "<!--\n",
    "BEGIN QUESTION\n",
    "name: q2_4\n",
    "points: 2\n",
    "manual: true\n",
    "-->"
   ]
  },
  {
   "cell_type": "code",
   "execution_count": 32,
   "metadata": {
    "hideCode": false,
    "hidePrompt": false
   },
   "outputs": [],
   "source": [
    "# CODING HERE"
   ]
  },
  {
   "cell_type": "markdown",
   "metadata": {},
   "source": [
    "_Type your answer here, replacing this text._"
   ]
  },
  {
   "cell_type": "markdown",
   "metadata": {
    "deletable": false,
    "editable": false,
    "hideCode": false,
    "hidePrompt": false
   },
   "source": [
    "<!-- END QUESTION -->\n",
    "\n",
    "**Question 5:** Now, create a function `compensation_diff` which takes in a table like `ds` and computes our test statistic, which is the average difference of salaries of data scientists in Facebook vs Microsoft.\n",
    "\n",
    "<!--\n",
    "BEGIN QUESTION\n",
    "name: q2_5\n",
    "-->"
   ]
  },
  {
   "cell_type": "code",
   "execution_count": 33,
   "metadata": {
    "hideCode": false,
    "hidePrompt": false
   },
   "outputs": [],
   "source": [
    "def compensation_diff(tbl):\n",
    "    \"\"\"Returns the absolute difference in average salary between the two groups (companies)\"\"\"\n",
    "    ...\n",
    "    \n",
    "compensation_diff(ds)"
   ]
  },
  {
   "cell_type": "code",
   "execution_count": null,
   "metadata": {
    "deletable": false,
    "editable": false
   },
   "outputs": [],
   "source": [
    "grader.check(\"q2_5\")"
   ]
  },
  {
   "cell_type": "markdown",
   "metadata": {
    "deletable": false,
    "editable": false,
    "hideCode": false,
    "hidePrompt": false
   },
   "source": [
    "**Question 6:** Fill in the function `one_bootstrap_cd` so that it generates one bootstrap sample and computes the difference of compensation between Facebook and Microsoft. Assign `bootstrap_cds` to 1000 computation of our test statistic from our bootstrapped sample.\n",
    "\n",
    "\n",
    "<!--\n",
    "BEGIN QUESTION\n",
    "name: q2_6\n",
    "-->"
   ]
  },
  {
   "cell_type": "code",
   "execution_count": 37,
   "metadata": {
    "hideCode": false,
    "hidePrompt": false
   },
   "outputs": [],
   "source": [
    "def one_bootstrap_cd():\n",
    "    return ...\n",
    "\n",
    "bootstrap_cds = ...\n",
    "for i in np.arange(1000):\n",
    "    new_bootstrap_cd = ...\n",
    "    bootstrap_cds = ...\n"
   ]
  },
  {
   "cell_type": "code",
   "execution_count": null,
   "metadata": {
    "deletable": false,
    "editable": false
   },
   "outputs": [],
   "source": [
    "grader.check(\"q2_6\")"
   ]
  },
  {
   "cell_type": "markdown",
   "metadata": {
    "deletable": false,
    "editable": false,
    "hideCode": false,
    "hidePrompt": false
   },
   "source": [
    "**Question 7:** Use these bootstrapped values to compute a 99% confidence interval, storing the left endpoint as `ci_left` and the right endpoint as `ci_right`.\n",
    "\n",
    "<!--\n",
    "BEGIN QUESTION\n",
    "name: q2_7\n",
    "-->"
   ]
  },
  {
   "cell_type": "code",
   "execution_count": 40,
   "metadata": {
    "hideCode": false,
    "hidePrompt": false
   },
   "outputs": [],
   "source": [
    "ci_left = ...\n",
    "ci_right = ...\n",
    "\n",
    "print(\"Middle 99% of bootstrappped compensation difference: [{:f}, {:f}]\".format(ci_left, ci_right))"
   ]
  },
  {
   "cell_type": "code",
   "execution_count": null,
   "metadata": {
    "deletable": false,
    "editable": false
   },
   "outputs": [],
   "source": [
    "grader.check(\"q2_7\")"
   ]
  },
  {
   "cell_type": "markdown",
   "metadata": {
    "hideCode": false,
    "hidePrompt": false
   },
   "source": [
    "Run the cell below to generate a histogram of the compensation difference between Facebook and Microsoft alongside our confidence interval!"
   ]
  },
  {
   "cell_type": "code",
   "execution_count": 44,
   "metadata": {
    "hideCode": false,
    "hidePrompt": false
   },
   "outputs": [],
   "source": [
    "Table().with_column(\"Compensation Difference (Facebook - Microsoft)\", bootstrap_cds).hist()\n",
    "plots.plot([ci_left, ci_right], [.0000005,.0000005], color=\"gold\");"
   ]
  },
  {
   "cell_type": "markdown",
   "metadata": {
    "deletable": false,
    "editable": false,
    "hideCode": false,
    "hidePrompt": false
   },
   "source": [
    "<!-- BEGIN QUESTION -->\n",
    "\n",
    "**Question 8:** Based on the histogram above, do we reject the null hypothesis? What led you to choose your decision?\n",
    "\n",
    "<!--\n",
    "BEGIN QUESTION\n",
    "name: q2_8\n",
    "points: 1\n",
    "manual: true\n",
    "-->\n"
   ]
  },
  {
   "cell_type": "markdown",
   "metadata": {},
   "source": [
    "_Type your answer here, replacing this text._"
   ]
  },
  {
   "cell_type": "markdown",
   "metadata": {
    "deletable": false,
    "editable": false,
    "hideCode": false,
    "hidePrompt": false
   },
   "source": [
    "<!-- END QUESTION -->\n",
    "\n",
    "**Question 9:** We've conducted the same experiment but for Amazon vs Microsoft and generated this histogram. Based on this histogram, should we reject the null hypothesis?\n",
    "Assume the null hypothesis is that there is no difference between Amazon data scientist salaries versus Microsoft.\n",
    "\n",
    "<!--\n",
    "BEGIN QUESTION\n",
    "name: q2_9\n",
    "-->\n",
    "\n",
    "1. Reject the null\n",
    "2. Fall to reject the null\n",
    "3. Not enough info\n",
    "\n",
    "\n",
    "<img src=\"data/amazonmicrosoft.png\" width=500>\n"
   ]
  },
  {
   "cell_type": "code",
   "execution_count": 45,
   "metadata": {
    "hideCode": false,
    "hidePrompt": false
   },
   "outputs": [],
   "source": [
    "result = ..."
   ]
  },
  {
   "cell_type": "code",
   "execution_count": null,
   "metadata": {
    "deletable": false,
    "editable": false
   },
   "outputs": [],
   "source": [
    "grader.check(\"q2_9\")"
   ]
  },
  {
   "cell_type": "markdown",
   "metadata": {
    "hideCode": false,
    "hidePrompt": false
   },
   "source": [
    "## End of Checkpoint\n",
    "#### Congratulations, you have reached the checkpoint! \n",
    "\n",
    "Follow the steps in the Submit your Work section (the last section) of this notebook and submit your Midterm Project Checkpoint to Gradescope."
   ]
  },
  {
   "cell_type": "markdown",
   "metadata": {
    "hideCode": false,
    "hidePrompt": false
   },
   "source": [
    "## Part 3: TITANIC\n",
    "\n",
    "For the final portion of the midterm, we want you to design your own statistical analysis! You can reference what we did in the first checkpoint of the midterm along the way. We used A/B testing in part 1 and bootstrapping/confidence intervals in part 2.\n",
    "\n",
    "This is what you will be showcasing during your oral presentations!"
   ]
  },
  {
   "cell_type": "markdown",
   "metadata": {
    "hideCode": false,
    "hidePrompt": false
   },
   "source": [
    "The dataset we are using is called [Titanic.](https://www.kaggle.com/c/titanic) The Titanic was a ship that collided with an iceberg, causing it to sink. Almost 70% of people on board died. This tragedy led to a greater need for safety regulation for ships including the inclusion of more safety rafts and better ship design.\n",
    "\n",
    "The titanic dataset has data for 891 real people aboard the dataset with the following columns:\n",
    "\n",
    "1. **survived** - 0 if the individual did not survive, 1 if they did.\n",
    "2. **sex** -  sex of the individual, either male or female.\n",
    "3. **age** - age of the individual\n",
    "4. **class** - boarding class they are in. (First > Second > Third)\n",
    "5. **who** indicating whether the individual was a man, woman, or child.\n",
    "6. **alone** indicating whether the individual boarded alone or not. "
   ]
  },
  {
   "cell_type": "code",
   "execution_count": 48,
   "metadata": {
    "hideCode": false,
    "hidePrompt": false,
    "scrolled": true
   },
   "outputs": [],
   "source": [
    "# Run this cell\n",
    "titanic = Table.read_table('data/titanic.csv')\n",
    "titanic.show(5)"
   ]
  },
  {
   "cell_type": "markdown",
   "metadata": {
    "hideCode": false,
    "hidePrompt": false
   },
   "source": [
    "We expect five components for this project.\n",
    "\n",
    "1. **EXPLORATORY ANALYSIS** Look at the data to see initial trends; observe your data to formulate a testing idea.\n",
    "\n",
    "\n",
    "2. **HYPOTHESIS/TEST-STATISTIC** Clearly define your test statistic, null hypothesis, and alternate hypothesis. \n",
    "\n",
    "\n",
    "3. **METHOD (a/b testing or bootstrapping)** Clear on which method you are using, either A/B testing or bootstrapping.\n",
    "\n",
    "\n",
    "4. **VISUALIZATION** Visualizations as needed along the way (preferably at least during the exploratory analysis phase and final results). Showing your table does NOT count as a visualization. Bar charts, histograms, scatterplots, or other graphs you think is appropriate for your project should be displayed.\n",
    "\n",
    "\n",
    "5. **RESULTS AND ANALYSIS** Showcase your statistical analysis result and your interpretation for what your results mean.\n",
    "\n",
    "\n",
    "\n",
    "If you are stuck on deciding what kind of experiment you want to do, here are a few ideas: \n",
    "\n",
    "We want to see if certain attributes influence whether one survives the titanic tragedy. Thus, you can compare two different classes (like first and second class) to see whether there is a difference in survival rates between them. You could also analyze whether being male or female influences your chance of survival.\n",
    "\n",
    "You can and should also reference part 1 for A/B testing and part 2 for bootstrapping if you are stuck for anything coding related!"
   ]
  },
  {
   "cell_type": "markdown",
   "metadata": {},
   "source": [
    "### CODING HINTS\n",
    "\n",
    "Here are ways to filter your dataset into only including the data you want.\n",
    "\n",
    "You can make a copy of your original table (in case you want to experiment with transforming your table into something else without changing the original) with the following code:\n",
    "\n",
    "`table_name = table.copy()`\n",
    "\n",
    "You can select the columns you want from a table as follows:\n",
    "\n",
    "`table_name = table.select('column1', 'column3')`\n",
    "\n",
    "You can see the results with:\n",
    "\n",
    "`table_name.show(5)`\n",
    "\n",
    "For columns containing 3 unique values, you can condense this down to 2 by removing all rows of a certain value (eg. if you want to compare boarding class First vs Second, you want to remove boarding class Third). Example code is:\n",
    "\n",
    "`table_name = table.where('column_name', are.not_containing('Value that you DONT want'))`\n",
    "\n",
    "You can make a new cell below the current cell you are on by clicking on the + button (red box in image) and change the type of cell to be code (for coding purposes) or markdown (for writing purposes) by clicking on the blue dropdown box\n",
    "\n",
    "<img src=\"data/tooltips.png\" width=1000>"
   ]
  },
  {
   "cell_type": "code",
   "execution_count": 49,
   "metadata": {},
   "outputs": [],
   "source": [
    "# START HERE AND GOOD LUCK!"
   ]
  },
  {
   "cell_type": "code",
   "execution_count": 50,
   "metadata": {},
   "outputs": [],
   "source": [
    "# REMEMBER TUTORING HOURS ARE OFFERED EVERY DAY \n",
    "# MONDAY - FRIDAY\n",
    "# FIND THE TUTORING HOURS SCHEDULE IN GAUCHOSPACE, UNDER SCHEDULE TAB"
   ]
  },
  {
   "cell_type": "code",
   "execution_count": null,
   "metadata": {},
   "outputs": [],
   "source": []
  },
  {
   "cell_type": "markdown",
   "metadata": {
    "deletable": false,
    "editable": false
   },
   "source": [
    "<!-- BEGIN QUESTION -->\n",
    "\n",
    "**1. EXPLORATORY ANALYSIS:** \n",
    "Look at the data to see initial trends; observe your data to formulate a testing idea.\n",
    "\n",
    "\n",
    "<!--\n",
    "BEGIN QUESTION\n",
    "name: q3_1\n",
    "points: 2\n",
    "manual: true\n",
    "-->"
   ]
  },
  {
   "cell_type": "code",
   "execution_count": null,
   "metadata": {},
   "outputs": [],
   "source": []
  },
  {
   "cell_type": "markdown",
   "metadata": {
    "deletable": false,
    "editable": false
   },
   "source": [
    "<!-- END QUESTION -->"
   ]
  },
  {
   "cell_type": "code",
   "execution_count": null,
   "metadata": {},
   "outputs": [],
   "source": []
  },
  {
   "cell_type": "markdown",
   "metadata": {
    "deletable": false,
    "editable": false
   },
   "source": [
    "<!-- BEGIN QUESTION -->\n",
    "\n",
    "**2. HYPOTHESIS/TEST-STATISTIC:** Clearly define your test statistic, null hypothesis, and alternate hypothesis. \n",
    "\n",
    "<!--\n",
    "BEGIN QUESTION\n",
    "name: q3_2\n",
    "points: 2\n",
    "manual: true\n",
    "-->"
   ]
  },
  {
   "cell_type": "code",
   "execution_count": null,
   "metadata": {},
   "outputs": [],
   "source": []
  },
  {
   "cell_type": "markdown",
   "metadata": {
    "deletable": false,
    "editable": false
   },
   "source": [
    "<!-- END QUESTION -->"
   ]
  },
  {
   "cell_type": "code",
   "execution_count": null,
   "metadata": {},
   "outputs": [],
   "source": []
  },
  {
   "cell_type": "markdown",
   "metadata": {
    "deletable": false,
    "editable": false
   },
   "source": [
    "<!-- BEGIN QUESTION -->\n",
    "\n",
    "**3. METHOD (A/B testing or Bootstrapping):** Clear on which method you are using, either A/B testing or bootstrapping.\n",
    "\n",
    "\n",
    "<!--\n",
    "BEGIN QUESTION\n",
    "name: q3_3\n",
    "points: 2\n",
    "manual: true\n",
    "-->"
   ]
  },
  {
   "cell_type": "code",
   "execution_count": null,
   "metadata": {},
   "outputs": [],
   "source": []
  },
  {
   "cell_type": "markdown",
   "metadata": {
    "deletable": false,
    "editable": false
   },
   "source": [
    "<!-- END QUESTION -->"
   ]
  },
  {
   "cell_type": "code",
   "execution_count": null,
   "metadata": {},
   "outputs": [],
   "source": []
  },
  {
   "cell_type": "markdown",
   "metadata": {
    "deletable": false,
    "editable": false
   },
   "source": [
    "<!-- BEGIN QUESTION -->\n",
    "\n",
    "4. **VISUALIZATION** Visualizations as needed along the way (preferably at least during the exploratory analysis phase and final results).\n",
    "\n",
    "<!--\n",
    "BEGIN QUESTION\n",
    "name: q3_4\n",
    "points: 2\n",
    "manual: true\n",
    "-->"
   ]
  },
  {
   "cell_type": "code",
   "execution_count": null,
   "metadata": {},
   "outputs": [],
   "source": []
  },
  {
   "cell_type": "markdown",
   "metadata": {},
   "source": [
    "<!-- END QUESTION -->\n",
    "\n",
    "\n",
    "\n",
    "5. **RESULTS AND ANALYSIS** Showcase your statistical analysis result and your interpretation for what your results mean by answering the following questions.\n",
    "\n",
    "\n"
   ]
  },
  {
   "cell_type": "markdown",
   "metadata": {
    "deletable": false,
    "editable": false
   },
   "source": [
    "<!-- BEGIN QUESTION -->\n",
    "\n",
    "5.1. FOR A/B TESTING: What is your p-value? What does your p-value mean?\n",
    "\n",
    "<!--\n",
    "BEGIN QUESTION\n",
    "name: q3_5\n",
    "points: 1\n",
    "manual: true\n",
    "-->"
   ]
  },
  {
   "cell_type": "code",
   "execution_count": null,
   "metadata": {},
   "outputs": [],
   "source": []
  },
  {
   "cell_type": "markdown",
   "metadata": {
    "deletable": false,
    "editable": false
   },
   "source": [
    "<!-- END QUESTION -->\n",
    "\n",
    "<!-- BEGIN QUESTION -->\n",
    "\n",
    "5.2. FOR BOOTSTRAP: What is your confidence interval? What does your confidence interval mean?\n",
    "\n",
    "<!--\n",
    "BEGIN QUESTION\n",
    "name: q3_6\n",
    "points: 1\n",
    "manual: true\n",
    "-->"
   ]
  },
  {
   "cell_type": "code",
   "execution_count": null,
   "metadata": {},
   "outputs": [],
   "source": []
  },
  {
   "cell_type": "markdown",
   "metadata": {
    "deletable": false,
    "editable": false
   },
   "source": [
    "<!-- END QUESTION -->\n",
    "\n",
    "<!-- BEGIN QUESTION -->\n",
    "\n",
    "5.3. Based on your p-value OR confidence interval, do you reject the null hypothesis? Use p-cutoff of 5% or 95% C.I. interval\n",
    "\n",
    "<!--\n",
    "BEGIN QUESTION\n",
    "name: q3_7\n",
    "points: 1\n",
    "manual: true\n",
    "-->"
   ]
  },
  {
   "cell_type": "code",
   "execution_count": null,
   "metadata": {},
   "outputs": [],
   "source": []
  },
  {
   "cell_type": "markdown",
   "metadata": {
    "deletable": false,
    "editable": false
   },
   "source": [
    "<!-- END QUESTION -->\n",
    "\n",
    "<!-- BEGIN QUESTION -->\n",
    "\n",
    "5.4. What could be a possible explanation for why you receive the result that you did? AKA, why do you believe there is a difference (OR why might there not be a difference) between the 2 group you selected?\n",
    "\n",
    "<!--\n",
    "BEGIN QUESTION\n",
    "name: q3_8\n",
    "points: 1\n",
    "manual: true\n",
    "-->"
   ]
  },
  {
   "cell_type": "code",
   "execution_count": null,
   "metadata": {},
   "outputs": [],
   "source": []
  },
  {
   "cell_type": "markdown",
   "metadata": {},
   "source": [
    "<!-- END QUESTION -->\n",
    "\n",
    "\n",
    "\n",
    "**Congratulations!**\n",
    "**You have completed the CMPSC 5B Midterm Project.**"
   ]
  },
  {
   "cell_type": "markdown",
   "metadata": {},
   "source": [
    "## Submit your work\n",
    "\n",
    "Before you submit your work, \n",
    "* Make sure you **save the notebook** first, \n",
    "* Then go up to the `Kernel` menu and select `Restart & Clear Output` (make sure the notebook is saved first, because otherwise, you will lose all your work!). \n",
    "* Now, go to `Cell -> Run All`. Carefully look through your notebook and verify that all computations execute correctly. You should see **no errors**; if there are any errors, make sure to correct them before you submit the notebook.\n",
    "* Then, go to `File -> Download as -> Notebook` and download the notebook to your own computer. ([Please verify](https://ucsb-ds.github.io/ds1-f20/troubleshooting/#i-downloaded-the-notebook-file-but-it-saves-as-the-ipynbjson-extension-so-whenever-i-upload-it-to-gradescope-it-fails) that it got saved as an `.ipynb` file.)\n",
    "* Upload the notebook to [Gradescope](https://www.gradescope.com/).\n",
    "\n",
    "Congratulations! You are done!"
   ]
  },
  {
   "cell_type": "code",
   "execution_count": null,
   "metadata": {},
   "outputs": [],
   "source": []
  },
  {
   "cell_type": "markdown",
   "metadata": {
    "deletable": false,
    "editable": false
   },
   "source": [
    "---\n",
    "\n",
    "To double-check your work, the cell below will rerun all of the autograder tests."
   ]
  },
  {
   "cell_type": "code",
   "execution_count": null,
   "metadata": {
    "deletable": false,
    "editable": false
   },
   "outputs": [],
   "source": [
    "grader.check_all()"
   ]
  }
 ],
 "metadata": {
  "hide_code_all_hidden": false,
  "hide_input": false,
  "kernelspec": {
   "display_name": "Python 3 (ipykernel)",
   "language": "python",
   "name": "python3"
  },
  "language_info": {
   "codemirror_mode": {
    "name": "ipython",
    "version": 3
   },
   "file_extension": ".py",
   "mimetype": "text/x-python",
   "name": "python",
   "nbconvert_exporter": "python",
   "pygments_lexer": "ipython3",
   "version": "3.9.10"
  },
  "toc": {
   "base_numbering": 1,
   "nav_menu": {},
   "number_sections": false,
   "sideBar": true,
   "skip_h1_title": false,
   "title_cell": "Table of Contents",
   "title_sidebar": "Contents",
   "toc_cell": false,
   "toc_position": {
    "height": "calc(100% - 180px)",
    "left": "10px",
    "top": "150px",
    "width": "165px"
   },
   "toc_section_display": true,
   "toc_window_display": true
  }
 },
 "nbformat": 4,
 "nbformat_minor": 4
}
