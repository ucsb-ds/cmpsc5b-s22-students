{
 "cells": [
  {
   "cell_type": "code",
   "execution_count": 1,
   "metadata": {},
   "outputs": [],
   "source": [
    "from datascience import *\n",
    "import numpy as np\n",
    "import matplotlib\n",
    "from mpl_toolkits.mplot3d import Axes3D\n",
    "%matplotlib inline\n",
    "import matplotlib.pyplot as plots\n",
    "plots.style.use('fivethirtyeight')"
   ]
  },
  {
   "cell_type": "code",
   "execution_count": 2,
   "metadata": {},
   "outputs": [],
   "source": [
    "ckd = Table.read_table('data/ckd.csv')\n",
    "ckd = ckd.relabeled('Blood Glucose Random', 'Glucose').select('Glucose', 'Hemoglobin', 'White Blood Cell Count', 'Class')"
   ]
  },
  {
   "cell_type": "code",
   "execution_count": 3,
   "metadata": {},
   "outputs": [],
   "source": [
    "patients = Table.read_table('data/breast-cancer.csv').drop('ID')\n",
    "\n",
    "def randomize_column(a):\n",
    "    return a + np.random.normal(0.0, 0.09, size=len(a))\n",
    "\n",
    "jittered = Table().with_columns([\n",
    "        'Bland Chromatin (jittered)', \n",
    "        randomize_column(patients.column('Bland Chromatin')),\n",
    "        'Single Epithelial Cell Size (jittered)', \n",
    "        randomize_column(patients.column('Single Epithelial Cell Size')),\n",
    "        'Class',\n",
    "        patients.column('Class')\n",
    "    ])"
   ]
  },
  {
   "cell_type": "markdown",
   "metadata": {},
   "source": [
    "# Google Science Fair"
   ]
  },
  {
   "cell_type": "code",
   "execution_count": 4,
   "metadata": {},
   "outputs": [
    {
     "data": {
      "text/html": [
       "<table border=\"1\" class=\"dataframe\">\n",
       "    <thead>\n",
       "        <tr>\n",
       "            <th>Clump Thickness</th> <th>Uniformity of Cell Size</th> <th>Uniformity of Cell Shape</th> <th>Marginal Adhesion</th> <th>Single Epithelial Cell Size</th> <th>Bare Nuclei</th> <th>Bland Chromatin</th> <th>Normal Nucleoli</th> <th>Mitoses</th> <th>Class</th>\n",
       "        </tr>\n",
       "    </thead>\n",
       "    <tbody>\n",
       "        <tr>\n",
       "            <td>5              </td> <td>1                      </td> <td>1                       </td> <td>1                </td> <td>2                          </td> <td>1          </td> <td>3              </td> <td>1              </td> <td>1      </td> <td>0    </td>\n",
       "        </tr>\n",
       "        <tr>\n",
       "            <td>5              </td> <td>4                      </td> <td>4                       </td> <td>5                </td> <td>7                          </td> <td>10         </td> <td>3              </td> <td>2              </td> <td>1      </td> <td>0    </td>\n",
       "        </tr>\n",
       "        <tr>\n",
       "            <td>3              </td> <td>1                      </td> <td>1                       </td> <td>1                </td> <td>2                          </td> <td>2          </td> <td>3              </td> <td>1              </td> <td>1      </td> <td>0    </td>\n",
       "        </tr>\n",
       "        <tr>\n",
       "            <td>6              </td> <td>8                      </td> <td>8                       </td> <td>1                </td> <td>3                          </td> <td>4          </td> <td>3              </td> <td>7              </td> <td>1      </td> <td>0    </td>\n",
       "        </tr>\n",
       "        <tr>\n",
       "            <td>4              </td> <td>1                      </td> <td>1                       </td> <td>3                </td> <td>2                          </td> <td>1          </td> <td>3              </td> <td>1              </td> <td>1      </td> <td>0    </td>\n",
       "        </tr>\n",
       "    </tbody>\n",
       "</table>\n",
       "<p>... (678 rows omitted)</p>"
      ],
      "text/plain": [
       "<IPython.core.display.HTML object>"
      ]
     },
     "metadata": {},
     "output_type": "display_data"
    }
   ],
   "source": [
    "patients = Table.read_table('data/breast-cancer.csv').drop('ID')\n",
    "patients.show(5)"
   ]
  },
  {
   "cell_type": "code",
   "execution_count": 5,
   "metadata": {},
   "outputs": [
    {
     "data": {
      "text/html": [
       "<table border=\"1\" class=\"dataframe\">\n",
       "    <thead>\n",
       "        <tr>\n",
       "            <th>Class</th> <th>count</th>\n",
       "        </tr>\n",
       "    </thead>\n",
       "    <tbody>\n",
       "        <tr>\n",
       "            <td>0    </td> <td>444  </td>\n",
       "        </tr>\n",
       "        <tr>\n",
       "            <td>1    </td> <td>239  </td>\n",
       "        </tr>\n",
       "    </tbody>\n",
       "</table>"
      ],
      "text/plain": [
       "Class | count\n",
       "0     | 444\n",
       "1     | 239"
      ]
     },
     "execution_count": 5,
     "metadata": {},
     "output_type": "execute_result"
    }
   ],
   "source": [
    "patients.group('Class')"
   ]
  },
  {
   "cell_type": "code",
   "execution_count": 6,
   "metadata": {},
   "outputs": [
    {
     "data": {
      "image/png": "[encoded data removed]",
      "text/plain": [
       "<Figure size 360x360 with 1 Axes>"
      ]
     },
     "metadata": {},
     "output_type": "display_data"
    }
   ],
   "source": [
    "patients.scatter('Bland Chromatin', 'Single Epithelial Cell Size', group='Class')\n",
    "# what thresholds of each attribute improve your group/label predictions?\n",
    "# which areas on the graph may potentially give you poor predictions?\n",
    "\n"
   ]
  },
  {
   "cell_type": "code",
   "execution_count": 7,
   "metadata": {},
   "outputs": [
    {
     "data": {
      "image/png": "[encoded data removed]",
      "text/plain": [
       "<Figure size 360x360 with 1 Axes>"
      ]
     },
     "metadata": {},
     "output_type": "display_data"
    }
   ],
   "source": [
    "jittered.scatter(0, 1, group='Class')"
   ]
  },
  {
   "cell_type": "markdown",
   "metadata": {},
   "source": [
    "## Distance ##"
   ]
  },
  {
   "cell_type": "code",
   "execution_count": 8,
   "metadata": {},
   "outputs": [],
   "source": [
    "def distance(pt1, pt2):\n",
    "    \"\"\"Return the distance between two points, represented as arrays\"\"\"\n",
    "    # 1-d distance\n",
    "    return np.sqrt(sum((pt1 - pt2)**2))"
   ]
  },
  {
   "cell_type": "code",
   "execution_count": 9,
   "metadata": {},
   "outputs": [],
   "source": [
    "def row_distance(row1, row2):\n",
    "    \"\"\"Return the distance between two numerical rows of a table\"\"\"\n",
    "    #row1 and row2 will be in table format, e.g., table.row(0) or table.row(2)\n",
    "    return distance(np.array(row1), np.array(row2))"
   ]
  },
  {
   "cell_type": "code",
   "execution_count": 20,
   "metadata": {},
   "outputs": [
    {
     "data": {
      "text/plain": [
       "11.874342087037917"
      ]
     },
     "execution_count": 20,
     "metadata": {},
     "output_type": "execute_result"
    }
   ],
   "source": [
    "\n",
    "np.sqrt(sum((np.array(attributes.row(0)) - np.array(attributes.row(1)))**2))"
   ]
  },
  {
   "cell_type": "code",
   "execution_count": null,
   "metadata": {},
   "outputs": [],
   "source": []
  },
  {
   "cell_type": "code",
   "execution_count": null,
   "metadata": {},
   "outputs": [],
   "source": []
  },
  {
   "cell_type": "code",
   "execution_count": 25,
   "metadata": {},
   "outputs": [
    {
     "data": {
      "text/html": [
       "<table border=\"1\" class=\"dataframe\">\n",
       "    <thead>\n",
       "        <tr>\n",
       "            <th>Clump Thickness</th> <th>Uniformity of Cell Size</th> <th>Uniformity of Cell Shape</th> <th>Marginal Adhesion</th> <th>Single Epithelial Cell Size</th> <th>Bare Nuclei</th> <th>Bland Chromatin</th> <th>Normal Nucleoli</th> <th>Mitoses</th> <th>Class</th>\n",
       "        </tr>\n",
       "    </thead>\n",
       "    <tbody>\n",
       "        <tr>\n",
       "            <td>5              </td> <td>1                      </td> <td>1                       </td> <td>1                </td> <td>2                          </td> <td>1          </td> <td>3              </td> <td>1              </td> <td>1      </td> <td>0    </td>\n",
       "        </tr>\n",
       "        <tr>\n",
       "            <td>5              </td> <td>4                      </td> <td>4                       </td> <td>5                </td> <td>7                          </td> <td>10         </td> <td>3              </td> <td>2              </td> <td>1      </td> <td>0    </td>\n",
       "        </tr>\n",
       "        <tr>\n",
       "            <td>3              </td> <td>1                      </td> <td>1                       </td> <td>1                </td> <td>2                          </td> <td>2          </td> <td>3              </td> <td>1              </td> <td>1      </td> <td>0    </td>\n",
       "        </tr>\n",
       "        <tr>\n",
       "            <td>6              </td> <td>8                      </td> <td>8                       </td> <td>1                </td> <td>3                          </td> <td>4          </td> <td>3              </td> <td>7              </td> <td>1      </td> <td>0    </td>\n",
       "        </tr>\n",
       "        <tr>\n",
       "            <td>4              </td> <td>1                      </td> <td>1                       </td> <td>3                </td> <td>2                          </td> <td>1          </td> <td>3              </td> <td>1              </td> <td>1      </td> <td>0    </td>\n",
       "        </tr>\n",
       "        <tr>\n",
       "            <td>8              </td> <td>10                     </td> <td>10                      </td> <td>8                </td> <td>7                          </td> <td>10         </td> <td>9              </td> <td>7              </td> <td>1      </td> <td>1    </td>\n",
       "        </tr>\n",
       "        <tr>\n",
       "            <td>1              </td> <td>1                      </td> <td>1                       </td> <td>1                </td> <td>2                          </td> <td>10         </td> <td>3              </td> <td>1              </td> <td>1      </td> <td>0    </td>\n",
       "        </tr>\n",
       "        <tr>\n",
       "            <td>2              </td> <td>1                      </td> <td>2                       </td> <td>1                </td> <td>2                          </td> <td>1          </td> <td>3              </td> <td>1              </td> <td>1      </td> <td>0    </td>\n",
       "        </tr>\n",
       "        <tr>\n",
       "            <td>2              </td> <td>1                      </td> <td>1                       </td> <td>1                </td> <td>2                          </td> <td>1          </td> <td>1              </td> <td>1              </td> <td>5      </td> <td>0    </td>\n",
       "        </tr>\n",
       "        <tr>\n",
       "            <td>4              </td> <td>2                      </td> <td>1                       </td> <td>1                </td> <td>2                          </td> <td>1          </td> <td>2              </td> <td>1              </td> <td>1      </td> <td>0    </td>\n",
       "        </tr>\n",
       "    </tbody>\n",
       "</table>\n",
       "<p>... (673 rows omitted)</p>"
      ],
      "text/plain": [
       "Clump Thickness | Uniformity of Cell Size | Uniformity of Cell Shape | Marginal Adhesion | Single Epithelial Cell Size | Bare Nuclei | Bland Chromatin | Normal Nucleoli | Mitoses | Class\n",
       "5               | 1                       | 1                        | 1                 | 2                           | 1           | 3               | 1               | 1       | 0\n",
       "5               | 4                       | 4                        | 5                 | 7                           | 10          | 3               | 2               | 1       | 0\n",
       "3               | 1                       | 1                        | 1                 | 2                           | 2           | 3               | 1               | 1       | 0\n",
       "6               | 8                       | 8                        | 1                 | 3                           | 4           | 3               | 7               | 1       | 0\n",
       "4               | 1                       | 1                        | 3                 | 2                           | 1           | 3               | 1               | 1       | 0\n",
       "8               | 10                      | 10                       | 8                 | 7                           | 10          | 9               | 7               | 1       | 1\n",
       "1               | 1                       | 1                        | 1                 | 2                           | 10          | 3               | 1               | 1       | 0\n",
       "2               | 1                       | 2                        | 1                 | 2                           | 1           | 3               | 1               | 1       | 0\n",
       "2               | 1                       | 1                        | 1                 | 2                           | 1           | 1               | 1               | 5       | 0\n",
       "4               | 2                       | 1                        | 1                 | 2                           | 1           | 2               | 1               | 1       | 0\n",
       "... (673 rows omitted)"
      ]
     },
     "execution_count": 25,
     "metadata": {},
     "output_type": "execute_result"
    }
   ],
   "source": [
    "patients"
   ]
  },
  {
   "cell_type": "code",
   "execution_count": 10,
   "metadata": {},
   "outputs": [
    {
     "data": {
      "text/html": [
       "<table border=\"1\" class=\"dataframe\">\n",
       "    <thead>\n",
       "        <tr>\n",
       "            <th>Clump Thickness</th> <th>Uniformity of Cell Size</th> <th>Uniformity of Cell Shape</th> <th>Marginal Adhesion</th> <th>Single Epithelial Cell Size</th> <th>Bare Nuclei</th> <th>Bland Chromatin</th> <th>Normal Nucleoli</th> <th>Mitoses</th>\n",
       "        </tr>\n",
       "    </thead>\n",
       "    <tbody>\n",
       "        <tr>\n",
       "            <td>5              </td> <td>1                      </td> <td>1                       </td> <td>1                </td> <td>2                          </td> <td>1          </td> <td>3              </td> <td>1              </td> <td>1      </td>\n",
       "        </tr>\n",
       "        <tr>\n",
       "            <td>5              </td> <td>4                      </td> <td>4                       </td> <td>5                </td> <td>7                          </td> <td>10         </td> <td>3              </td> <td>2              </td> <td>1      </td>\n",
       "        </tr>\n",
       "        <tr>\n",
       "            <td>3              </td> <td>1                      </td> <td>1                       </td> <td>1                </td> <td>2                          </td> <td>2          </td> <td>3              </td> <td>1              </td> <td>1      </td>\n",
       "        </tr>\n",
       "    </tbody>\n",
       "</table>\n",
       "<p>... (680 rows omitted)</p>"
      ],
      "text/plain": [
       "<IPython.core.display.HTML object>"
      ]
     },
     "metadata": {},
     "output_type": "display_data"
    }
   ],
   "source": [
    "attributes = patients.drop('Class')\n",
    "attributes.show(3)"
   ]
  },
  {
   "cell_type": "code",
   "execution_count": 12,
   "metadata": {},
   "outputs": [
    {
     "data": {
      "text/plain": [
       "Row(Clump Thickness=5, Uniformity of Cell Size=1, Uniformity of Cell Shape=1, Marginal Adhesion=1, Single Epithelial Cell Size=2, Bare Nuclei=1, Bland Chromatin=3, Normal Nucleoli=1, Mitoses=1)"
      ]
     },
     "execution_count": 12,
     "metadata": {},
     "output_type": "execute_result"
    }
   ],
   "source": [
    "attributes.row(0)"
   ]
  },
  {
   "cell_type": "code",
   "execution_count": 11,
   "metadata": {},
   "outputs": [
    {
     "data": {
      "text/plain": [
       "11.874342087037917"
      ]
     },
     "execution_count": 11,
     "metadata": {},
     "output_type": "execute_result"
    }
   ],
   "source": [
    "row_distance(attributes.row(0), attributes.row(1))\n",
    "# 1-d differences in corresponding attributes between two patients\n",
    "\n"
   ]
  },
  {
   "cell_type": "code",
   "execution_count": 13,
   "metadata": {},
   "outputs": [
    {
     "data": {
      "text/plain": [
       "2.23606797749979"
      ]
     },
     "execution_count": 13,
     "metadata": {},
     "output_type": "execute_result"
    }
   ],
   "source": [
    "row_distance(attributes.row(0), attributes.row(2))"
   ]
  },
  {
   "cell_type": "code",
   "execution_count": 14,
   "metadata": {},
   "outputs": [
    {
     "data": {
      "text/plain": [
       "0.0"
      ]
     },
     "execution_count": 14,
     "metadata": {},
     "output_type": "execute_result"
    }
   ],
   "source": [
    "row_distance(attributes.row(2), attributes.row(2))"
   ]
  },
  {
   "cell_type": "markdown",
   "metadata": {},
   "source": [
    "# The Classifier"
   ]
  },
  {
   "cell_type": "code",
   "execution_count": 21,
   "metadata": {},
   "outputs": [],
   "source": [
    "def distances(training, example):\n",
    "    \"\"\"\n",
    "    Compute distance between example and every row in training.\n",
    "    Return training augmented with Distance column\n",
    "    \"\"\"\n",
    "    distances = make_array()\n",
    "    attributes_only = training.drop('Class')\n",
    "    \n",
    "    for row in attributes_only.rows:\n",
    "        distances = np.append(distances, row_distance(row, example))\n",
    "    \n",
    "#   ^ SAME AS DOING:\n",
    "#\n",
    "#   for i in np.arange(attributes_only.num_rows):\n",
    "#       row = attributes_only.row(i)\n",
    "#       distances = np.append(distances, row_distance(row, example))\n",
    "        \n",
    "    return training.with_column('Distance_to_ex', distances)"
   ]
  },
  {
   "cell_type": "code",
   "execution_count": 48,
   "metadata": {},
   "outputs": [
    {
     "data": {
      "text/plain": [
       "Row(Clump Thickness=7, Uniformity of Cell Size=4, Uniformity of Cell Shape=6, Marginal Adhesion=4, Single Epithelial Cell Size=6, Bare Nuclei=1, Bland Chromatin=4, Normal Nucleoli=3, Mitoses=1)"
      ]
     },
     "execution_count": 48,
     "metadata": {},
     "output_type": "execute_result"
    }
   ],
   "source": [
    "example = attributes.row(15)\n",
    "example"
   ]
  },
  {
   "cell_type": "code",
   "execution_count": 30,
   "metadata": {},
   "outputs": [
    {
     "data": {
      "text/html": [
       "<table border=\"1\" class=\"dataframe\">\n",
       "    <thead>\n",
       "        <tr>\n",
       "            <th>Clump Thickness</th> <th>Uniformity of Cell Size</th> <th>Uniformity of Cell Shape</th> <th>Marginal Adhesion</th> <th>Single Epithelial Cell Size</th> <th>Bare Nuclei</th> <th>Bland Chromatin</th> <th>Normal Nucleoli</th> <th>Mitoses</th> <th>Class</th> <th>Distance_to_ex</th>\n",
       "        </tr>\n",
       "    </thead>\n",
       "    <tbody>\n",
       "        <tr>\n",
       "            <td>8              </td> <td>4                      </td> <td>4                       </td> <td>5                </td> <td>4                          </td> <td>7          </td> <td>7              </td> <td>8              </td> <td>2      </td> <td>0    </td> <td>4.3589        </td>\n",
       "        </tr>\n",
       "        <tr>\n",
       "            <td>10             </td> <td>5                      </td> <td>7                       </td> <td>4                </td> <td>4                          </td> <td>10         </td> <td>8              </td> <td>9              </td> <td>1      </td> <td>1    </td> <td>4.47214       </td>\n",
       "        </tr>\n",
       "        <tr>\n",
       "            <td>7              </td> <td>4                      </td> <td>4                       </td> <td>3                </td> <td>4                          </td> <td>10         </td> <td>6              </td> <td>9              </td> <td>1      </td> <td>1    </td> <td>5.09902       </td>\n",
       "        </tr>\n",
       "        <tr>\n",
       "            <td>10             </td> <td>3                      </td> <td>6                       </td> <td>2                </td> <td>3                          </td> <td>5          </td> <td>4              </td> <td>10             </td> <td>2      </td> <td>1    </td> <td>5.38516       </td>\n",
       "        </tr>\n",
       "        <tr>\n",
       "            <td>10             </td> <td>5                      </td> <td>5                       </td> <td>6                </td> <td>3                          </td> <td>10         </td> <td>7              </td> <td>9              </td> <td>2      </td> <td>1    </td> <td>5.38516       </td>\n",
       "        </tr>\n",
       "    </tbody>\n",
       "</table>"
      ],
      "text/plain": [
       "Clump Thickness | Uniformity of Cell Size | Uniformity of Cell Shape | Marginal Adhesion | Single Epithelial Cell Size | Bare Nuclei | Bland Chromatin | Normal Nucleoli | Mitoses | Class | Distance_to_ex\n",
       "8               | 4                       | 4                        | 5                 | 4                           | 7           | 7               | 8               | 2       | 0     | 4.3589\n",
       "10              | 5                       | 7                        | 4                 | 4                           | 10          | 8               | 9               | 1       | 1     | 4.47214\n",
       "7               | 4                       | 4                        | 3                 | 4                           | 10          | 6               | 9               | 1       | 1     | 5.09902\n",
       "10              | 3                       | 6                        | 2                 | 3                           | 5           | 4               | 10              | 2       | 1     | 5.38516\n",
       "10              | 5                       | 5                        | 6                 | 3                           | 10          | 7               | 9               | 2       | 1     | 5.38516"
      ]
     },
     "execution_count": 30,
     "metadata": {},
     "output_type": "execute_result"
    }
   ],
   "source": [
    "distances(patients.exclude(21), example).sort('Distance_to_ex').take(np.arange(5))"
   ]
  },
  {
   "cell_type": "code",
   "execution_count": 31,
   "metadata": {},
   "outputs": [],
   "source": [
    "def closest(training, example, k):\n",
    "    \"\"\"\n",
    "    Return a table of the k closest neighbors to example\n",
    "    \"\"\"\n",
    "    return distances(training, example).sort('Distance_to_ex').take(np.arange(k))"
   ]
  },
  {
   "cell_type": "code",
   "execution_count": 49,
   "metadata": {},
   "outputs": [
    {
     "data": {
      "text/html": [
       "<table border=\"1\" class=\"dataframe\">\n",
       "    <thead>\n",
       "        <tr>\n",
       "            <th>Clump Thickness</th> <th>Uniformity of Cell Size</th> <th>Uniformity of Cell Shape</th> <th>Marginal Adhesion</th> <th>Single Epithelial Cell Size</th> <th>Bare Nuclei</th> <th>Bland Chromatin</th> <th>Normal Nucleoli</th> <th>Mitoses</th> <th>Class</th> <th>Distance_to_ex</th>\n",
       "        </tr>\n",
       "    </thead>\n",
       "    <tbody>\n",
       "        <tr>\n",
       "            <td>8              </td> <td>4                      </td> <td>6                       </td> <td>3                </td> <td>3                          </td> <td>1          </td> <td>4              </td> <td>3              </td> <td>1      </td> <td>0    </td> <td>3.31662       </td>\n",
       "        </tr>\n",
       "        <tr>\n",
       "            <td>5              </td> <td>3                      </td> <td>4                       </td> <td>1                </td> <td>4                          </td> <td>1          </td> <td>3              </td> <td>1              </td> <td>1      </td> <td>0    </td> <td>5.19615       </td>\n",
       "        </tr>\n",
       "        <tr>\n",
       "            <td>5              </td> <td>4                      </td> <td>5                       </td> <td>1                </td> <td>8                          </td> <td>1          </td> <td>3              </td> <td>6              </td> <td>1      </td> <td>0    </td> <td>5.2915        </td>\n",
       "        </tr>\n",
       "        <tr>\n",
       "            <td>8              </td> <td>2                      </td> <td>4                       </td> <td>1                </td> <td>5                          </td> <td>1          </td> <td>5              </td> <td>4              </td> <td>4      </td> <td>1    </td> <td>5.47723       </td>\n",
       "        </tr>\n",
       "        <tr>\n",
       "            <td>9              </td> <td>5                      </td> <td>5                       </td> <td>4                </td> <td>4                          </td> <td>5          </td> <td>4              </td> <td>3              </td> <td>3      </td> <td>1    </td> <td>5.47723       </td>\n",
       "        </tr>\n",
       "    </tbody>\n",
       "</table>"
      ],
      "text/plain": [
       "Clump Thickness | Uniformity of Cell Size | Uniformity of Cell Shape | Marginal Adhesion | Single Epithelial Cell Size | Bare Nuclei | Bland Chromatin | Normal Nucleoli | Mitoses | Class | Distance_to_ex\n",
       "8               | 4                       | 6                        | 3                 | 3                           | 1           | 4               | 3               | 1       | 0     | 3.31662\n",
       "5               | 3                       | 4                        | 1                 | 4                           | 1           | 3               | 1               | 1       | 0     | 5.19615\n",
       "5               | 4                       | 5                        | 1                 | 8                           | 1           | 3               | 6               | 1       | 0     | 5.2915\n",
       "8               | 2                       | 4                        | 1                 | 5                           | 1           | 5               | 4               | 4       | 1     | 5.47723\n",
       "9               | 5                       | 5                        | 4                 | 4                           | 5           | 4               | 3               | 3       | 1     | 5.47723"
      ]
     },
     "execution_count": 49,
     "metadata": {},
     "output_type": "execute_result"
    }
   ],
   "source": [
    "closest(patients.exclude(15), example, 5)"
   ]
  },
  {
   "cell_type": "code",
   "execution_count": 33,
   "metadata": {},
   "outputs": [
    {
     "data": {
      "text/html": [
       "<table border=\"1\" class=\"dataframe\">\n",
       "    <thead>\n",
       "        <tr>\n",
       "            <th>Class</th> <th>count</th>\n",
       "        </tr>\n",
       "    </thead>\n",
       "    <tbody>\n",
       "        <tr>\n",
       "            <td>1    </td> <td>4    </td>\n",
       "        </tr>\n",
       "        <tr>\n",
       "            <td>0    </td> <td>1    </td>\n",
       "        </tr>\n",
       "    </tbody>\n",
       "</table>"
      ],
      "text/plain": [
       "Class | count\n",
       "1     | 4\n",
       "0     | 1"
      ]
     },
     "execution_count": 33,
     "metadata": {},
     "output_type": "execute_result"
    }
   ],
   "source": [
    "closest(patients.exclude(21), example, 5).group('Class').sort('count', descending=True)"
   ]
  },
  {
   "cell_type": "code",
   "execution_count": 40,
   "metadata": {},
   "outputs": [],
   "source": [
    "def majority_class(topk):\n",
    "    \"\"\"\n",
    "    Return the class with the highest count\n",
    "    \"\"\"\n",
    "    return topk.group('Class').sort('count', descending=True).column(0).item(0)"
   ]
  },
  {
   "cell_type": "code",
   "execution_count": 41,
   "metadata": {},
   "outputs": [],
   "source": [
    "def classify(training, example, k):\n",
    "    \"\"\"\n",
    "    Return the majority class among the \n",
    "    k nearest neighbors of example\n",
    "    \"\"\"\n",
    "    return majority_class(closest(training, example, k))"
   ]
  },
  {
   "cell_type": "code",
   "execution_count": 42,
   "metadata": {},
   "outputs": [
    {
     "data": {
      "text/plain": [
       "1"
      ]
     },
     "execution_count": 42,
     "metadata": {},
     "output_type": "execute_result"
    }
   ],
   "source": [
    "classify(patients.exclude(21), example, 5)"
   ]
  },
  {
   "cell_type": "code",
   "execution_count": 38,
   "metadata": {},
   "outputs": [
    {
     "data": {
      "text/html": [
       "<table border=\"1\" class=\"dataframe\">\n",
       "    <thead>\n",
       "        <tr>\n",
       "            <th>Clump Thickness</th> <th>Uniformity of Cell Size</th> <th>Uniformity of Cell Shape</th> <th>Marginal Adhesion</th> <th>Single Epithelial Cell Size</th> <th>Bare Nuclei</th> <th>Bland Chromatin</th> <th>Normal Nucleoli</th> <th>Mitoses</th> <th>Class</th>\n",
       "        </tr>\n",
       "    </thead>\n",
       "    <tbody>\n",
       "        <tr>\n",
       "            <td>10             </td> <td>5                      </td> <td>5                       </td> <td>3                </td> <td>6                          </td> <td>7          </td> <td>7              </td> <td>10             </td> <td>1      </td> <td>1    </td>\n",
       "        </tr>\n",
       "    </tbody>\n",
       "</table>"
      ],
      "text/plain": [
       "Clump Thickness | Uniformity of Cell Size | Uniformity of Cell Shape | Marginal Adhesion | Single Epithelial Cell Size | Bare Nuclei | Bland Chromatin | Normal Nucleoli | Mitoses | Class\n",
       "10              | 5                       | 5                        | 3                 | 6                           | 7           | 7               | 10              | 1       | 1"
      ]
     },
     "execution_count": 38,
     "metadata": {},
     "output_type": "execute_result"
    }
   ],
   "source": [
    "patients.take(21)"
   ]
  },
  {
   "cell_type": "code",
   "execution_count": 43,
   "metadata": {},
   "outputs": [
    {
     "data": {
      "text/plain": [
       "0"
      ]
     },
     "execution_count": 43,
     "metadata": {},
     "output_type": "execute_result"
    }
   ],
   "source": [
    "new_example = attributes.row(10)\n",
    "classify(patients.exclude(10), new_example, 5)"
   ]
  },
  {
   "cell_type": "code",
   "execution_count": 44,
   "metadata": {},
   "outputs": [
    {
     "data": {
      "text/html": [
       "<table border=\"1\" class=\"dataframe\">\n",
       "    <thead>\n",
       "        <tr>\n",
       "            <th>Clump Thickness</th> <th>Uniformity of Cell Size</th> <th>Uniformity of Cell Shape</th> <th>Marginal Adhesion</th> <th>Single Epithelial Cell Size</th> <th>Bare Nuclei</th> <th>Bland Chromatin</th> <th>Normal Nucleoli</th> <th>Mitoses</th> <th>Class</th>\n",
       "        </tr>\n",
       "    </thead>\n",
       "    <tbody>\n",
       "        <tr>\n",
       "            <td>1              </td> <td>1                      </td> <td>1                       </td> <td>1                </td> <td>1                          </td> <td>1          </td> <td>3              </td> <td>1              </td> <td>1      </td> <td>0    </td>\n",
       "        </tr>\n",
       "    </tbody>\n",
       "</table>"
      ],
      "text/plain": [
       "Clump Thickness | Uniformity of Cell Size | Uniformity of Cell Shape | Marginal Adhesion | Single Epithelial Cell Size | Bare Nuclei | Bland Chromatin | Normal Nucleoli | Mitoses | Class\n",
       "1               | 1                       | 1                        | 1                 | 1                           | 1           | 3               | 1               | 1       | 0"
      ]
     },
     "execution_count": 44,
     "metadata": {},
     "output_type": "execute_result"
    }
   ],
   "source": [
    "patients.take(10)"
   ]
  },
  {
   "cell_type": "code",
   "execution_count": 45,
   "metadata": {},
   "outputs": [
    {
     "data": {
      "text/plain": [
       "0"
      ]
     },
     "execution_count": 45,
     "metadata": {},
     "output_type": "execute_result"
    }
   ],
   "source": [
    "another_example = attributes.row(15)\n",
    "classify(patients.exclude(15), another_example, 5)"
   ]
  },
  {
   "cell_type": "code",
   "execution_count": 46,
   "metadata": {},
   "outputs": [
    {
     "data": {
      "text/html": [
       "<table border=\"1\" class=\"dataframe\">\n",
       "    <thead>\n",
       "        <tr>\n",
       "            <th>Clump Thickness</th> <th>Uniformity of Cell Size</th> <th>Uniformity of Cell Shape</th> <th>Marginal Adhesion</th> <th>Single Epithelial Cell Size</th> <th>Bare Nuclei</th> <th>Bland Chromatin</th> <th>Normal Nucleoli</th> <th>Mitoses</th> <th>Class</th>\n",
       "        </tr>\n",
       "    </thead>\n",
       "    <tbody>\n",
       "        <tr>\n",
       "            <td>7              </td> <td>4                      </td> <td>6                       </td> <td>4                </td> <td>6                          </td> <td>1          </td> <td>4              </td> <td>3              </td> <td>1      </td> <td>1    </td>\n",
       "        </tr>\n",
       "    </tbody>\n",
       "</table>"
      ],
      "text/plain": [
       "Clump Thickness | Uniformity of Cell Size | Uniformity of Cell Shape | Marginal Adhesion | Single Epithelial Cell Size | Bare Nuclei | Bland Chromatin | Normal Nucleoli | Mitoses | Class\n",
       "7               | 4                       | 6                        | 4                 | 6                           | 1           | 4               | 3               | 1       | 1"
      ]
     },
     "execution_count": 46,
     "metadata": {},
     "output_type": "execute_result"
    }
   ],
   "source": [
    "patients.take(15)"
   ]
  },
  {
   "cell_type": "markdown",
   "metadata": {},
   "source": [
    "## Review of the Steps ##\n",
    "\n",
    "- `distance(pt1, pt2)`: Returns the distance between the arrays `pt1` and `pt2`\n",
    "- `row_distance(row1, row2)`: Returns the distance between the rows `row1` and `row2`\n",
    "- `distances(training, example)`: Returns a table that is `training` with an additional column `'Distance'` that contains the distance between `example` and each row of `training`\n",
    "- `closest(training, example, k)`: Returns a table of the rows corresponding to the k smallest distances \n",
    "- `majority_class(topk)`: Returns the majority class in the `'Class'` column\n",
    "- `classify(training, example, k)`: Returns the predicted class of `example` based on a `k` nearest neighbors classifier using the historical sample `training`"
   ]
  },
  {
   "cell_type": "markdown",
   "metadata": {},
   "source": [
    "## Accuracy of a Classifier ##"
   ]
  },
  {
   "cell_type": "code",
   "execution_count": 51,
   "metadata": {},
   "outputs": [
    {
     "data": {
      "text/plain": [
       "683"
      ]
     },
     "execution_count": 51,
     "metadata": {},
     "output_type": "execute_result"
    }
   ],
   "source": [
    "patients.num_rows"
   ]
  },
  {
   "cell_type": "code",
   "execution_count": 52,
   "metadata": {},
   "outputs": [],
   "source": [
    "shuffled = patients.sample(with_replacement=False) # Randomly permute the rows\n",
    "training_set = shuffled.take(np.arange(342))\n",
    "test_set  = shuffled.take(np.arange(342, 683))"
   ]
  },
  {
   "cell_type": "code",
   "execution_count": 53,
   "metadata": {},
   "outputs": [],
   "source": [
    "def evaluate_accuracy(training, test, k):\n",
    "    \"\"\"Return the proportion of correctly classified examples \n",
    "    in the test set\"\"\"\n",
    "    test_attributes = test.drop('Class')\n",
    "    num_correct = 0\n",
    "    for i in np.arange(test.num_rows):\n",
    "        c = classify(training, test_attributes.row(i), k)\n",
    "        num_correct = num_correct + (c == test.column('Class').item(i))\n",
    "    return num_correct / test.num_rows"
   ]
  },
  {
   "cell_type": "code",
   "execution_count": 54,
   "metadata": {},
   "outputs": [
    {
     "data": {
      "text/plain": [
       "0.9824046920821115"
      ]
     },
     "execution_count": 54,
     "metadata": {},
     "output_type": "execute_result"
    }
   ],
   "source": [
    "evaluate_accuracy(training_set, test_set, 5)"
   ]
  },
  {
   "cell_type": "code",
   "execution_count": 55,
   "metadata": {},
   "outputs": [
    {
     "data": {
      "text/plain": [
       "0.9853372434017595"
      ]
     },
     "execution_count": 55,
     "metadata": {},
     "output_type": "execute_result"
    }
   ],
   "source": [
    "evaluate_accuracy(training_set, test_set, 3)"
   ]
  },
  {
   "cell_type": "code",
   "execution_count": 56,
   "metadata": {
    "scrolled": true
   },
   "outputs": [
    {
     "data": {
      "text/plain": [
       "0.9736070381231672"
      ]
     },
     "execution_count": 56,
     "metadata": {},
     "output_type": "execute_result"
    }
   ],
   "source": [
    "evaluate_accuracy(training_set, test_set, 11)"
   ]
  },
  {
   "cell_type": "code",
   "execution_count": 57,
   "metadata": {},
   "outputs": [
    {
     "data": {
      "text/plain": [
       "0.9530791788856305"
      ]
     },
     "execution_count": 57,
     "metadata": {},
     "output_type": "execute_result"
    }
   ],
   "source": [
    "evaluate_accuracy(training_set, test_set, 1)"
   ]
  },
  {
   "cell_type": "markdown",
   "metadata": {},
   "source": [
    "# Standardize if Necessary"
   ]
  },
  {
   "cell_type": "code",
   "execution_count": 58,
   "metadata": {},
   "outputs": [],
   "source": [
    "def standard_units(x):\n",
    "    return (x - np.average(x)) / np.std(x)"
   ]
  },
  {
   "cell_type": "code",
   "execution_count": 59,
   "metadata": {},
   "outputs": [],
   "source": [
    "ckd_new = ckd.select('Class').with_columns(\n",
    "    'Glucose_su', standard_units(ckd.column('Glucose')),\n",
    "    'Hemoglobin_su', standard_units(ckd.column('Hemoglobin')),\n",
    "    'WBC_su', standard_units(ckd.column('White Blood Cell Count'))\n",
    ")"
   ]
  },
  {
   "cell_type": "code",
   "execution_count": 60,
   "metadata": {},
   "outputs": [
    {
     "data": {
      "text/html": [
       "<table border=\"1\" class=\"dataframe\">\n",
       "    <thead>\n",
       "        <tr>\n",
       "            <th>Class</th> <th>Glucose_su</th> <th>Hemoglobin_su</th> <th>WBC_su</th>\n",
       "        </tr>\n",
       "    </thead>\n",
       "    <tbody>\n",
       "        <tr>\n",
       "            <td>1    </td> <td>-0.221549 </td> <td>-0.865744    </td> <td>-0.569768</td>\n",
       "        </tr>\n",
       "        <tr>\n",
       "            <td>1    </td> <td>-0.947597 </td> <td>-1.45745     </td> <td>1.16268  </td>\n",
       "        </tr>\n",
       "        <tr>\n",
       "            <td>1    </td> <td>3.84123   </td> <td>-1.00497     </td> <td>-1.27558 </td>\n",
       "        </tr>\n",
       "        <tr>\n",
       "            <td>1    </td> <td>0.396364  </td> <td>-2.81488     </td> <td>0.809777 </td>\n",
       "        </tr>\n",
       "        <tr>\n",
       "            <td>1    </td> <td>0.643529  </td> <td>-2.08395     </td> <td>0.232293 </td>\n",
       "        </tr>\n",
       "        <tr>\n",
       "            <td>1    </td> <td>-0.561402 </td> <td>-1.35303     </td> <td>-0.505603</td>\n",
       "        </tr>\n",
       "        <tr>\n",
       "            <td>1    </td> <td>2.04928   </td> <td>-0.413266    </td> <td>0.360623 </td>\n",
       "        </tr>\n",
       "        <tr>\n",
       "            <td>1    </td> <td>-0.947597 </td> <td>-1.28342     </td> <td>3.34429  </td>\n",
       "        </tr>\n",
       "        <tr>\n",
       "            <td>1    </td> <td>1.87936   </td> <td>-1.10939     </td> <td>-0.409356</td>\n",
       "        </tr>\n",
       "        <tr>\n",
       "            <td>1    </td> <td>0.489051  </td> <td>-1.35303     </td> <td>1.96475  </td>\n",
       "        </tr>\n",
       "    </tbody>\n",
       "</table>\n",
       "<p>... (148 rows omitted)</p>"
      ],
      "text/plain": [
       "Class | Glucose_su | Hemoglobin_su | WBC_su\n",
       "1     | -0.221549  | -0.865744     | -0.569768\n",
       "1     | -0.947597  | -1.45745      | 1.16268\n",
       "1     | 3.84123    | -1.00497      | -1.27558\n",
       "1     | 0.396364   | -2.81488      | 0.809777\n",
       "1     | 0.643529   | -2.08395      | 0.232293\n",
       "1     | -0.561402  | -1.35303      | -0.505603\n",
       "1     | 2.04928    | -0.413266     | 0.360623\n",
       "1     | -0.947597  | -1.28342      | 3.34429\n",
       "1     | 1.87936    | -1.10939      | -0.409356\n",
       "1     | 0.489051   | -1.35303      | 1.96475\n",
       "... (148 rows omitted)"
      ]
     },
     "execution_count": 60,
     "metadata": {},
     "output_type": "execute_result"
    }
   ],
   "source": [
    "ckd_new"
   ]
  },
  {
   "cell_type": "code",
   "execution_count": 61,
   "metadata": {},
   "outputs": [],
   "source": [
    "shuffled = ckd_new.sample(with_replacement=False) \n",
    "training_set = shuffled.take(np.arange(74))\n",
    "test_set  = shuffled.take(np.arange(74, 148))"
   ]
  },
  {
   "cell_type": "code",
   "execution_count": 62,
   "metadata": {},
   "outputs": [
    {
     "data": {
      "text/plain": [
       "0.972972972972973"
      ]
     },
     "execution_count": 62,
     "metadata": {},
     "output_type": "execute_result"
    }
   ],
   "source": [
    "evaluate_accuracy(training_set, test_set, 3)"
   ]
  },
  {
   "cell_type": "code",
   "execution_count": 63,
   "metadata": {},
   "outputs": [],
   "source": [
    "shuffled = ckd.sample(with_replacement=False) \n",
    "training_set = shuffled.take(np.arange(74))\n",
    "test_set  = shuffled.take(np.arange(74, 148))"
   ]
  },
  {
   "cell_type": "code",
   "execution_count": 64,
   "metadata": {},
   "outputs": [
    {
     "data": {
      "text/plain": [
       "0.8243243243243243"
      ]
     },
     "execution_count": 64,
     "metadata": {},
     "output_type": "execute_result"
    }
   ],
   "source": [
    "evaluate_accuracy(training_set, test_set, 3)"
   ]
  },
  {
   "cell_type": "code",
   "execution_count": null,
   "metadata": {},
   "outputs": [],
   "source": []
  },
  {
   "cell_type": "code",
   "execution_count": null,
   "metadata": {},
   "outputs": [],
   "source": []
  }
 ],
 "metadata": {
  "kernelspec": {
   "display_name": "Python 3 (ipykernel)",
   "language": "python",
   "name": "python3"
  },
  "language_info": {
   "codemirror_mode": {
    "name": "ipython",
    "version": 3
   },
   "file_extension": ".py",
   "mimetype": "text/x-python",
   "name": "python",
   "nbconvert_exporter": "python",
   "pygments_lexer": "ipython3",
   "version": "3.9.10"
  },
  "toc": {
   "base_numbering": 1,
   "nav_menu": {},
   "number_sections": true,
   "sideBar": true,
   "skip_h1_title": false,
   "title_cell": "Table of Contents",
   "title_sidebar": "Contents",
   "toc_cell": false,
   "toc_position": {},
   "toc_section_display": true,
   "toc_window_display": false
  }
 },
 "nbformat": 4,
 "nbformat_minor": 2
}
