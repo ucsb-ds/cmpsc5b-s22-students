{
 "cells": [
  {
   "cell_type": "code",
   "execution_count": 1,
   "metadata": {},
   "outputs": [],
   "source": [
    "import matplotlib\n",
    "from datascience import *\n",
    "%matplotlib inline\n",
    "import matplotlib.pyplot as plots\n",
    "import numpy as np\n",
    "plots.style.use('fivethirtyeight')"
   ]
  },
  {
   "cell_type": "markdown",
   "metadata": {
    "collapsed": true
   },
   "source": [
    "# Week 5: Lecture 10 ##"
   ]
  },
  {
   "cell_type": "code",
   "execution_count": 2,
   "metadata": {},
   "outputs": [
    {
     "data": {
      "text/html": [
       "<table border=\"1\" class=\"dataframe\">\n",
       "    <thead>\n",
       "        <tr>\n",
       "            <th>Date</th> <th>Flight Number</th> <th>Destination</th> <th>Delay</th>\n",
       "        </tr>\n",
       "    </thead>\n",
       "    <tbody>\n",
       "        <tr>\n",
       "            <td>6/21/15</td> <td>1964         </td> <td>SEA        </td> <td>580  </td>\n",
       "        </tr>\n",
       "        <tr>\n",
       "            <td>6/22/15</td> <td>300          </td> <td>HNL        </td> <td>537  </td>\n",
       "        </tr>\n",
       "        <tr>\n",
       "            <td>6/21/15</td> <td>1149         </td> <td>IAD        </td> <td>508  </td>\n",
       "        </tr>\n",
       "        <tr>\n",
       "            <td>6/20/15</td> <td>353          </td> <td>ORD        </td> <td>505  </td>\n",
       "        </tr>\n",
       "        <tr>\n",
       "            <td>8/23/15</td> <td>1589         </td> <td>ORD        </td> <td>458  </td>\n",
       "        </tr>\n",
       "        <tr>\n",
       "            <td>7/23/15</td> <td>1960         </td> <td>LAX        </td> <td>438  </td>\n",
       "        </tr>\n",
       "        <tr>\n",
       "            <td>6/23/15</td> <td>1606         </td> <td>ORD        </td> <td>430  </td>\n",
       "        </tr>\n",
       "        <tr>\n",
       "            <td>6/4/15 </td> <td>1743         </td> <td>LAX        </td> <td>408  </td>\n",
       "        </tr>\n",
       "        <tr>\n",
       "            <td>6/17/15</td> <td>1122         </td> <td>HNL        </td> <td>405  </td>\n",
       "        </tr>\n",
       "        <tr>\n",
       "            <td>7/27/15</td> <td>572          </td> <td>ORD        </td> <td>385  </td>\n",
       "        </tr>\n",
       "    </tbody>\n",
       "</table>\n",
       "<p>... (13815 rows omitted)</p>"
      ],
      "text/plain": [
       "Date    | Flight Number | Destination | Delay\n",
       "6/21/15 | 1964          | SEA         | 580\n",
       "6/22/15 | 300           | HNL         | 537\n",
       "6/21/15 | 1149          | IAD         | 508\n",
       "6/20/15 | 353           | ORD         | 505\n",
       "8/23/15 | 1589          | ORD         | 458\n",
       "7/23/15 | 1960          | LAX         | 438\n",
       "6/23/15 | 1606          | ORD         | 430\n",
       "6/4/15  | 1743          | LAX         | 408\n",
       "6/17/15 | 1122          | HNL         | 405\n",
       "7/27/15 | 572           | ORD         | 385\n",
       "... (13815 rows omitted)"
      ]
     },
     "execution_count": 2,
     "metadata": {},
     "output_type": "execute_result"
    }
   ],
   "source": [
    "united = Table.read_table('data/united.csv')\n",
    "united # flight info from Summer of 2015, from United Airlines\n",
    "# questions - are flights late more often than they are on time?\n",
    "united.sort('Delay', descending = True)"
   ]
  },
  {
   "cell_type": "code",
   "execution_count": 3,
   "metadata": {},
   "outputs": [
    {
     "data": {
      "image/png": "[encoded data removed]",
      "text/plain": [
       "<Figure size 432x288 with 1 Axes>"
      ]
     },
     "metadata": {},
     "output_type": "display_data"
    }
   ],
   "source": [
    "united.hist('Delay', bins = np.arange(-20, 300, 10))"
   ]
  },
  {
   "cell_type": "code",
   "execution_count": 4,
   "metadata": {},
   "outputs": [
    {
     "data": {
      "text/plain": [
       "(16.658155515370705, 39.480199851609314)"
      ]
     },
     "execution_count": 4,
     "metadata": {},
     "output_type": "execute_result"
    }
   ],
   "source": [
    "delays = united.column('Delay')\n",
    "population_mean = np.mean(delays)\n",
    "population_sd = np.std(delays)\n",
    "\n",
    "population_mean, population_sd"
   ]
  },
  {
   "cell_type": "code",
   "execution_count": 5,
   "metadata": {},
   "outputs": [],
   "source": [
    "def one_sample_mean(sample_size):\n",
    "    sampled_flights = united.sample(sample_size)\n",
    "    return np.mean(sampled_flights.column('Delay'))"
   ]
  },
  {
   "cell_type": "code",
   "execution_count": 7,
   "metadata": {},
   "outputs": [
    {
     "name": "stdout",
     "output_type": "stream",
     "text": [
      "Help on function sample in module datascience.tables:\n",
      "\n",
      "sample(self, k=None, with_replacement=True, weights=None)\n",
      "    Return a new table where k rows are randomly sampled from the\n",
      "    original table.\n",
      "    \n",
      "    Args:\n",
      "        ``k`` -- specifies the number of rows (``int``) to be sampled from\n",
      "           the table. Default is k equal to number of rows in the table.\n",
      "    \n",
      "        ``with_replacement`` -- (``bool``) By default True;\n",
      "            Samples ``k`` rows with replacement from table, else samples\n",
      "            ``k`` rows without replacement.\n",
      "    \n",
      "        ``weights`` -- Array specifying probability the ith row of the\n",
      "            table is sampled. Defaults to None, which samples each row\n",
      "            with equal probability. ``weights`` must be a valid probability\n",
      "            distribution -- i.e. an array the length of the number of rows,\n",
      "            summing to 1.\n",
      "    \n",
      "    Raises:\n",
      "        ValueError -- if ``weights`` is not length equal to number of rows\n",
      "            in the table; or, if ``weights`` does not sum to 1.\n",
      "    \n",
      "    Returns:\n",
      "        A new instance of ``Table`` with ``k`` rows resampled.\n",
      "    \n",
      "    >>> jobs = Table().with_columns(\n",
      "    ...     'job',  make_array('a', 'b', 'c', 'd'),\n",
      "    ...     'wage', make_array(10, 20, 15, 8))\n",
      "    >>> jobs\n",
      "    job  | wage\n",
      "    a    | 10\n",
      "    b    | 20\n",
      "    c    | 15\n",
      "    d    | 8\n",
      "    >>> jobs.sample() # doctest: +SKIP\n",
      "    job  | wage\n",
      "    b    | 20\n",
      "    b    | 20\n",
      "    a    | 10\n",
      "    d    | 8\n",
      "    >>> jobs.sample(with_replacement=True) # doctest: +SKIP\n",
      "    job  | wage\n",
      "    d    | 8\n",
      "    b    | 20\n",
      "    c    | 15\n",
      "    a    | 10\n",
      "    >>> jobs.sample(k = 2) # doctest: +SKIP\n",
      "    job  | wage\n",
      "    b    | 20\n",
      "    c    | 15\n",
      "    >>> ws =  make_array(0.5, 0.5, 0, 0)\n",
      "    >>> jobs.sample(k=2, with_replacement=True, weights=ws) # doctest: +SKIP\n",
      "    job  | wage\n",
      "    a    | 10\n",
      "    a    | 10\n",
      "    >>> jobs.sample(k=2, weights=make_array(1, 0, 1, 0))\n",
      "    Traceback (most recent call last):\n",
      "        ...\n",
      "    ValueError: probabilities do not sum to 1\n",
      "    >>> jobs.sample(k=2, weights=make_array(1, 0, 0)) # Weights must be length of table.\n",
      "    Traceback (most recent call last):\n",
      "        ...\n",
      "    ValueError: 'a' and 'p' must have same size\n",
      "\n"
     ]
    }
   ],
   "source": [
    "help(Table.sample)"
   ]
  },
  {
   "cell_type": "code",
   "execution_count": 8,
   "metadata": {},
   "outputs": [],
   "source": [
    "def ten_thousand_sample_means(sample_size):\n",
    "    means = make_array()\n",
    "    for i in np.arange(10000):\n",
    "        means = np.append(means, one_sample_mean(sample_size))\n",
    "    return means"
   ]
  },
  {
   "cell_type": "code",
   "execution_count": 9,
   "metadata": {},
   "outputs": [],
   "source": [
    "\"\"\"Empirical distribution of random sample means\"\"\"\n",
    "\n",
    "def plot_sample_means(sample_size):\n",
    "    means = ten_thousand_sample_means(sample_size)\n",
    "    sample_means = Table().with_column('Sample Means', means)\n",
    "    \n",
    "    # Display empirical histogram and print all relevant quantities\n",
    "    sample_means.hist(bins=20)\n",
    "    plots.xlabel('Sample Means')\n",
    "    plots.title('Sample Size ' + str(sample_size))\n",
    "    print(\"Sample size: \", sample_size)\n",
    "    print(\"Population mean:\", np.mean(united.column('Delay')))\n",
    "    print(\"Average of sample means: \", np.mean(means))\n",
    "    print(\"Population SD:\", np.std(united.column('Delay')))\n",
    "    print(\"SD of sample means:\", np.std(means))"
   ]
  },
  {
   "cell_type": "code",
   "execution_count": 10,
   "metadata": {},
   "outputs": [
    {
     "name": "stdout",
     "output_type": "stream",
     "text": [
      "Sample size:  100\n",
      "Population mean: 16.658155515370705\n",
      "Average of sample means:  16.63691\n",
      "Population SD: 39.480199851609314\n",
      "SD of sample means: 3.910659122437035\n"
     ]
    },
    {
     "data": {
      "image/png": "[encoded data removed]",
      "text/plain": [
       "<Figure size 432x288 with 1 Axes>"
      ]
     },
     "metadata": {},
     "output_type": "display_data"
    }
   ],
   "source": [
    "plot_sample_means(100)"
   ]
  },
  {
   "cell_type": "code",
   "execution_count": 16,
   "metadata": {},
   "outputs": [
    {
     "data": {
      "text/plain": [
       "3.9480199851609314"
      ]
     },
     "execution_count": 16,
     "metadata": {},
     "output_type": "execute_result"
    }
   ],
   "source": [
    "#Population SD: 39.480199851609314\n",
    "#SD of sample means: 3.910659122437035\n",
    "39.480199851609314/np.sqrt(100)"
   ]
  },
  {
   "cell_type": "code",
   "execution_count": 17,
   "metadata": {},
   "outputs": [
    {
     "data": {
      "text/plain": [
       "10.09568860318348"
      ]
     },
     "execution_count": 17,
     "metadata": {},
     "output_type": "execute_result"
    }
   ],
   "source": [
    "39.480199851609314/3.9106"
   ]
  },
  {
   "cell_type": "code",
   "execution_count": 11,
   "metadata": {},
   "outputs": [
    {
     "name": "stdout",
     "output_type": "stream",
     "text": [
      "Sample size:  400\n",
      "Population mean: 16.658155515370705\n",
      "Average of sample means:  16.62421325\n",
      "Population SD: 39.480199851609314\n",
      "SD of sample means: 1.9503314623159411\n"
     ]
    },
    {
     "data": {
      "image/png": "[encoded data removed]",
      "text/plain": [
       "<Figure size 432x288 with 1 Axes>"
      ]
     },
     "metadata": {},
     "output_type": "display_data"
    }
   ],
   "source": [
    "plot_sample_means(400)"
   ]
  },
  {
   "cell_type": "code",
   "execution_count": 14,
   "metadata": {},
   "outputs": [
    {
     "data": {
      "text/plain": [
       "1.9740099925804657"
      ]
     },
     "execution_count": 14,
     "metadata": {},
     "output_type": "execute_result"
    }
   ],
   "source": [
    "#sample size = 400\n",
    "#Population SD: 39.480199851609314\n",
    "#SD of sample means: 1.9503314623159411\n",
    "# SD = population SD / sqrt(sample_size)\n",
    "\n",
    "39.480199851609314/np.sqrt(400) # should equal to 1.95"
   ]
  },
  {
   "cell_type": "code",
   "execution_count": 18,
   "metadata": {},
   "outputs": [
    {
     "data": {
      "text/plain": [
       "20.246256334158623"
      ]
     },
     "execution_count": 18,
     "metadata": {},
     "output_type": "execute_result"
    }
   ],
   "source": [
    "39.480199851609314/1.95"
   ]
  },
  {
   "cell_type": "code",
   "execution_count": 12,
   "metadata": {},
   "outputs": [
    {
     "name": "stdout",
     "output_type": "stream",
     "text": [
      "Sample size:  900\n",
      "Population mean: 16.658155515370705\n",
      "Average of sample means:  16.662512999999997\n",
      "Population SD: 39.480199851609314\n",
      "SD of sample means: 1.3174954413738502\n"
     ]
    },
    {
     "data": {
      "image/png": "[encoded data removed]",
      "text/plain": [
       "<Figure size 432x288 with 1 Axes>"
      ]
     },
     "metadata": {},
     "output_type": "display_data"
    }
   ],
   "source": [
    "plot_sample_means(900)"
   ]
  },
  {
   "cell_type": "code",
   "execution_count": 15,
   "metadata": {},
   "outputs": [
    {
     "data": {
      "text/plain": [
       "1.3160066617203106"
      ]
     },
     "execution_count": 15,
     "metadata": {},
     "output_type": "execute_result"
    }
   ],
   "source": [
    "#Population SD: 39.480199851609314\n",
    "#SD of sample means: 1.3174954413738502\n",
    "39.480199851609314/(np.sqrt(900))"
   ]
  },
  {
   "cell_type": "code",
   "execution_count": 20,
   "metadata": {},
   "outputs": [
    {
     "data": {
      "text/plain": [
       "29.966099776740315"
      ]
     },
     "execution_count": 20,
     "metadata": {},
     "output_type": "execute_result"
    }
   ],
   "source": [
    "39.480199851609314/1.3174954413738502"
   ]
  },
  {
   "cell_type": "markdown",
   "metadata": {},
   "source": [
    "## SD of the sample mean"
   ]
  },
  {
   "cell_type": "code",
   "execution_count": 21,
   "metadata": {},
   "outputs": [],
   "source": [
    "# Warning: this cell will take a long time to run!\n",
    "sample_sizes = np.arange(100, 950, 50) # (100, 150, 200, ...900)\n",
    "\n",
    "sample_mean_sds = make_array()\n",
    "for n in sample_sizes:\n",
    "    sample_means = ten_thousand_sample_means(n)\n",
    "    sample_mean_sds = np.append(sample_mean_sds, np.std(sample_means))"
   ]
  },
  {
   "cell_type": "code",
   "execution_count": 22,
   "metadata": {},
   "outputs": [
    {
     "data": {
      "text/html": [
       "<table border=\"1\" class=\"dataframe\">\n",
       "    <thead>\n",
       "        <tr>\n",
       "            <th>Sample size</th> <th>SD of simulated sample means</th> <th>Pop SD / sqrt(sample size)</th>\n",
       "        </tr>\n",
       "    </thead>\n",
       "    <tbody>\n",
       "        <tr>\n",
       "            <td>100        </td> <td>3.94684                     </td> <td>3.94802                   </td>\n",
       "        </tr>\n",
       "        <tr>\n",
       "            <td>150        </td> <td>3.22475                     </td> <td>3.22354                   </td>\n",
       "        </tr>\n",
       "        <tr>\n",
       "            <td>200        </td> <td>2.77556                     </td> <td>2.79167                   </td>\n",
       "        </tr>\n",
       "        <tr>\n",
       "            <td>250        </td> <td>2.50927                     </td> <td>2.49695                   </td>\n",
       "        </tr>\n",
       "        <tr>\n",
       "            <td>300        </td> <td>2.28228                     </td> <td>2.27939                   </td>\n",
       "        </tr>\n",
       "        <tr>\n",
       "            <td>350        </td> <td>2.07066                     </td> <td>2.11031                   </td>\n",
       "        </tr>\n",
       "        <tr>\n",
       "            <td>400        </td> <td>1.97518                     </td> <td>1.97401                   </td>\n",
       "        </tr>\n",
       "        <tr>\n",
       "            <td>450        </td> <td>1.85711                     </td> <td>1.86111                   </td>\n",
       "        </tr>\n",
       "        <tr>\n",
       "            <td>500        </td> <td>1.75416                     </td> <td>1.76561                   </td>\n",
       "        </tr>\n",
       "        <tr>\n",
       "            <td>550        </td> <td>1.67531                     </td> <td>1.68344                   </td>\n",
       "        </tr>\n",
       "    </tbody>\n",
       "</table>\n",
       "<p>... (7 rows omitted)</p>"
      ],
      "text/plain": [
       "Sample size | SD of simulated sample means | Pop SD / sqrt(sample size)\n",
       "100         | 3.94684                      | 3.94802\n",
       "150         | 3.22475                      | 3.22354\n",
       "200         | 2.77556                      | 2.79167\n",
       "250         | 2.50927                      | 2.49695\n",
       "300         | 2.28228                      | 2.27939\n",
       "350         | 2.07066                      | 2.11031\n",
       "400         | 1.97518                      | 1.97401\n",
       "450         | 1.85711                      | 1.86111\n",
       "500         | 1.75416                      | 1.76561\n",
       "550         | 1.67531                      | 1.68344\n",
       "... (7 rows omitted)"
      ]
     },
     "execution_count": 22,
     "metadata": {},
     "output_type": "execute_result"
    }
   ],
   "source": [
    "sd_table = Table().with_columns(\n",
    "    'Sample size', sample_sizes,\n",
    "    'SD of simulated sample means', sample_mean_sds,\n",
    "    'Pop SD / sqrt(sample size)', population_sd / np.sqrt(sample_sizes),\n",
    ")\n",
    "sd_table"
   ]
  },
  {
   "cell_type": "code",
   "execution_count": 23,
   "metadata": {},
   "outputs": [
    {
     "data": {
      "image/png": "[encoded data removed]",
      "text/plain": [
       "<Figure size 360x360 with 1 Axes>"
      ]
     },
     "metadata": {},
     "output_type": "display_data"
    }
   ],
   "source": [
    "sd_table.scatter('Sample size')"
   ]
  },
  {
   "cell_type": "markdown",
   "metadata": {},
   "source": [
    "## SD of 0/1 Population ##"
   ]
  },
  {
   "cell_type": "code",
   "execution_count": 24,
   "metadata": {},
   "outputs": [
    {
     "data": {
      "text/plain": [
       "array([1., 1., 0., 0., 0., 0., 0., 0., 0., 0.])"
      ]
     },
     "execution_count": 24,
     "metadata": {},
     "output_type": "execute_result"
    }
   ],
   "source": [
    "# Population of size 10\n",
    "\n",
    "number_of_ones = 2\n",
    "zero_one_population = np.append(np.ones(number_of_ones), np.zeros(10 - number_of_ones))\n",
    "zero_one_population"
   ]
  },
  {
   "cell_type": "code",
   "execution_count": 25,
   "metadata": {},
   "outputs": [
    {
     "data": {
      "text/plain": [
       "0.2"
      ]
     },
     "execution_count": 25,
     "metadata": {},
     "output_type": "execute_result"
    }
   ],
   "source": [
    "np.mean(zero_one_population)\n",
    "#what does this number below mean?\n",
    "# 2 ones in my population\n",
    "# the rest are 8"
   ]
  },
  {
   "cell_type": "code",
   "execution_count": 26,
   "metadata": {},
   "outputs": [
    {
     "data": {
      "text/plain": [
       "0.4000000000000001"
      ]
     },
     "execution_count": 26,
     "metadata": {},
     "output_type": "execute_result"
    }
   ],
   "source": [
    "np.std(zero_one_population)\n",
    "# what does the number below mean, in regards to our average above?\n",
    "# one standard deviation away from the average of 0.2, is 0.4\n"
   ]
  },
  {
   "cell_type": "code",
   "execution_count": 27,
   "metadata": {},
   "outputs": [],
   "source": [
    "# Let's make a graph with proportion of ones on the x axis and SD on the y axis"
   ]
  },
  {
   "cell_type": "code",
   "execution_count": 28,
   "metadata": {},
   "outputs": [],
   "source": [
    "def sd_of_zero_one_population(number_of_ones):\n",
    "    \"\"\"SD of a population with num_ones ones and (10 - num_ones) zeros\"\"\"\n",
    "    zero_one_population = np.append(np.ones(number_of_ones), np.zeros(10 - number_of_ones))\n",
    "    return np.std(zero_one_population)"
   ]
  },
  {
   "cell_type": "code",
   "execution_count": 29,
   "metadata": {},
   "outputs": [
    {
     "data": {
      "text/html": [
       "<table border=\"1\" class=\"dataframe\">\n",
       "    <thead>\n",
       "        <tr>\n",
       "            <th>Number of ones</th> <th>Proportion of ones</th>\n",
       "        </tr>\n",
       "    </thead>\n",
       "    <tbody>\n",
       "        <tr>\n",
       "            <td>0             </td> <td>0                 </td>\n",
       "        </tr>\n",
       "        <tr>\n",
       "            <td>1             </td> <td>0.1               </td>\n",
       "        </tr>\n",
       "        <tr>\n",
       "            <td>2             </td> <td>0.2               </td>\n",
       "        </tr>\n",
       "        <tr>\n",
       "            <td>3             </td> <td>0.3               </td>\n",
       "        </tr>\n",
       "        <tr>\n",
       "            <td>4             </td> <td>0.4               </td>\n",
       "        </tr>\n",
       "        <tr>\n",
       "            <td>5             </td> <td>0.5               </td>\n",
       "        </tr>\n",
       "        <tr>\n",
       "            <td>6             </td> <td>0.6               </td>\n",
       "        </tr>\n",
       "        <tr>\n",
       "            <td>7             </td> <td>0.7               </td>\n",
       "        </tr>\n",
       "        <tr>\n",
       "            <td>8             </td> <td>0.8               </td>\n",
       "        </tr>\n",
       "        <tr>\n",
       "            <td>9             </td> <td>0.9               </td>\n",
       "        </tr>\n",
       "    </tbody>\n",
       "</table>\n",
       "<p>... (1 rows omitted)</p>"
      ],
      "text/plain": [
       "Number of ones | Proportion of ones\n",
       "0              | 0\n",
       "1              | 0.1\n",
       "2              | 0.2\n",
       "3              | 0.3\n",
       "4              | 0.4\n",
       "5              | 0.5\n",
       "6              | 0.6\n",
       "7              | 0.7\n",
       "8              | 0.8\n",
       "9              | 0.9\n",
       "... (1 rows omitted)"
      ]
     },
     "execution_count": 29,
     "metadata": {},
     "output_type": "execute_result"
    }
   ],
   "source": [
    "poss_ones = np.arange(11) # (0, 1....10)\n",
    "zero_one_pop = Table().with_columns(\n",
    "    'Number of ones', poss_ones,\n",
    "    'Proportion of ones', poss_ones / 10\n",
    ")\n",
    "zero_one_pop"
   ]
  },
  {
   "cell_type": "code",
   "execution_count": 30,
   "metadata": {},
   "outputs": [],
   "source": [
    "sds = zero_one_pop.apply(sd_of_zero_one_population, 'Number of ones')\n",
    "zero_one_pop = zero_one_pop.with_column('SD', sds)"
   ]
  },
  {
   "cell_type": "code",
   "execution_count": 31,
   "metadata": {},
   "outputs": [
    {
     "data": {
      "image/png": "[encoded data removed]",
      "text/plain": [
       "<Figure size 360x360 with 1 Axes>"
      ]
     },
     "metadata": {},
     "output_type": "display_data"
    }
   ],
   "source": [
    "zero_one_pop.scatter('Proportion of ones', 'SD')"
   ]
  },
  {
   "cell_type": "code",
   "execution_count": null,
   "metadata": {},
   "outputs": [],
   "source": [
    "# make 1-2 observations and write them here:\n",
    "\n"
   ]
  }
 ],
 "metadata": {
  "anaconda-cloud": {},
  "kernelspec": {
   "display_name": "Python 3",
   "language": "python",
   "name": "python3"
  },
  "language_info": {
   "codemirror_mode": {
    "name": "ipython",
    "version": 3
   },
   "file_extension": ".py",
   "mimetype": "text/x-python",
   "name": "python",
   "nbconvert_exporter": "python",
   "pygments_lexer": "ipython3",
   "version": "3.7.6"
  },
  "toc": {
   "base_numbering": 1,
   "nav_menu": {},
   "number_sections": false,
   "sideBar": true,
   "skip_h1_title": false,
   "title_cell": "Table of Contents",
   "title_sidebar": "Contents",
   "toc_cell": false,
   "toc_position": {},
   "toc_section_display": true,
   "toc_window_display": false
  }
 },
 "nbformat": 4,
 "nbformat_minor": 1
}
