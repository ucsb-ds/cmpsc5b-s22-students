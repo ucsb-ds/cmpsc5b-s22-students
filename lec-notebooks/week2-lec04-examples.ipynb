{
 "cells": [
  {
   "cell_type": "code",
   "execution_count": null,
   "metadata": {},
   "outputs": [],
   "source": [
    "from datascience import *\n",
    "import numpy as np\n",
    "\n",
    "%matplotlib inline\n",
    "import matplotlib.pyplot as plots\n",
    "plots.style.use('fivethirtyeight')"
   ]
  },
  {
   "cell_type": "markdown",
   "metadata": {},
   "source": [
    "## Example: Benford's Law"
   ]
  },
  {
   "cell_type": "code",
   "execution_count": null,
   "metadata": {},
   "outputs": [],
   "source": [
    "digits = np.arange(1, 10)\n",
    "benford_model = np.log10(1 + 1/digits)"
   ]
  },
  {
   "cell_type": "code",
   "execution_count": null,
   "metadata": {},
   "outputs": [],
   "source": [
    "benford = Table().with_columns(\n",
    "    'First digit', digits,\n",
    "    'Benford model prob', benford_model)\n",
    "benford.barh('First digit')"
   ]
  },
  {
   "cell_type": "code",
   "execution_count": null,
   "metadata": {},
   "outputs": [],
   "source": [
    "# You don't have to understand how this function works, since it uses Python features from beyond Data 8.\n",
    "def first_digit(num):\n",
    "    return int(str(num)[0])"
   ]
  },
  {
   "cell_type": "code",
   "execution_count": null,
   "metadata": {},
   "outputs": [],
   "source": [
    "first_digit(32)"
   ]
  },
  {
   "cell_type": "code",
   "execution_count": null,
   "metadata": {
    "scrolled": true
   },
   "outputs": [],
   "source": [
    "first_digit(17719087)"
   ]
  },
  {
   "cell_type": "code",
   "execution_count": null,
   "metadata": {},
   "outputs": [],
   "source": [
    "# County populations from the census data\n",
    "counties = Table.read_table('data/counties.csv')\n",
    "counties = counties.where('SUMLEV', 50).select(5,6,9).relabeled(0,'State').relabeled(1,'County').relabeled(2,'Population')\n",
    "counties.show(3)"
   ]
  },
  {
   "cell_type": "code",
   "execution_count": null,
   "metadata": {},
   "outputs": [],
   "source": [
    "first_digits = counties.apply(first_digit, 'Population')\n",
    "counties = counties.with_column('First digit', first_digits)\n",
    "counties.show(3)"
   ]
  },
  {
   "cell_type": "code",
   "execution_count": null,
   "metadata": {},
   "outputs": [],
   "source": [
    "num_counties = counties.num_rows"
   ]
  },
  {
   "cell_type": "code",
   "execution_count": null,
   "metadata": {},
   "outputs": [],
   "source": [
    "by_digit = counties.group('First digit')\n",
    "proportions = by_digit.column('count')/num_counties\n",
    "by_digit = by_digit.with_columns(\n",
    "    'Proportion', proportions,\n",
    "    'Benford proportion', benford_model\n",
    ")\n",
    "by_digit.drop('count').barh('First digit')"
   ]
  },
  {
   "cell_type": "markdown",
   "metadata": {},
   "source": [
    "Null hypothesis:  the match up with  the bendfrd model is due to chance"
   ]
  },
  {
   "cell_type": "markdown",
   "metadata": {},
   "source": [
    "Alternative hypothesis:  similarities in our counties' proportion and Benford's model are "
   ]
  },
  {
   "cell_type": "markdown",
   "metadata": {},
   "source": [
    "Test statistic: ___\n",
    "\n",
    "Fill in the blank with \"Bigger\" or \"Smaller\":\n",
    "\n",
    "___ values of the test statistic favor the alternative"
   ]
  },
  {
   "cell_type": "code",
   "execution_count": null,
   "metadata": {},
   "outputs": [],
   "source": [
    "observed_tvd = sum(abs(proportions - benford_model))/2\n",
    "observed_tvd\n",
    "print(proportions)\n",
    "print(benford_model)"
   ]
  },
  {
   "cell_type": "code",
   "execution_count": null,
   "metadata": {},
   "outputs": [],
   "source": [
    "sample_proportions(num_counties, benford_model)"
   ]
  },
  {
   "cell_type": "code",
   "execution_count": null,
   "metadata": {},
   "outputs": [],
   "source": [
    "simulated_frequencies = sample_proportions(num_counties, benford_model)\n",
    "tvd = sum(abs(simulated_frequencies - benford_model))/2\n",
    "tvd"
   ]
  },
  {
   "cell_type": "code",
   "execution_count": null,
   "metadata": {},
   "outputs": [],
   "source": [
    "def simulate_county_first_digits():\n",
    "    ...\n",
    "    return ..."
   ]
  },
  {
   "cell_type": "code",
   "execution_count": null,
   "metadata": {},
   "outputs": [],
   "source": [
    "simulated_tvds = make_array()\n",
    "\n",
    "for i in np.arange(10000):\n",
    "    simulated_tvds = np.append(simulated_tvds, simulate_county_first_digits())"
   ]
  },
  {
   "cell_type": "code",
   "execution_count": null,
   "metadata": {},
   "outputs": [],
   "source": [
    "Table().with_column('Simulated TVD', simulated_tvds).hist(0)"
   ]
  },
  {
   "cell_type": "code",
   "execution_count": null,
   "metadata": {},
   "outputs": [],
   "source": [
    "np.count_nonzero(simulated_tvds >= observed_tvd) / 10000"
   ]
  },
  {
   "cell_type": "markdown",
   "metadata": {},
   "source": [
    "Are the data consistent with the null hypothesis?"
   ]
  },
  {
   "cell_type": "markdown",
   "metadata": {},
   "source": [
    "## Example: sleep survey"
   ]
  },
  {
   "cell_type": "code",
   "execution_count": null,
   "metadata": {},
   "outputs": [],
   "source": [
    "survey = Table.read_table('data/sleep_survey.csv')\n",
    "survey"
   ]
  },
  {
   "cell_type": "code",
   "execution_count": null,
   "metadata": {},
   "outputs": [],
   "source": [
    "def simplify(sleep_position):\n",
    "    if sleep_position == 'On your left side' or sleep_position == 'On your right side':\n",
    "        return 'side'\n",
    "    else:\n",
    "        return 'back or stomach'\n",
    "    \n",
    "survey = survey.with_column(\n",
    "    'position',\n",
    "    survey.apply(simplify, 'Sleep position')\n",
    ").select('position', 'Hours of sleep')\n",
    "\n",
    "survey"
   ]
  },
  {
   "cell_type": "code",
   "execution_count": null,
   "metadata": {},
   "outputs": [],
   "source": [
    "survey.group('position', np.average)"
   ]
  },
  {
   "cell_type": "markdown",
   "metadata": {},
   "source": [
    "Null hypothesis:  Any differences between average hours of sleep between back/stomach sleepersor side sleepers is due to chance"
   ]
  },
  {
   "cell_type": "markdown",
   "metadata": {},
   "source": [
    "Alternative hypothesis:  \n",
    "\n",
    "Back/stomach sleepers on average get more sleep than side sleepers\n"
   ]
  },
  {
   "cell_type": "markdown",
   "metadata": {},
   "source": [
    "Test statistic:\n",
    "\n",
    "__ Average hours of sleep for back/stomach - Average hours of sleep for side __\n",
    "__ Asolute value of (Average hours of sleepfor back/stomach - Average hours of sleep for side) __\n",
    "\n",
    "\n",
    "\n",
    "Fill in the blank with \"Bigger\" or \"Smaller\":\n",
    "\n",
    "__ Larger __ values of the test statistic favor the alternative"
   ]
  },
  {
   "cell_type": "code",
   "execution_count": null,
   "metadata": {},
   "outputs": [],
   "source": [
    "def compute_test_statistic(tbl):\n",
    "    grouped = tbl.group('position', np.average)\n",
    "    avgs = grouped.column('Hours of sleep average')\n",
    "    return avgs.item(1) - avgs.item(0)"
   ]
  },
  {
   "cell_type": "code",
   "execution_count": null,
   "metadata": {},
   "outputs": [],
   "source": [
    "obs_test_stat = compute_test_statistic(survey)\n",
    "obs_test_stat"
   ]
  },
  {
   "cell_type": "code",
   "execution_count": null,
   "metadata": {},
   "outputs": [],
   "source": [
    "random_labels = survey.sample(with_replacement=False).column('position')"
   ]
  },
  {
   "cell_type": "code",
   "execution_count": null,
   "metadata": {},
   "outputs": [],
   "source": [
    "def simulate_under_null():\n",
    "    ...\n",
    "    return ...\n"
   ]
  },
  {
   "cell_type": "code",
   "execution_count": null,
   "metadata": {
    "scrolled": true
   },
   "outputs": [],
   "source": [
    "# simulate under null, 1000\n",
    "# collect simualation results in a way we can view them in a histogram in the cell below\n"
   ]
  },
  {
   "cell_type": "code",
   "execution_count": null,
   "metadata": {},
   "outputs": [],
   "source": [
    "Table().with_column('Simulated difference', simulated_diffs).hist(0)"
   ]
  },
  {
   "cell_type": "code",
   "execution_count": null,
   "metadata": {},
   "outputs": [],
   "source": [
    "obs_test_stat"
   ]
  },
  {
   "cell_type": "code",
   "execution_count": null,
   "metadata": {},
   "outputs": [],
   "source": [
    "np.mean(simulated_diffs <= obs_test_stat)"
   ]
  },
  {
   "cell_type": "markdown",
   "metadata": {},
   "source": [
    "Are the data consistent with the null hypothesis?"
   ]
  },
  {
   "cell_type": "code",
   "execution_count": null,
   "metadata": {},
   "outputs": [],
   "source": []
  }
 ],
 "metadata": {
  "kernelspec": {
   "display_name": "Python 3 (ipykernel)",
   "language": "python",
   "name": "python3"
  },
  "language_info": {
   "codemirror_mode": {
    "name": "ipython",
    "version": 3
   },
   "file_extension": ".py",
   "mimetype": "text/x-python",
   "name": "python",
   "nbconvert_exporter": "python",
   "pygments_lexer": "ipython3",
   "version": "3.9.10"
  },
  "toc": {
   "base_numbering": 1,
   "nav_menu": {},
   "number_sections": false,
   "sideBar": true,
   "skip_h1_title": false,
   "title_cell": "Table of Contents",
   "title_sidebar": "Contents",
   "toc_cell": false,
   "toc_position": {},
   "toc_section_display": true,
   "toc_window_display": true
  }
 },
 "nbformat": 4,
 "nbformat_minor": 2
}
