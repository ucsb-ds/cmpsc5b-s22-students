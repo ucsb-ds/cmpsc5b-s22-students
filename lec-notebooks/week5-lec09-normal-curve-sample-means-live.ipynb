{
 "cells": [
  {
   "cell_type": "code",
   "execution_count": 34,
   "metadata": {},
   "outputs": [],
   "source": [
    "import matplotlib\n",
    "from datascience import *\n",
    "%matplotlib inline\n",
    "import matplotlib.pyplot as plots\n",
    "import numpy as np\n",
    "plots.style.use('fivethirtyeight')"
   ]
  },
  {
   "cell_type": "markdown",
   "metadata": {},
   "source": [
    "## Standard Units"
   ]
  },
  {
   "cell_type": "code",
   "execution_count": 38,
   "metadata": {},
   "outputs": [
    {
     "data": {
      "text/html": [
       "<table border=\"1\" class=\"dataframe\">\n",
       "    <thead>\n",
       "        <tr>\n",
       "            <th>Midterm</th> <th>Final</th>\n",
       "        </tr>\n",
       "    </thead>\n",
       "    <tbody>\n",
       "        <tr>\n",
       "            <td>91     </td> <td>88   </td>\n",
       "        </tr>\n",
       "        <tr>\n",
       "            <td>91     </td> <td>90   </td>\n",
       "        </tr>\n",
       "        <tr>\n",
       "            <td>91     </td> <td>91   </td>\n",
       "        </tr>\n",
       "        <tr>\n",
       "            <td>91     </td> <td>87.5 </td>\n",
       "        </tr>\n",
       "        <tr>\n",
       "            <td>91     </td> <td>87.5 </td>\n",
       "        </tr>\n",
       "        <tr>\n",
       "            <td>91     </td> <td>94.5 </td>\n",
       "        </tr>\n",
       "        <tr>\n",
       "            <td>91     </td> <td>90.5 </td>\n",
       "        </tr>\n",
       "        <tr>\n",
       "            <td>91     </td> <td>97   </td>\n",
       "        </tr>\n",
       "        <tr>\n",
       "            <td>91     </td> <td>85   </td>\n",
       "        </tr>\n",
       "        <tr>\n",
       "            <td>91     </td> <td>95.5 </td>\n",
       "        </tr>\n",
       "    </tbody>\n",
       "</table>\n",
       "<p>... (1232 rows omitted)</p>"
      ],
      "text/plain": [
       "Midterm | Final\n",
       "91      | 88\n",
       "91      | 90\n",
       "91      | 91\n",
       "91      | 87.5\n",
       "91      | 87.5\n",
       "91      | 94.5\n",
       "91      | 90.5\n",
       "91      | 97\n",
       "91      | 85\n",
       "91      | 95.5\n",
       "... (1232 rows omitted)"
      ]
     },
     "execution_count": 38,
     "metadata": {},
     "output_type": "execute_result"
    }
   ],
   "source": [
    "exams = Table.read_table('data/exams_fa18.csv')\n",
    "exams.sort('Midterm', descending = True)"
   ]
  },
  {
   "cell_type": "code",
   "execution_count": 36,
   "metadata": {},
   "outputs": [
    {
     "data": {
      "image/png": "[encoded data removed]",
      "text/plain": [
       "<Figure size 432x576 with 2 Axes>"
      ]
     },
     "metadata": {},
     "output_type": "display_data"
    }
   ],
   "source": [
    "exams.hist(overlay=False, bins=20)"
   ]
  },
  {
   "cell_type": "code",
   "execution_count": 39,
   "metadata": {},
   "outputs": [],
   "source": [
    "def standard_units(x):\n",
    "    \"\"\"Convert array x to standard units.\"\"\"\n",
    "    return (x - np.average(x)) / np.std(x)"
   ]
  },
  {
   "cell_type": "code",
   "execution_count": 40,
   "metadata": {
    "scrolled": true
   },
   "outputs": [
    {
     "data": {
      "text/html": [
       "<table border=\"1\" class=\"dataframe\">\n",
       "    <thead>\n",
       "        <tr>\n",
       "            <th>Midterm</th> <th>Final</th> <th>Midterm in Standard Units</th> <th>Final in Standard Units</th>\n",
       "        </tr>\n",
       "    </thead>\n",
       "    <tbody>\n",
       "        <tr>\n",
       "            <td>91     </td> <td>88   </td> <td>1.16278                  </td> <td>0.717241               </td>\n",
       "        </tr>\n",
       "        <tr>\n",
       "            <td>89.5   </td> <td>84   </td> <td>1.03032                  </td> <td>0.390935               </td>\n",
       "        </tr>\n",
       "        <tr>\n",
       "            <td>78     </td> <td>71.5 </td> <td>0.0147889                </td> <td>-0.628768              </td>\n",
       "        </tr>\n",
       "        <tr>\n",
       "            <td>87     </td> <td>88   </td> <td>0.809552                 </td> <td>0.717241               </td>\n",
       "        </tr>\n",
       "        <tr>\n",
       "            <td>72     </td> <td>72.5 </td> <td>-0.515053                </td> <td>-0.547191              </td>\n",
       "        </tr>\n",
       "        <tr>\n",
       "            <td>71.5   </td> <td>61   </td> <td>-0.559206                </td> <td>-1.48532               </td>\n",
       "        </tr>\n",
       "        <tr>\n",
       "            <td>82     </td> <td>92.5 </td> <td>0.368017                 </td> <td>1.08433                </td>\n",
       "        </tr>\n",
       "        <tr>\n",
       "            <td>84.5   </td> <td>87   </td> <td>0.588784                 </td> <td>0.635664               </td>\n",
       "        </tr>\n",
       "        <tr>\n",
       "            <td>85     </td> <td>92   </td> <td>0.632938                 </td> <td>1.04355                </td>\n",
       "        </tr>\n",
       "        <tr>\n",
       "            <td>78     </td> <td>71   </td> <td>0.0147889                </td> <td>-0.669556              </td>\n",
       "        </tr>\n",
       "        <tr>\n",
       "            <td>83     </td> <td>70.5 </td> <td>0.456324                 </td> <td>-0.710344              </td>\n",
       "        </tr>\n",
       "        <tr>\n",
       "            <td>86     </td> <td>87.5 </td> <td>0.721245                 </td> <td>0.676452               </td>\n",
       "        </tr>\n",
       "        <tr>\n",
       "            <td>89.5   </td> <td>98   </td> <td>1.03032                  </td> <td>1.533                  </td>\n",
       "        </tr>\n",
       "        <tr>\n",
       "            <td>78     </td> <td>80   </td> <td>0.0147889                </td> <td>0.0646305              </td>\n",
       "        </tr>\n",
       "        <tr>\n",
       "            <td>83.5   </td> <td>80.5 </td> <td>0.500477                 </td> <td>0.105419               </td>\n",
       "        </tr>\n",
       "        <tr>\n",
       "            <td>78     </td> <td>75   </td> <td>0.0147889                </td> <td>-0.343251              </td>\n",
       "        </tr>\n",
       "        <tr>\n",
       "            <td>81     </td> <td>92   </td> <td>0.27971                  </td> <td>1.04355                </td>\n",
       "        </tr>\n",
       "        <tr>\n",
       "            <td>70     </td> <td>63.5 </td> <td>-0.691667                </td> <td>-1.28138               </td>\n",
       "        </tr>\n",
       "        <tr>\n",
       "            <td>62     </td> <td>65.5 </td> <td>-1.39812                 </td> <td>-1.11823               </td>\n",
       "        </tr>\n",
       "        <tr>\n",
       "            <td>79     </td> <td>82.5 </td> <td>0.103096                 </td> <td>0.268571               </td>\n",
       "        </tr>\n",
       "    </tbody>\n",
       "</table>\n",
       "<p>... (1222 rows omitted)</p>"
      ],
      "text/plain": [
       "<IPython.core.display.HTML object>"
      ]
     },
     "metadata": {},
     "output_type": "display_data"
    }
   ],
   "source": [
    "midterm_su = standard_units(exams.column('Midterm'))\n",
    "exams = exams.with_column('Midterm in Standard Units', midterm_su)\n",
    "\n",
    "final_su = standard_units(exams.column('Final'))\n",
    "exams = exams.with_column('Final in Standard Units', final_su)\n",
    "\n",
    "exams.show(20)"
   ]
  },
  {
   "cell_type": "code",
   "execution_count": 6,
   "metadata": {},
   "outputs": [
    {
     "data": {
      "image/png": "[encoded data removed]",
      "text/plain": [
       "<Figure size 432x288 with 1 Axes>"
      ]
     },
     "metadata": {},
     "output_type": "display_data"
    }
   ],
   "source": [
    "exams.hist('Midterm in Standard Units', bins=20)"
   ]
  },
  {
   "cell_type": "code",
   "execution_count": 7,
   "metadata": {},
   "outputs": [
    {
     "data": {
      "image/png": "[encoded data removed]",
      "text/plain": [
       "<Figure size 432x288 with 1 Axes>"
      ]
     },
     "metadata": {},
     "output_type": "display_data"
    }
   ],
   "source": [
    "exams.hist('Final in Standard Units', bins=20)"
   ]
  },
  {
   "cell_type": "markdown",
   "metadata": {
    "collapsed": true
   },
   "source": [
    "## Central Limit Theorem ##"
   ]
  },
  {
   "cell_type": "code",
   "execution_count": 43,
   "metadata": {},
   "outputs": [
    {
     "data": {
      "text/html": [
       "<table border=\"1\" class=\"dataframe\">\n",
       "    <thead>\n",
       "        <tr>\n",
       "            <th>Date</th> <th>Flight Number</th> <th>Destination</th> <th>Delay</th>\n",
       "        </tr>\n",
       "    </thead>\n",
       "    <tbody>\n",
       "        <tr>\n",
       "            <td>6/21/15</td> <td>1964         </td> <td>SEA        </td> <td>580  </td>\n",
       "        </tr>\n",
       "        <tr>\n",
       "            <td>6/22/15</td> <td>300          </td> <td>HNL        </td> <td>537  </td>\n",
       "        </tr>\n",
       "        <tr>\n",
       "            <td>6/21/15</td> <td>1149         </td> <td>IAD        </td> <td>508  </td>\n",
       "        </tr>\n",
       "        <tr>\n",
       "            <td>6/20/15</td> <td>353          </td> <td>ORD        </td> <td>505  </td>\n",
       "        </tr>\n",
       "        <tr>\n",
       "            <td>8/23/15</td> <td>1589         </td> <td>ORD        </td> <td>458  </td>\n",
       "        </tr>\n",
       "        <tr>\n",
       "            <td>7/23/15</td> <td>1960         </td> <td>LAX        </td> <td>438  </td>\n",
       "        </tr>\n",
       "        <tr>\n",
       "            <td>6/23/15</td> <td>1606         </td> <td>ORD        </td> <td>430  </td>\n",
       "        </tr>\n",
       "        <tr>\n",
       "            <td>6/4/15 </td> <td>1743         </td> <td>LAX        </td> <td>408  </td>\n",
       "        </tr>\n",
       "        <tr>\n",
       "            <td>6/17/15</td> <td>1122         </td> <td>HNL        </td> <td>405  </td>\n",
       "        </tr>\n",
       "        <tr>\n",
       "            <td>7/27/15</td> <td>572          </td> <td>ORD        </td> <td>385  </td>\n",
       "        </tr>\n",
       "    </tbody>\n",
       "</table>\n",
       "<p>... (13815 rows omitted)</p>"
      ],
      "text/plain": [
       "Date    | Flight Number | Destination | Delay\n",
       "6/21/15 | 1964          | SEA         | 580\n",
       "6/22/15 | 300           | HNL         | 537\n",
       "6/21/15 | 1149          | IAD         | 508\n",
       "6/20/15 | 353           | ORD         | 505\n",
       "8/23/15 | 1589          | ORD         | 458\n",
       "7/23/15 | 1960          | LAX         | 438\n",
       "6/23/15 | 1606          | ORD         | 430\n",
       "6/4/15  | 1743          | LAX         | 408\n",
       "6/17/15 | 1122          | HNL         | 405\n",
       "7/27/15 | 572           | ORD         | 385\n",
       "... (13815 rows omitted)"
      ]
     },
     "execution_count": 43,
     "metadata": {},
     "output_type": "execute_result"
    }
   ],
   "source": [
    "united = Table.read_table('data/united.csv') # change file path name to data/united.csv\n",
    "united_bins = np.arange(-20, 300, 10) # (-20, -10, 0, 10,...300)\n",
    "united.sort('Delay', descending = True)"
   ]
  },
  {
   "cell_type": "code",
   "execution_count": 41,
   "metadata": {
    "scrolled": true
   },
   "outputs": [
    {
     "data": {
      "image/png": "[encoded data removed]",
      "text/plain": [
       "<Figure size 432x288 with 1 Axes>"
      ]
     },
     "metadata": {},
     "output_type": "display_data"
    }
   ],
   "source": [
    "united.hist('Delay', bins=united_bins)"
   ]
  },
  {
   "cell_type": "code",
   "execution_count": null,
   "metadata": {},
   "outputs": [],
   "source": [
    "# notice above, this is not a normal distribution\n",
    "# most of the flight delays were short, with some \n",
    "# being a little longer"
   ]
  },
  {
   "cell_type": "code",
   "execution_count": 10,
   "metadata": {},
   "outputs": [
    {
     "data": {
      "text/plain": [
       "(16.658155515370705, 39.480199851609314)"
      ]
     },
     "execution_count": 10,
     "metadata": {},
     "output_type": "execute_result"
    }
   ],
   "source": [
    "delays = united.column('Delay')\n",
    "delay_mean = np.mean(delays)\n",
    "delay_sd = np.std(delays)\n",
    "delay_mean, delay_sd"
   ]
  },
  {
   "cell_type": "code",
   "execution_count": 44,
   "metadata": {},
   "outputs": [
    {
     "data": {
      "text/plain": [
       "(-62.30224418784792, 95.61855521858934)"
      ]
     },
     "execution_count": 44,
     "metadata": {},
     "output_type": "execute_result"
    }
   ],
   "source": [
    "#The average flight delay in my united table (population distribution)\n",
    "# is 16.66 minutes late.\n",
    "# With a standard deviation of 39.48 minutes.\n",
    "\n",
    "# Just by visually inspecting our distribution above, average +- 1 SD\n",
    "# accounts for the majority of our distribution\n",
    "# Most of our flights were between 22 minutes early and 56 minutes late.\n",
    "(delay_mean-2*delay_sd, delay_mean+2*delay_sd)"
   ]
  },
  {
   "cell_type": "code",
   "execution_count": 45,
   "metadata": {},
   "outputs": [],
   "source": [
    "my_small_set = make_array(1,2,3)"
   ]
  },
  {
   "cell_type": "code",
   "execution_count": 47,
   "metadata": {},
   "outputs": [
    {
     "data": {
      "text/plain": [
       "2.0"
      ]
     },
     "execution_count": 47,
     "metadata": {},
     "output_type": "execute_result"
    }
   ],
   "source": [
    "my_small_set_average = np.average(my_small_set)\n",
    "my_small_set_average"
   ]
  },
  {
   "cell_type": "code",
   "execution_count": 53,
   "metadata": {},
   "outputs": [
    {
     "data": {
      "text/plain": [
       "0.816496580927726"
      ]
     },
     "execution_count": 53,
     "metadata": {},
     "output_type": "execute_result"
    }
   ],
   "source": [
    "my_small_set_distance = my_small_set - my_small_set_average\n",
    "my_small_set_distance_squared = my_small_set_distance ** 2\n",
    "my_small_set_distance_squared_average = np.average(my_small_set_distance_squared)\n",
    "np.sqrt(my_small_set_distance_squared_average)"
   ]
  },
  {
   "cell_type": "code",
   "execution_count": 54,
   "metadata": {},
   "outputs": [
    {
     "data": {
      "text/plain": [
       "0.816496580927726"
      ]
     },
     "execution_count": 54,
     "metadata": {},
     "output_type": "execute_result"
    }
   ],
   "source": [
    "np.std(my_small_set)"
   ]
  },
  {
   "cell_type": "code",
   "execution_count": 11,
   "metadata": {},
   "outputs": [
    {
     "data": {
      "text/plain": [
       "2"
      ]
     },
     "execution_count": 11,
     "metadata": {},
     "output_type": "execute_result"
    }
   ],
   "source": [
    "percentile(50, delays)"
   ]
  },
  {
   "cell_type": "code",
   "execution_count": 55,
   "metadata": {},
   "outputs": [],
   "source": [
    "def one_sample_mean(sample_size):\n",
    "    \"\"\" Takes a sample from the population of flights and computes its mean\"\"\"\n",
    "    sampled_flights = united.sample(sample_size)\n",
    "    return np.mean(sampled_flights.column('Delay'))"
   ]
  },
  {
   "cell_type": "code",
   "execution_count": 56,
   "metadata": {},
   "outputs": [
    {
     "data": {
      "text/plain": [
       "17.62"
      ]
     },
     "execution_count": 56,
     "metadata": {},
     "output_type": "execute_result"
    }
   ],
   "source": [
    "one_sample_mean(100)"
   ]
  },
  {
   "cell_type": "code",
   "execution_count": 14,
   "metadata": {},
   "outputs": [],
   "source": [
    "def ten_thousand_sample_means(sample_size):\n",
    "    \"\"\" repeating one_sample_mean 10,000 times, we get 10,000 different samples of \n",
    "    given sample size \"\"\"\n",
    "    means = make_array()\n",
    "    for i in np.arange(10000):\n",
    "        mean = one_sample_mean(sample_size)\n",
    "        means = np.append(means, mean)\n",
    "    return means"
   ]
  },
  {
   "cell_type": "code",
   "execution_count": 15,
   "metadata": {},
   "outputs": [],
   "source": [
    "sample_means_100 = ten_thousand_sample_means(100)"
   ]
  },
  {
   "cell_type": "code",
   "execution_count": 16,
   "metadata": {},
   "outputs": [
    {
     "data": {
      "text/plain": [
       "array([27.96, 16.19, 13.65, ..., 15.1 , 22.6 , 20.52])"
      ]
     },
     "execution_count": 16,
     "metadata": {},
     "output_type": "execute_result"
    }
   ],
   "source": [
    "sample_means_100"
   ]
  },
  {
   "cell_type": "code",
   "execution_count": 17,
   "metadata": {},
   "outputs": [
    {
     "data": {
      "text/plain": [
       "10000"
      ]
     },
     "execution_count": 17,
     "metadata": {},
     "output_type": "execute_result"
    }
   ],
   "source": [
    "len(sample_means_100)\n"
   ]
  },
  {
   "cell_type": "code",
   "execution_count": 18,
   "metadata": {},
   "outputs": [
    {
     "name": "stdout",
     "output_type": "stream",
     "text": [
      "Population Average: 16.658155515370705\n"
     ]
    },
    {
     "data": {
      "image/png": "[encoded data removed]",
      "text/plain": [
       "<Figure size 432x288 with 1 Axes>"
      ]
     },
     "metadata": {},
     "output_type": "display_data"
    }
   ],
   "source": [
    "Table().with_column('Mean of 100 flight delays', sample_means_100).hist(bins=20)\n",
    "\n",
    "print('Population Average:', delay_mean)"
   ]
  },
  {
   "cell_type": "code",
   "execution_count": 19,
   "metadata": {},
   "outputs": [
    {
     "name": "stdout",
     "output_type": "stream",
     "text": [
      "Population Average: 16.658155515370705\n"
     ]
    },
    {
     "data": {
      "image/png": "[encoded data removed]",
      "text/plain": [
       "<Figure size 432x288 with 1 Axes>"
      ]
     },
     "metadata": {},
     "output_type": "display_data"
    }
   ],
   "source": [
    "sample_means_400 = ten_thousand_sample_means(400)\n",
    "Table().with_column('Mean of 400 flight delays', sample_means_400).hist(bins=20)\n",
    "print('Population Average:', delay_mean)"
   ]
  },
  {
   "cell_type": "code",
   "execution_count": null,
   "metadata": {},
   "outputs": [],
   "source": [
    "# does the shape above look familiar?\n"
   ]
  },
  {
   "cell_type": "code",
   "execution_count": 20,
   "metadata": {},
   "outputs": [],
   "source": [
    "sample_means_900 = ten_thousand_sample_means(900)"
   ]
  },
  {
   "cell_type": "markdown",
   "metadata": {},
   "source": [
    "## Distribution of the Sample Average"
   ]
  },
  {
   "cell_type": "code",
   "execution_count": 21,
   "metadata": {},
   "outputs": [
    {
     "data": {
      "text/html": [
       "<table border=\"1\" class=\"dataframe\">\n",
       "    <thead>\n",
       "        <tr>\n",
       "            <th>400</th> <th>900</th>\n",
       "        </tr>\n",
       "    </thead>\n",
       "    <tbody>\n",
       "        <tr>\n",
       "            <td>16.31  </td> <td>17.8411</td>\n",
       "        </tr>\n",
       "        <tr>\n",
       "            <td>14.805 </td> <td>18.7267</td>\n",
       "        </tr>\n",
       "        <tr>\n",
       "            <td>16.7225</td> <td>16.9067</td>\n",
       "        </tr>\n",
       "        <tr>\n",
       "            <td>15.695 </td> <td>16.6911</td>\n",
       "        </tr>\n",
       "        <tr>\n",
       "            <td>15.825 </td> <td>16.45  </td>\n",
       "        </tr>\n",
       "        <tr>\n",
       "            <td>16.525 </td> <td>19.5489</td>\n",
       "        </tr>\n",
       "        <tr>\n",
       "            <td>17.29  </td> <td>15.9178</td>\n",
       "        </tr>\n",
       "        <tr>\n",
       "            <td>18.5975</td> <td>18.4767</td>\n",
       "        </tr>\n",
       "        <tr>\n",
       "            <td>16.03  </td> <td>15.6156</td>\n",
       "        </tr>\n",
       "        <tr>\n",
       "            <td>16.0675</td> <td>17.9422</td>\n",
       "        </tr>\n",
       "    </tbody>\n",
       "</table>\n",
       "<p>... (9990 rows omitted)</p>"
      ],
      "text/plain": [
       "400     | 900\n",
       "16.31   | 17.8411\n",
       "14.805  | 18.7267\n",
       "16.7225 | 16.9067\n",
       "15.695  | 16.6911\n",
       "15.825  | 16.45\n",
       "16.525  | 19.5489\n",
       "17.29   | 15.9178\n",
       "18.5975 | 18.4767\n",
       "16.03   | 15.6156\n",
       "16.0675 | 17.9422\n",
       "... (9990 rows omitted)"
      ]
     },
     "execution_count": 21,
     "metadata": {},
     "output_type": "execute_result"
    }
   ],
   "source": [
    "means_tbl = Table().with_columns(\n",
    "    '400', sample_means_400,\n",
    "    '900', sample_means_900,\n",
    ")\n",
    "means_tbl"
   ]
  },
  {
   "cell_type": "code",
   "execution_count": 22,
   "metadata": {},
   "outputs": [
    {
     "data": {
      "image/png": "[encoded data removed]",
      "text/plain": [
       "<Figure size 432x288 with 1 Axes>"
      ]
     },
     "metadata": {},
     "output_type": "display_data"
    }
   ],
   "source": [
    "means_tbl.hist(bins = np.arange(5, 31, 0.5))\n",
    "plots.title('Distribution of Sample Average');"
   ]
  },
  {
   "cell_type": "code",
   "execution_count": null,
   "metadata": {},
   "outputs": [],
   "source": [
    "# how would you interpret these two distributions above?\n",
    "# what does it tell you about the effect of increasing the sample size?\n",
    "\n",
    "# write 1-2 sentences here:\n"
   ]
  },
  {
   "cell_type": "code",
   "execution_count": 33,
   "metadata": {},
   "outputs": [
    {
     "data": {
      "text/plain": [
       "16.658155515370705"
      ]
     },
     "execution_count": 33,
     "metadata": {},
     "output_type": "execute_result"
    }
   ],
   "source": [
    "np.mean(united.column('Delay'))"
   ]
  },
  {
   "cell_type": "code",
   "execution_count": null,
   "metadata": {},
   "outputs": [],
   "source": [
    "# what does it mean that the distribution of the sample average\n",
    "# is centered at 16.65?\n",
    "\n"
   ]
  },
  {
   "cell_type": "code",
   "execution_count": 23,
   "metadata": {},
   "outputs": [
    {
     "data": {
      "text/plain": [
       "13825"
      ]
     },
     "execution_count": 23,
     "metadata": {},
     "output_type": "execute_result"
    }
   ],
   "source": [
    "united.num_rows"
   ]
  },
  {
   "cell_type": "code",
   "execution_count": 24,
   "metadata": {},
   "outputs": [
    {
     "data": {
      "text/plain": [
       "1845253300060122534684058597421182951017338738756884128476156537109395559702295050837795610986469015706417701209704203890696502616877632733167737247128710898267622177602279004150237321497531712957437744194467949953310673085563343687922543234838511385550568262088418334016217887061735745358842456577208939555740404373614633941136938352510678553686140728842897559436843191863609514780562396147921834537075860636817493656816017587537752125750151805566479543166742758254440594398100342650860455445795087942680221047750947255562969782801791748639952850756659518870235020316513575934561122027710440608023538776721761349403194150575014182981349346980577699633375066811153948871815566280319121565243984196831524157664160526536071758298269096548661601001356951548310460921171197940711389849058290284443729287317331793254191518876765178731748453564076631795997590039640387156475975294002056115371653663653810384491550154761367793765502453546587829476276348569091617961438914859251316410793595152416543512156519176222525375686012456475153300949448237257016682314992901731108854714280100481240308330277787527057569352848422077629847824096271549220911775951976626139238541198474345951971545910182363395101363835800498012434345133091636761182032795746446844142448244919867423330981077698924182274597759026544920974656341161972764585310457415429622273840896606709916142504003925039710004668567134806122448204818515414944603415501242828559573349452338412633791865156682427204248905349875523364526656394479383566492244844079971495826454577423053062574743146215624961827622221237394742408158154755584214993725965536145817076603276572256684406880822280072607100009918212890625"
      ]
     },
     "execution_count": 24,
     "metadata": {},
     "output_type": "execute_result"
    }
   ],
   "source": [
    "# How many possible sample means are there?\n",
    "united.num_rows ** 400"
   ]
  },
  {
   "cell_type": "markdown",
   "metadata": {},
   "source": [
    "Far too many samples to enumerate them all! So while there is a well-defined distribution given by all possible sample means from all samples, it is too hard to compute it exactly. Instead we approximate this distribution by drawing 10,000 samples from it and drawing the histogram."
   ]
  },
  {
   "cell_type": "markdown",
   "metadata": {},
   "source": [
    "## Variability of the Distribution"
   ]
  },
  {
   "cell_type": "code",
   "execution_count": 25,
   "metadata": {},
   "outputs": [
    {
     "data": {
      "text/plain": [
       "(16.658155515370705, 39.480199851609314)"
      ]
     },
     "execution_count": 25,
     "metadata": {},
     "output_type": "execute_result"
    }
   ],
   "source": [
    "delay_mean = np.mean(united.column('Delay'))\n",
    "delay_sd = np.std(united.column('Delay'))\n",
    "delay_mean, delay_sd"
   ]
  },
  {
   "cell_type": "code",
   "execution_count": 26,
   "metadata": {},
   "outputs": [],
   "source": [
    "\"\"\"Empirical distribution of random sample means\"\"\"\n",
    "\n",
    "def plot_and_summarize_sample_means(sample_size):\n",
    "    sample_means = ten_thousand_sample_means(sample_size)\n",
    "    sample_means_tbl = Table().with_column('Sample Means', sample_means)\n",
    "    \n",
    "    # Print some information about the distribution of the sample means\n",
    "    print(\"Sample size: \", sample_size)\n",
    "    print(\"Population mean:\", delay_mean)\n",
    "    print(\"Average of sample means: \", np.mean(sample_means))\n",
    "    print(\"Population SD:\", delay_sd)\n",
    "    print(\"SD of sample means:\", np.std(sample_means))\n",
    "\n",
    "    # Plot a histogram of the sample means\n",
    "    sample_means_tbl.hist(bins=20)\n",
    "    plots.xlabel('Sample Means')\n",
    "    plots.title('Sample Size ' + str(sample_size))"
   ]
  },
  {
   "cell_type": "code",
   "execution_count": null,
   "metadata": {},
   "outputs": [],
   "source": [
    "# We looked at two distributions of different sample sizes above\n",
    "# what do you think will happen when we look at a distribution\n",
    "# of sample size 100?\n",
    "\n",
    "# will it be wider? narrower?"
   ]
  },
  {
   "cell_type": "code",
   "execution_count": 27,
   "metadata": {
    "scrolled": false
   },
   "outputs": [
    {
     "name": "stdout",
     "output_type": "stream",
     "text": [
      "Sample size:  100\n",
      "Population mean: 16.658155515370705\n",
      "Average of sample means:  16.653013\n",
      "Population SD: 39.480199851609314\n",
      "SD of sample means: 3.9738379976832223\n"
     ]
    },
    {
     "data": {
      "image/png": "[encoded data removed]",
      "text/plain": [
       "<Figure size 432x288 with 1 Axes>"
      ]
     },
     "metadata": {},
     "output_type": "display_data"
    }
   ],
   "source": [
    "plot_and_summarize_sample_means(100)"
   ]
  },
  {
   "cell_type": "code",
   "execution_count": 28,
   "metadata": {},
   "outputs": [
    {
     "data": {
      "text/plain": [
       "10.040691759918616"
      ]
     },
     "execution_count": 28,
     "metadata": {},
     "output_type": "execute_result"
    }
   ],
   "source": [
    "# Ratio\n",
    "# Population SD / SD of Sample Means\n",
    "39.48 / 3.932"
   ]
  },
  {
   "cell_type": "code",
   "execution_count": 29,
   "metadata": {},
   "outputs": [
    {
     "name": "stdout",
     "output_type": "stream",
     "text": [
      "Sample size:  400\n",
      "Population mean: 16.658155515370705\n",
      "Average of sample means:  16.63101925\n",
      "Population SD: 39.480199851609314\n",
      "SD of sample means: 1.9744365001195752\n"
     ]
    },
    {
     "data": {
      "image/png": "[encoded data removed]",
      "text/plain": [
       "<Figure size 432x288 with 1 Axes>"
      ]
     },
     "metadata": {},
     "output_type": "display_data"
    }
   ],
   "source": [
    "plot_and_summarize_sample_means(400)"
   ]
  },
  {
   "cell_type": "code",
   "execution_count": 30,
   "metadata": {},
   "outputs": [
    {
     "data": {
      "text/plain": [
       "20.010136847440442"
      ]
     },
     "execution_count": 30,
     "metadata": {},
     "output_type": "execute_result"
    }
   ],
   "source": [
    "# Ratio\n",
    "# Population SD / SD of Sample Means\n",
    "39.48 / 1.973"
   ]
  },
  {
   "cell_type": "code",
   "execution_count": 31,
   "metadata": {},
   "outputs": [
    {
     "name": "stdout",
     "output_type": "stream",
     "text": [
      "Sample size:  625\n",
      "Population mean: 16.658155515370705\n",
      "Average of sample means:  16.661071520000004\n",
      "Population SD: 39.480199851609314\n",
      "SD of sample means: 1.5857449208460008\n"
     ]
    },
    {
     "data": {
      "image/png": "[encoded data removed]",
      "text/plain": [
       "<Figure size 432x288 with 1 Axes>"
      ]
     },
     "metadata": {},
     "output_type": "display_data"
    }
   ],
   "source": [
    "plot_and_summarize_sample_means(625)"
   ]
  },
  {
   "cell_type": "code",
   "execution_count": 32,
   "metadata": {},
   "outputs": [
    {
     "data": {
      "text/plain": [
       "25.034876347495242"
      ]
     },
     "execution_count": 32,
     "metadata": {},
     "output_type": "execute_result"
    }
   ],
   "source": [
    "# Ratio\n",
    "# Population SD / SD of Sample Means\n",
    "39.48 / 1.577"
   ]
  },
  {
   "cell_type": "code",
   "execution_count": null,
   "metadata": {},
   "outputs": [],
   "source": [
    "# what do you notice about the ratio of Population SD / SD of Sample Means, as sample size\n",
    "# increases?\n",
    "\n",
    "\n",
    "# why do you think that pattern occurs?\n",
    "\n",
    "# what does the SD of Sample Means tell us?\n",
    "\n"
   ]
  }
 ],
 "metadata": {
  "anaconda-cloud": {},
  "kernelspec": {
   "display_name": "Python 3",
   "language": "python",
   "name": "python3"
  },
  "language_info": {
   "codemirror_mode": {
    "name": "ipython",
    "version": 3
   },
   "file_extension": ".py",
   "mimetype": "text/x-python",
   "name": "python",
   "nbconvert_exporter": "python",
   "pygments_lexer": "ipython3",
   "version": "3.7.6"
  },
  "toc": {
   "base_numbering": 1,
   "nav_menu": {},
   "number_sections": false,
   "sideBar": true,
   "skip_h1_title": false,
   "title_cell": "Table of Contents",
   "title_sidebar": "Contents",
   "toc_cell": false,
   "toc_position": {},
   "toc_section_display": true,
   "toc_window_display": false
  }
 },
 "nbformat": 4,
 "nbformat_minor": 1
}
