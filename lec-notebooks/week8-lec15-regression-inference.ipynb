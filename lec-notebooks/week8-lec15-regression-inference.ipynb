{
 "cells": [
  {
   "cell_type": "code",
   "execution_count": null,
   "metadata": {},
   "outputs": [],
   "source": [
    "from datascience import *\n",
    "import numpy as np\n",
    "import matplotlib\n",
    "%matplotlib inline\n",
    "import matplotlib.pyplot as plots\n",
    "plots.style.use('fivethirtyeight')"
   ]
  },
  {
   "cell_type": "code",
   "execution_count": null,
   "metadata": {},
   "outputs": [],
   "source": [
    "def draw_and_compare(true_slope, true_int, sample_size):\n",
    "    x = np.random.normal(50, 5, sample_size)\n",
    "    xlims = np.array([np.min(x), np.max(x)])\n",
    "    errors = np.random.normal(0, 6, sample_size)\n",
    "    y = (true_slope * x + true_int) + errors\n",
    "    sample = Table().with_columns('x', x, 'y', y)\n",
    "\n",
    "    sample.scatter('x', 'y')\n",
    "    plots.plot(xlims, true_slope*xlims + true_int, lw=2, color='green')\n",
    "    plots.title('True Line, and Points Created')\n",
    "\n",
    "    sample.scatter('x', 'y')\n",
    "    plots.title('What We Get to See')\n",
    "\n",
    "    sample.scatter('x', 'y', fit_line=True)\n",
    "    plots.title('Regression Line: Estimate of True Line')\n",
    "\n",
    "    sample.scatter('x', 'y', fit_line=True)\n",
    "    plots.plot(xlims, true_slope*xlims + true_int, lw=2, color='green')\n",
    "    plots.title(\"Regression Line and True Line\")"
   ]
  },
  {
   "cell_type": "markdown",
   "metadata": {},
   "source": [
    "## Linear regression"
   ]
  },
  {
   "cell_type": "code",
   "execution_count": null,
   "metadata": {},
   "outputs": [],
   "source": [
    "def standard_units(arr):\n",
    "    return (arr - np.average(arr))/np.std(arr)\n",
    "\n",
    "def correlation(t, x, y):\n",
    "    x_standard = standard_units(t.column(x))\n",
    "    y_standard = standard_units(t.column(y))\n",
    "    return np.average(x_standard * y_standard)\n",
    "\n",
    "def slope(t, x, y):\n",
    "    r = correlation(t, x, y)\n",
    "    y_sd = np.std(t.column(y))\n",
    "    x_sd = np.std(t.column(x))\n",
    "    return r * y_sd / x_sd\n",
    "\n",
    "def intercept(t, x, y):\n",
    "    x_mean = np.mean(t.column(x))\n",
    "    y_mean = np.mean(t.column(y))\n",
    "    return y_mean - slope(t, x, y)*x_mean\n",
    "\n",
    "def fitted_values(t, x, y):\n",
    "    \"\"\"Return an array of the regression estimates at all the x values\"\"\"\n",
    "    a = slope(t, x, y)\n",
    "    b = intercept(t, x, y)\n",
    "    return a*t.column(x) + b\n",
    "\n",
    "def residuals(t, x, y):\n",
    "    predictions = fitted_values(t, x, y)\n",
    "    return t.column(y) - predictions"
   ]
  },
  {
   "cell_type": "code",
   "execution_count": null,
   "metadata": {},
   "outputs": [],
   "source": [
    "def add_regression_to_table(t, x, y):\n",
    "    \"\"\" Returns a new table with 'Fitted value' and 'Residual' columns added \"\"\"\n",
    "    t_with_extra_cols = t.with_columns(\n",
    "        'Fitted value', fitted_values(t, x, y),\n",
    "        'Residual', residuals(t, x, y)\n",
    "    )\n",
    "    return t_with_extra_cols"
   ]
  },
  {
   "cell_type": "markdown",
   "metadata": {},
   "source": [
    "## Properties of residuals"
   ]
  },
  {
   "cell_type": "code",
   "execution_count": null,
   "metadata": {},
   "outputs": [],
   "source": [
    "galton = Table.read_table('data/galton.csv')\n",
    "\n",
    "heights = Table().with_columns(\n",
    "    'MidParent', galton.column('midparentHeight'),\n",
    "    'Child', galton.column('childHeight')\n",
    ")\n",
    "\n",
    "heights = add_regression_to_table(\n",
    "    heights, 'MidParent', 'Child'\n",
    ")"
   ]
  },
  {
   "cell_type": "code",
   "execution_count": null,
   "metadata": {},
   "outputs": [],
   "source": [
    "correlation(heights, 'MidParent', 'Child')"
   ]
  },
  {
   "cell_type": "code",
   "execution_count": null,
   "metadata": {},
   "outputs": [],
   "source": [
    "correlation(heights, 'MidParent', 'Residual')"
   ]
  },
  {
   "cell_type": "code",
   "execution_count": null,
   "metadata": {},
   "outputs": [],
   "source": [
    "correlation(heights, 'Residual', 'Fitted value')"
   ]
  },
  {
   "cell_type": "code",
   "execution_count": null,
   "metadata": {},
   "outputs": [],
   "source": [
    "demographics_all = Table.read_table('data/district_demographics2016.csv')\n",
    "demographics = demographics_all.drop(\n",
    "    'State', 'District', 'Percent voting for Clinton')\n",
    "\n",
    "demographics = add_regression_to_table(\n",
    "    demographics, 'College%', 'Median Income'\n",
    ")"
   ]
  },
  {
   "cell_type": "code",
   "execution_count": null,
   "metadata": {},
   "outputs": [],
   "source": [
    "np.round(correlation(demographics, 'College%', 'Median Income'), 6)"
   ]
  },
  {
   "cell_type": "code",
   "execution_count": null,
   "metadata": {},
   "outputs": [],
   "source": [
    "np.round(correlation(demographics, 'Fitted value', 'Residual'), 6)"
   ]
  },
  {
   "cell_type": "code",
   "execution_count": null,
   "metadata": {},
   "outputs": [],
   "source": [
    "np.round(correlation(demographics, 'College%', 'Residual'), 6)"
   ]
  },
  {
   "cell_type": "code",
   "execution_count": null,
   "metadata": {},
   "outputs": [],
   "source": [
    "obs_height_sd = np.std(heights.column('Child'))\n",
    "obs_height_sd"
   ]
  },
  {
   "cell_type": "markdown",
   "metadata": {},
   "source": [
    "## Correlation as a measure of clustering"
   ]
  },
  {
   "cell_type": "code",
   "execution_count": null,
   "metadata": {},
   "outputs": [],
   "source": [
    "demographics.drop('Residual').scatter('College%')"
   ]
  },
  {
   "cell_type": "code",
   "execution_count": null,
   "metadata": {},
   "outputs": [],
   "source": [
    "heights.drop('Residual').scatter('MidParent')"
   ]
  },
  {
   "cell_type": "code",
   "execution_count": null,
   "metadata": {},
   "outputs": [],
   "source": [
    "income_obs_sd = np.std(demographics.column('Median Income'))\n",
    "income_obs_sd"
   ]
  },
  {
   "cell_type": "code",
   "execution_count": null,
   "metadata": {},
   "outputs": [],
   "source": [
    "income_pred_sd = np.std(demographics.column('Fitted value'))\n",
    "income_pred_sd"
   ]
  },
  {
   "cell_type": "code",
   "execution_count": null,
   "metadata": {},
   "outputs": [],
   "source": [
    "income_pred_sd / income_obs_sd"
   ]
  },
  {
   "cell_type": "code",
   "execution_count": null,
   "metadata": {},
   "outputs": [],
   "source": [
    "r_demographics = correlation(demographics, 'College%', 'Median Income')\n",
    "r_demographics"
   ]
  },
  {
   "cell_type": "code",
   "execution_count": null,
   "metadata": {},
   "outputs": [],
   "source": [
    "height_obs_sd = np.std(heights.column('Child'))\n",
    "height_obs_sd"
   ]
  },
  {
   "cell_type": "code",
   "execution_count": null,
   "metadata": {},
   "outputs": [],
   "source": [
    "height_pred_sd = np.std(heights.column('Fitted value'))\n",
    "height_pred_sd"
   ]
  },
  {
   "cell_type": "code",
   "execution_count": null,
   "metadata": {},
   "outputs": [],
   "source": [
    "height_pred_sd / height_obs_sd"
   ]
  },
  {
   "cell_type": "code",
   "execution_count": null,
   "metadata": {},
   "outputs": [],
   "source": [
    "r_heights = correlation(heights, 'MidParent', 'Child')\n",
    "r_heights"
   ]
  },
  {
   "cell_type": "markdown",
   "metadata": {},
   "source": [
    "No matter what the shape of the scatter plot, the SD of the fitted values is a fraction of the SD of the observed values of $y$. The fraction is |r|.\n",
    "\n",
    "$$\n",
    "\\frac{\\mbox{SD of fitted values}}{\\mbox{SD of observed values}} ~=~ |r| ~~~~~~~~~~ \\mbox{That is,} ~~ \\mbox{SD of fitted values} = |r|\\cdot \\mbox{SD of }y\n",
    "$$"
   ]
  },
  {
   "cell_type": "markdown",
   "metadata": {},
   "source": [
    "## Variance decomposition"
   ]
  },
  {
   "cell_type": "code",
   "execution_count": null,
   "metadata": {},
   "outputs": [],
   "source": [
    "height_residual_sd = np.std(heights.column('Residual'))\n",
    "height_residual_sd / height_obs_sd"
   ]
  },
  {
   "cell_type": "code",
   "execution_count": null,
   "metadata": {},
   "outputs": [],
   "source": [
    "np.sqrt(1-r_heights**2)"
   ]
  },
  {
   "cell_type": "markdown",
   "metadata": {},
   "source": [
    "No matter what the shape of the scatter plot, the SD of the residuals is a fraction of the SD of the observed values of $y$. The fraction is  $\\sqrt{1-r^2}$.\n",
    "\n",
    "$$\n",
    "\\mbox{SD of residuals} ~=~ \\sqrt{1 - r^2} \\cdot \\mbox{SD of }y\n",
    "$$"
   ]
  },
  {
   "cell_type": "markdown",
   "metadata": {},
   "source": [
    "### Some more examples: dugongs and hybrid cars"
   ]
  },
  {
   "cell_type": "code",
   "execution_count": null,
   "metadata": {},
   "outputs": [],
   "source": [
    "dugong = Table.read_table('data/dugong.csv')"
   ]
  },
  {
   "cell_type": "code",
   "execution_count": null,
   "metadata": {},
   "outputs": [],
   "source": [
    "np.std(dugong.column('Age')) ** 2"
   ]
  },
  {
   "cell_type": "code",
   "execution_count": null,
   "metadata": {},
   "outputs": [],
   "source": [
    "np.std(fitted_values(dugong, 'Length', 'Age')) ** 2"
   ]
  },
  {
   "cell_type": "code",
   "execution_count": null,
   "metadata": {},
   "outputs": [],
   "source": [
    "np.std(residuals(dugong, 'Length', 'Age')) ** 2"
   ]
  },
  {
   "cell_type": "code",
   "execution_count": null,
   "metadata": {},
   "outputs": [],
   "source": [
    "hybrid = Table.read_table('data/hybrid.csv')"
   ]
  },
  {
   "cell_type": "code",
   "execution_count": null,
   "metadata": {},
   "outputs": [],
   "source": [
    "np.std(residuals(hybrid, 'acceleration', 'mpg'))"
   ]
  },
  {
   "cell_type": "code",
   "execution_count": null,
   "metadata": {},
   "outputs": [],
   "source": [
    "r_hybrid = correlation(hybrid, 'acceleration', 'mpg')\n",
    "r_hybrid"
   ]
  },
  {
   "cell_type": "code",
   "execution_count": null,
   "metadata": {
    "scrolled": true
   },
   "outputs": [],
   "source": [
    "np.sqrt(1 - r_hybrid**2)*np.std(hybrid.column('mpg'))"
   ]
  },
  {
   "cell_type": "markdown",
   "metadata": {},
   "source": [
    "## Regression Model ##"
   ]
  },
  {
   "cell_type": "code",
   "execution_count": null,
   "metadata": {},
   "outputs": [],
   "source": [
    "draw_and_compare(2, -5, 10)"
   ]
  },
  {
   "cell_type": "code",
   "execution_count": null,
   "metadata": {},
   "outputs": [],
   "source": [
    "draw_and_compare(2, -5, 100)"
   ]
  },
  {
   "cell_type": "markdown",
   "metadata": {},
   "source": [
    "## Prediction ##"
   ]
  },
  {
   "cell_type": "code",
   "execution_count": null,
   "metadata": {},
   "outputs": [],
   "source": [
    "births = Table.read_table('data/baby.csv')\n",
    "births.show(3)"
   ]
  },
  {
   "cell_type": "code",
   "execution_count": null,
   "metadata": {},
   "outputs": [],
   "source": [
    "births.scatter('Gestational Days', 'Birth Weight')"
   ]
  },
  {
   "cell_type": "code",
   "execution_count": null,
   "metadata": {},
   "outputs": [],
   "source": [
    "births = births.where('Gestational Days', are.between(240, 320))"
   ]
  },
  {
   "cell_type": "code",
   "execution_count": null,
   "metadata": {},
   "outputs": [],
   "source": [
    "births.scatter('Gestational Days', 'Birth Weight', fit_line=True)"
   ]
  },
  {
   "cell_type": "code",
   "execution_count": null,
   "metadata": {},
   "outputs": [],
   "source": [
    "def prediction_at(t, x, y, x_value):\n",
    "    '''\n",
    "    t - table\n",
    "    x - label of x column\n",
    "    y - label of y column\n",
    "    x_value - the x value for which we want to predict y\n",
    "    '''\n",
    "    return slope(t, x, y) * x_value + intercept(t, x, y)"
   ]
  },
  {
   "cell_type": "code",
   "execution_count": null,
   "metadata": {},
   "outputs": [],
   "source": [
    "prediction_at_300 = prediction_at(births, 'Gestational Days', 'Birth Weight', 300)\n",
    "prediction_at_300"
   ]
  },
  {
   "cell_type": "code",
   "execution_count": null,
   "metadata": {},
   "outputs": [],
   "source": [
    "x = 300\n",
    "births.scatter('Gestational Days', 'Birth Weight', fit_line=True)\n",
    "plots.plot([x, x], [40, prediction_at_300], color='gold', lw=2);"
   ]
  },
  {
   "cell_type": "code",
   "execution_count": null,
   "metadata": {},
   "outputs": [],
   "source": [
    "plots.figure(figsize=(6, 20))\n",
    "plots.subplot(5, 1, 1)\n",
    "plots.scatter(births[1], births[0], s=10)\n",
    "plots.xlim([200, 340])\n",
    "plots.title('Original sample')\n",
    "\n",
    "for i in np.arange(1, 5, 1):\n",
    "    plots.subplot(5,1,i+1)\n",
    "    rep = births.sample()\n",
    "    plots.scatter(rep[1], rep[0], s=10)\n",
    "    plots.xlim([200, 340])\n",
    "    plots.title('Bootstrap sample '+str(i))"
   ]
  },
  {
   "cell_type": "code",
   "execution_count": null,
   "metadata": {},
   "outputs": [],
   "source": [
    "for i in np.arange(4):\n",
    "    resample = births.sample()\n",
    "    predicted_y = prediction_at(resample, 'Gestational Days', 'Birth Weight', 300)\n",
    "    print('Predicted y from bootstramp sample was', predicted_y)\n",
    "    resample.scatter('Gestational Days', 'Birth Weight', fit_line=True)\n",
    "    plots.scatter(300, predicted_y, color='gold', s=50, zorder=3);\n",
    "    plots.plot([x, x], [40, predicted_y], color='gold', lw=2);\n",
    "    plots.plot([200, x], [predicted_y, predicted_y], color='gold', lw=2);"
   ]
  },
  {
   "cell_type": "code",
   "execution_count": null,
   "metadata": {},
   "outputs": [],
   "source": [
    "lines = Table(['slope','intercept', 'at 210', 'at 300', 'at 320'])\n",
    "\n",
    "for i in range(10):\n",
    "    resample = births.sample()\n",
    "    a = slope(resample, 'Gestational Days', 'Birth Weight')\n",
    "    b = intercept(resample, 'Gestational Days', 'Birth Weight')\n",
    "    lines.append([a, b, a * 210 + b, a * 300 + b, a * 320 + b])\n",
    "\n",
    "for i in np.arange(lines.num_rows):\n",
    "    line = lines.row(i)\n",
    "    plots.plot([210, 320], [line.item('at 210'), line.item('at 320')], lw=1)\n",
    "    plots.scatter(300, line.item('at 300'), s=30, zorder=3)"
   ]
  },
  {
   "cell_type": "code",
   "execution_count": null,
   "metadata": {},
   "outputs": [],
   "source": [
    "lines = Table(['slope','intercept', 'at 291', 'at 300', 'at 309'])\n",
    "\n",
    "for i in range(10):\n",
    "    resample = births.sample()\n",
    "    a = slope(resample, 'Gestational Days', 'Birth Weight')\n",
    "    b = intercept(resample, 'Gestational Days', 'Birth Weight')\n",
    "    lines.append([a, b, a * 291 + b, a * 300 + b, a * 309 + b])\n",
    "\n",
    "for i in np.arange(lines.num_rows):\n",
    "    line = lines.row(i)\n",
    "    plots.plot([291, 309], [line.item('at 291'), line.item('at 309')], lw=1)\n",
    "    plots.scatter(300, line.item('at 300'), s=30, zorder=3)"
   ]
  },
  {
   "cell_type": "markdown",
   "metadata": {},
   "source": [
    "## Confidence Interval for Prediction ##"
   ]
  },
  {
   "cell_type": "code",
   "execution_count": null,
   "metadata": {},
   "outputs": [],
   "source": [
    "def bootstrap_prediction(t, x, y, new_x, repetitions=1000):\n",
    "\n",
    "    # Bootstrap the scatter, predict, collect\n",
    "    predictions = make_array()\n",
    "    for i in np.arange(repetitions):\n",
    "        resample = t.sample()\n",
    "        predicted_y = prediction_at(resample, x, y, new_x)\n",
    "        predictions = np.append(predictions, predicted_y)\n",
    "\n",
    "    # Find the ends of the approximate 95% prediction interval\n",
    "    left = percentile(2.5, predictions)\n",
    "    right = percentile(97.5, predictions)\n",
    "\n",
    "    # Display results\n",
    "    Table().with_column('Prediction', predictions).hist(bins=20)\n",
    "    plots.xlabel('predictions at x='+str(new_x))\n",
    "    plots.plot([left, right], [0, 0], color='yellow', lw=8);\n",
    "    print('Approximate 95%-confidence interval for height of true line:')\n",
    "    print(left, right, '(width =', right - left, ')') "
   ]
  },
  {
   "cell_type": "code",
   "execution_count": null,
   "metadata": {},
   "outputs": [],
   "source": [
    "bootstrap_prediction(births, 'Gestational Days', 'Birth Weight', 300)"
   ]
  },
  {
   "cell_type": "markdown",
   "metadata": {},
   "source": [
    "## Predictions at Different Values of X"
   ]
  },
  {
   "cell_type": "code",
   "execution_count": null,
   "metadata": {},
   "outputs": [],
   "source": [
    "x = 300\n",
    "births.scatter('Gestational Days', 'Birth Weight', fit_line=True)\n",
    "plots.plot([x, x], [40, prediction_at_300], color='gold', lw=2);"
   ]
  },
  {
   "cell_type": "code",
   "execution_count": null,
   "metadata": {},
   "outputs": [],
   "source": [
    "bootstrap_prediction(births, 'Gestational Days', 'Birth Weight', 210)"
   ]
  },
  {
   "cell_type": "code",
   "execution_count": null,
   "metadata": {},
   "outputs": [],
   "source": [
    "bootstrap_prediction(births, 'Gestational Days', 'Birth Weight', 280)"
   ]
  },
  {
   "cell_type": "code",
   "execution_count": null,
   "metadata": {},
   "outputs": [],
   "source": [
    "np.mean(births.column('Gestational Days'))"
   ]
  },
  {
   "cell_type": "code",
   "execution_count": null,
   "metadata": {},
   "outputs": [],
   "source": [
    "lines = Table(['slope','intercept', 'at 210', 'at 300', 'at 320'])\n",
    "\n",
    "for i in range(10):\n",
    "    resample = births.sample()\n",
    "    a = slope(resample, 'Gestational Days', 'Birth Weight')\n",
    "    b = intercept(resample, 'Gestational Days', 'Birth Weight')\n",
    "    lines.append([a, b, a * 210 + b, a * 300 + b, a * 320 + b])\n",
    "\n",
    "for i in np.arange(lines.num_rows):\n",
    "    line = lines.row(i)\n",
    "    plots.plot([210, 320], [line.item('at 210'), line.item('at 320')], lw=1)\n",
    "    plots.scatter(300, line.item('at 300'), s=30, zorder=3)"
   ]
  },
  {
   "cell_type": "markdown",
   "metadata": {},
   "source": [
    "## Inference for the Slope ##"
   ]
  },
  {
   "cell_type": "code",
   "execution_count": null,
   "metadata": {},
   "outputs": [],
   "source": [
    "births.scatter('Gestational Days', 'Birth Weight', fit_line=True)"
   ]
  },
  {
   "cell_type": "code",
   "execution_count": null,
   "metadata": {},
   "outputs": [],
   "source": [
    "slope(births, 'Gestational Days', 'Birth Weight')"
   ]
  },
  {
   "cell_type": "code",
   "execution_count": null,
   "metadata": {},
   "outputs": [],
   "source": [
    "def bootstrap_slope(t, x, y, repetitions=5000):\n",
    "    \n",
    "    # Bootstrap the scatter, find the slope, collect\n",
    "    slopes = make_array()\n",
    "    for i in np.arange(repetitions):\n",
    "        bootstrap_sample = t.sample()\n",
    "        bootstrap_slope = slope(bootstrap_sample, x, y)\n",
    "        slopes = np.append(slopes, bootstrap_slope)\n",
    "    \n",
    "    # Find the endpoints of the 95% confidence interval for the true slope\n",
    "    left = percentile(2.5, slopes)\n",
    "    right = percentile(97.5, slopes)\n",
    "    \n",
    "    # Slope of the regression line from the original sample\n",
    "    observed_slope = slope(t, x, y)\n",
    "    \n",
    "    # Display results\n",
    "    Table().with_column('Bootstrap Slopes', slopes).hist(bins=20)\n",
    "    plots.plot(make_array(left, right), make_array(0, 0), color='yellow', lw=8);\n",
    "    print('Slope of regression line:', observed_slope)\n",
    "    print('Approximate 95%-confidence interval for the slope of the true line:')\n",
    "    print(left, 'to', right)"
   ]
  },
  {
   "cell_type": "code",
   "execution_count": null,
   "metadata": {},
   "outputs": [],
   "source": [
    "bootstrap_slope(births, 'Gestational Days', 'Birth Weight', 2500)"
   ]
  },
  {
   "cell_type": "markdown",
   "metadata": {},
   "source": [
    "## Rain on the Regression Parade"
   ]
  },
  {
   "cell_type": "code",
   "execution_count": null,
   "metadata": {},
   "outputs": [],
   "source": [
    "draw_and_compare(0, 10, 25)"
   ]
  },
  {
   "cell_type": "markdown",
   "metadata": {},
   "source": [
    "**Null Hypothesis.** Slope of true line = 0.\n",
    "\n",
    "**Alternative Hypothesis.** Slope of true line is not 0."
   ]
  },
  {
   "cell_type": "code",
   "execution_count": null,
   "metadata": {},
   "outputs": [],
   "source": [
    "slope(births, 'Maternal Age', 'Birth Weight')"
   ]
  },
  {
   "cell_type": "code",
   "execution_count": null,
   "metadata": {},
   "outputs": [],
   "source": [
    "births.scatter('Maternal Age', 'Birth Weight', fit_line=True)"
   ]
  },
  {
   "cell_type": "code",
   "execution_count": null,
   "metadata": {},
   "outputs": [],
   "source": [
    "bootstrap_slope(births, 'Maternal Age', 'Birth Weight', 2500)"
   ]
  },
  {
   "cell_type": "code",
   "execution_count": null,
   "metadata": {},
   "outputs": [],
   "source": []
  },
  {
   "cell_type": "code",
   "execution_count": null,
   "metadata": {},
   "outputs": [],
   "source": []
  }
 ],
 "metadata": {
  "anaconda-cloud": {},
  "kernelspec": {
   "display_name": "Python 3 (ipykernel)",
   "language": "python",
   "name": "python3"
  },
  "language_info": {
   "codemirror_mode": {
    "name": "ipython",
    "version": 3
   },
   "file_extension": ".py",
   "mimetype": "text/x-python",
   "name": "python",
   "nbconvert_exporter": "python",
   "pygments_lexer": "ipython3",
   "version": "3.9.10"
  },
  "toc": {
   "base_numbering": 1,
   "nav_menu": {},
   "number_sections": true,
   "sideBar": true,
   "skip_h1_title": false,
   "title_cell": "Table of Contents",
   "title_sidebar": "Contents",
   "toc_cell": false,
   "toc_position": {},
   "toc_section_display": true,
   "toc_window_display": false
  }
 },
 "nbformat": 4,
 "nbformat_minor": 1
}
