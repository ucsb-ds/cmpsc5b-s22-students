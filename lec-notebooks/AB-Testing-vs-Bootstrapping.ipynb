{
 "cells": [
  {
   "cell_type": "code",
   "execution_count": 1,
   "metadata": {},
   "outputs": [],
   "source": [
    "from datascience import *\n",
    "import numpy as np\n",
    "\n",
    "%matplotlib inline\n",
    "import matplotlib.pyplot as plots\n",
    "plots.style.use('fivethirtyeight')"
   ]
  },
  {
   "cell_type": "code",
   "execution_count": 3,
   "metadata": {},
   "outputs": [
    {
     "data": {
      "text/html": [
       "<table border=\"1\" class=\"dataframe\">\n",
       "    <thead>\n",
       "        <tr>\n",
       "            <th>Birth Weight</th> <th>Gestational Days</th> <th>Maternal Age</th> <th>Maternal Height</th> <th>Maternal Pregnancy Weight</th> <th>Maternal Smoker</th>\n",
       "        </tr>\n",
       "    </thead>\n",
       "    <tbody>\n",
       "        <tr>\n",
       "            <td>120         </td> <td>284             </td> <td>27          </td> <td>62             </td> <td>100                      </td> <td>False          </td>\n",
       "        </tr>\n",
       "        <tr>\n",
       "            <td>113         </td> <td>282             </td> <td>33          </td> <td>64             </td> <td>135                      </td> <td>False          </td>\n",
       "        </tr>\n",
       "        <tr>\n",
       "            <td>128         </td> <td>279             </td> <td>28          </td> <td>64             </td> <td>115                      </td> <td>True           </td>\n",
       "        </tr>\n",
       "        <tr>\n",
       "            <td>108         </td> <td>282             </td> <td>23          </td> <td>67             </td> <td>125                      </td> <td>True           </td>\n",
       "        </tr>\n",
       "        <tr>\n",
       "            <td>136         </td> <td>286             </td> <td>25          </td> <td>62             </td> <td>93                       </td> <td>False          </td>\n",
       "        </tr>\n",
       "    </tbody>\n",
       "</table>\n",
       "<p>... (1169 rows omitted)</p>"
      ],
      "text/plain": [
       "<IPython.core.display.HTML object>"
      ]
     },
     "metadata": {},
     "output_type": "display_data"
    }
   ],
   "source": [
    "# load dataset\n",
    "births = Table.read_table('data/baby.csv')\n",
    "births.show(5)"
   ]
  },
  {
   "cell_type": "markdown",
   "metadata": {},
   "source": [
    "# A/B Testing\n",
    "\n",
    "With A/B testing, we are checking to see if there is a relationship between X and Y, AKA if X has an effect on Y. X is usually a categorical variable and y is usually a numerical value.\n",
    "\n",
    "Examples:\n",
    "1. Does a speed limit reduce accidents?\n",
    "2. Does death penalty affect murder rates?\n",
    "3. Does smoking affect baby weight?\n",
    "\n",
    "## STEP 1: Select Relevant Columns"
   ]
  },
  {
   "cell_type": "code",
   "execution_count": 6,
   "metadata": {},
   "outputs": [
    {
     "data": {
      "text/html": [
       "<table border=\"1\" class=\"dataframe\">\n",
       "    <thead>\n",
       "        <tr>\n",
       "            <th>Maternal Smoker</th> <th>Birth Weight</th>\n",
       "        </tr>\n",
       "    </thead>\n",
       "    <tbody>\n",
       "        <tr>\n",
       "            <td>False          </td> <td>120         </td>\n",
       "        </tr>\n",
       "        <tr>\n",
       "            <td>False          </td> <td>113         </td>\n",
       "        </tr>\n",
       "        <tr>\n",
       "            <td>True           </td> <td>128         </td>\n",
       "        </tr>\n",
       "        <tr>\n",
       "            <td>True           </td> <td>108         </td>\n",
       "        </tr>\n",
       "        <tr>\n",
       "            <td>False          </td> <td>136         </td>\n",
       "        </tr>\n",
       "    </tbody>\n",
       "</table>\n",
       "<p>... (1169 rows omitted)</p>"
      ],
      "text/plain": [
       "<IPython.core.display.HTML object>"
      ]
     },
     "metadata": {},
     "output_type": "display_data"
    }
   ],
   "source": [
    "# taking only smoking and birth weight to see if smoking affects birth weight\n",
    "\n",
    "birth = births.select('Maternal Smoker', 'Birth Weight')\n",
    "birth.show(5)"
   ]
  },
  {
   "cell_type": "markdown",
   "metadata": {},
   "source": [
    "## STEP 2: Find our observed difference"
   ]
  },
  {
   "cell_type": "code",
   "execution_count": 10,
   "metadata": {},
   "outputs": [
    {
     "data": {
      "text/html": [
       "<table border=\"1\" class=\"dataframe\">\n",
       "    <thead>\n",
       "        <tr>\n",
       "            <th>Maternal Smoker</th> <th>Birth Weight mean</th>\n",
       "        </tr>\n",
       "    </thead>\n",
       "    <tbody>\n",
       "        <tr>\n",
       "            <td>False          </td> <td>123.085          </td>\n",
       "        </tr>\n",
       "        <tr>\n",
       "            <td>True           </td> <td>113.819          </td>\n",
       "        </tr>\n",
       "    </tbody>\n",
       "</table>"
      ],
      "text/plain": [
       "Maternal Smoker | Birth Weight mean\n",
       "False           | 123.085\n",
       "True            | 113.819"
      ]
     },
     "execution_count": 10,
     "metadata": {},
     "output_type": "execute_result"
    }
   ],
   "source": [
    "# Grouping by smoking to see the average baby birth weight for both labels\n",
    "\n",
    "birth_group = birth.group('Maternal Smoker', np.mean)\n",
    "birth_group"
   ]
  },
  {
   "cell_type": "code",
   "execution_count": 13,
   "metadata": {},
   "outputs": [
    {
     "data": {
      "text/plain": [
       "9.266142572024918"
      ]
     },
     "execution_count": 13,
     "metadata": {},
     "output_type": "execute_result"
    }
   ],
   "source": [
    "# calculating the difference:\n",
    "\n",
    "birth_diff = birth_group.column('Birth Weight mean').item(0) - birth_group.column('Birth Weight mean').item(1)\n",
    "birth_diff"
   ]
  },
  {
   "cell_type": "markdown",
   "metadata": {},
   "source": [
    "## STEP 3: Check if this difference is significant\n",
    "\n",
    "Here let's define our hypothesis:\n",
    "\n",
    "Null - Smoking does not have an effect on birth weights. Any variation is due to chance.\n",
    "\n",
    "Alt - Smoking does have an effect on birth weights.\n",
    "\n",
    "When we do A/B testing, we are simulating under the null. AKA, if the Null hypothesis is true, then whether a mom smokes or not should have no effect on a baby's birth weight. Thus, we are going to shuffle the label (the categorical value!) to simulate this."
   ]
  },
  {
   "cell_type": "code",
   "execution_count": 20,
   "metadata": {
    "scrolled": true
   },
   "outputs": [
    {
     "data": {
      "text/html": [
       "<table border=\"1\" class=\"dataframe\">\n",
       "    <thead>\n",
       "        <tr>\n",
       "            <th>Maternal Smoker</th> <th>Birth Weight</th>\n",
       "        </tr>\n",
       "    </thead>\n",
       "    <tbody>\n",
       "        <tr>\n",
       "            <td>True           </td> <td>120         </td>\n",
       "        </tr>\n",
       "        <tr>\n",
       "            <td>True           </td> <td>113         </td>\n",
       "        </tr>\n",
       "        <tr>\n",
       "            <td>False          </td> <td>128         </td>\n",
       "        </tr>\n",
       "        <tr>\n",
       "            <td>True           </td> <td>108         </td>\n",
       "        </tr>\n",
       "        <tr>\n",
       "            <td>False          </td> <td>136         </td>\n",
       "        </tr>\n",
       "    </tbody>\n",
       "</table>\n",
       "<p>... (1169 rows omitted)</p>"
      ],
      "text/plain": [
       "<IPython.core.display.HTML object>"
      ]
     },
     "metadata": {},
     "output_type": "display_data"
    }
   ],
   "source": [
    "# Shuffling example! Running this cell should generate a new table everytime.\n",
    "\n",
    "# shuffle around our table\n",
    "shuffling = birth.sample(with_replacement = False)\n",
    "\n",
    "# Taking our shuffled label column and replacing it with the original table.\n",
    "# Note: When using with_column, if your argument for the new columns' name is one that already exist in the original\n",
    "# table, then it will simply REPLACE the column.\n",
    "\n",
    "shuffled_table = birth.with_column('Maternal Smoker', shuffling.column('Maternal Smoker'))\n",
    "shuffled_table.show(5)"
   ]
  },
  {
   "cell_type": "code",
   "execution_count": 21,
   "metadata": {
    "scrolled": true
   },
   "outputs": [
    {
     "data": {
      "text/html": [
       "<table border=\"1\" class=\"dataframe\">\n",
       "    <thead>\n",
       "        <tr>\n",
       "            <th>Maternal Smoker</th> <th>Birth Weight</th>\n",
       "        </tr>\n",
       "    </thead>\n",
       "    <tbody>\n",
       "        <tr>\n",
       "            <td>False          </td> <td>120         </td>\n",
       "        </tr>\n",
       "        <tr>\n",
       "            <td>False          </td> <td>113         </td>\n",
       "        </tr>\n",
       "        <tr>\n",
       "            <td>True           </td> <td>128         </td>\n",
       "        </tr>\n",
       "        <tr>\n",
       "            <td>True           </td> <td>108         </td>\n",
       "        </tr>\n",
       "        <tr>\n",
       "            <td>False          </td> <td>136         </td>\n",
       "        </tr>\n",
       "    </tbody>\n",
       "</table>\n",
       "<p>... (1169 rows omitted)</p>"
      ],
      "text/plain": [
       "<IPython.core.display.HTML object>"
      ]
     },
     "metadata": {},
     "output_type": "display_data"
    }
   ],
   "source": [
    "# compare with the original table:\n",
    "birth.show(5)"
   ]
  },
  {
   "cell_type": "markdown",
   "metadata": {},
   "source": [
    "### Here is the processes to A/B Testing:"
   ]
  },
  {
   "cell_type": "code",
   "execution_count": 17,
   "metadata": {},
   "outputs": [
    {
     "data": {
      "text/plain": [
       "9.266142572024918"
      ]
     },
     "execution_count": 17,
     "metadata": {},
     "output_type": "execute_result"
    }
   ],
   "source": [
    "# Create a function to calcualte difference between average baby birth weight for both labels\n",
    "\n",
    "def compute(tbl):\n",
    "    # grouping\n",
    "    means = tbl.group('Maternal Smoker', np.mean)\n",
    "    # finding the diff for each group\n",
    "    diff = means.column('Birth Weight mean').item(0) - means.column('Birth Weight mean').item(1)\n",
    "    return diff\n",
    "\n",
    "# check to see if it's the same as our diff above!\n",
    "compute(birth)"
   ]
  },
  {
   "cell_type": "code",
   "execution_count": 24,
   "metadata": {},
   "outputs": [
    {
     "data": {
      "text/plain": [
       "0.945457592516405"
      ]
     },
     "execution_count": 24,
     "metadata": {},
     "output_type": "execute_result"
    }
   ],
   "source": [
    "# finding diff of shuffled table\n",
    "\n",
    "def simulate_null():\n",
    "    # shuffling\n",
    "    shuffling = birth.sample(with_replacement = False)\n",
    "    shuffled_table = birth.with_column('Maternal Smoker', shuffling.column('Maternal Smoker'))\n",
    "    \n",
    "    #finding the difference of our shuffled table\n",
    "    diff = compute(shuffled_table)\n",
    "    return diff\n",
    "\n",
    "simulate_null()"
   ]
  },
  {
   "cell_type": "markdown",
   "metadata": {},
   "source": [
    "## Time to generate our emperical histogram of differences under the null!\n"
   ]
  },
  {
   "cell_type": "code",
   "execution_count": 26,
   "metadata": {},
   "outputs": [],
   "source": [
    "# create empty array to store our simulated differences:\n",
    "# Can take a minute or so to run\n",
    "diff_array = make_array()\n",
    "\n",
    "# let's simulate 500 times!\n",
    "for i in np.arange(500):\n",
    "    simulation = simulate_null()\n",
    "    diff_array = np.append(diff_array, simulation)"
   ]
  },
  {
   "cell_type": "code",
   "execution_count": 27,
   "metadata": {},
   "outputs": [
    {
     "data": {
      "image/png": "[encoded data removed]",
      "text/plain": [
       "<Figure size 432x288 with 1 Axes>"
      ]
     },
     "metadata": {},
     "output_type": "display_data"
    }
   ],
   "source": [
    "# Plot our array!\n",
    "\n",
    "Table().with_column('Simulated statistics', diff_array).hist()\n",
    "plots.scatter(birth_diff, 0, color='red', s=100)\n",
    "plots.axvline(x=birth_diff, color = 'red');"
   ]
  },
  {
   "cell_type": "markdown",
   "metadata": {},
   "source": [
    "## Things to notice:\n",
    "\n",
    "See how our emperical histogram centers around 0? This is because if we assume our null hypothesis is true and that smoking has no affect on a babby's birth weight, then the difference of any 2 moms based purely on their smoking status should be that different. \n",
    "\n",
    "Our red line indicates our observed difference we calculated in the beginning."
   ]
  },
  {
   "cell_type": "code",
   "execution_count": 28,
   "metadata": {},
   "outputs": [
    {
     "data": {
      "text/plain": [
       "0.0"
      ]
     },
     "execution_count": 28,
     "metadata": {},
     "output_type": "execute_result"
    }
   ],
   "source": [
    "# Calculate the p-value\n",
    "\n",
    "np.count_nonzero(diff_array >= birth_diff) / len(diff_array) "
   ]
  },
  {
   "cell_type": "markdown",
   "metadata": {},
   "source": [
    "Our p-value represents assuming our null hypothesis is true, it is the probability that we will get a value as extreme or higher than our observed value. As we can visually see, no simulated value is even near our observed difference so we can say that based on this experiment, smoking has an effect on birth weight (but remember, we cannot say smoking causes birth weight defects)!"
   ]
  },
  {
   "cell_type": "markdown",
   "metadata": {},
   "source": [
    "# BOOSTRAPPING\n",
    "\n",
    "There are many differences between A/B Testing and Bootstrapping. While A/B testing checks if X is associated with Y, Bootstrapping is here to better estimate a value.\n",
    "\n",
    "For example, let's say we have a question: What is the average weight of an brown bear?\n",
    "\n",
    "The population here is all the brown bear in the world.\n",
    "\n",
    "Of course, finding and measuring all the brown bears in the world is practically impossible, so we take a sample of brown bears from our population. Let's say we take a sample and find the average weight of our sample of brown bear is 1000lb. How can we be more accurate?\n",
    "\n",
    "More samples would mean a better estimate, but that is costly and inefficient. What we can do is bootstrap, which is to generate a completely new sample based on our original sample!\n",
    "\n",
    "Let's take a look with our baby dataset again:"
   ]
  },
  {
   "cell_type": "code",
   "execution_count": 29,
   "metadata": {},
   "outputs": [
    {
     "data": {
      "text/html": [
       "<table border=\"1\" class=\"dataframe\">\n",
       "    <thead>\n",
       "        <tr>\n",
       "            <th>Birth Weight</th> <th>Gestational Days</th> <th>Maternal Age</th> <th>Maternal Height</th> <th>Maternal Pregnancy Weight</th> <th>Maternal Smoker</th>\n",
       "        </tr>\n",
       "    </thead>\n",
       "    <tbody>\n",
       "        <tr>\n",
       "            <td>120         </td> <td>284             </td> <td>27          </td> <td>62             </td> <td>100                      </td> <td>False          </td>\n",
       "        </tr>\n",
       "        <tr>\n",
       "            <td>113         </td> <td>282             </td> <td>33          </td> <td>64             </td> <td>135                      </td> <td>False          </td>\n",
       "        </tr>\n",
       "        <tr>\n",
       "            <td>128         </td> <td>279             </td> <td>28          </td> <td>64             </td> <td>115                      </td> <td>True           </td>\n",
       "        </tr>\n",
       "        <tr>\n",
       "            <td>108         </td> <td>282             </td> <td>23          </td> <td>67             </td> <td>125                      </td> <td>True           </td>\n",
       "        </tr>\n",
       "        <tr>\n",
       "            <td>136         </td> <td>286             </td> <td>25          </td> <td>62             </td> <td>93                       </td> <td>False          </td>\n",
       "        </tr>\n",
       "    </tbody>\n",
       "</table>\n",
       "<p>... (1169 rows omitted)</p>"
      ],
      "text/plain": [
       "<IPython.core.display.HTML object>"
      ]
     },
     "metadata": {},
     "output_type": "display_data"
    }
   ],
   "source": [
    "births.show(5)"
   ]
  },
  {
   "cell_type": "markdown",
   "metadata": {},
   "source": [
    "Let's say we want to estimate the average Gestational Days for moms. We can simply calculate the average here."
   ]
  },
  {
   "cell_type": "code",
   "execution_count": 33,
   "metadata": {},
   "outputs": [
    {
     "data": {
      "text/plain": [
       "279.1013628620102"
      ]
     },
     "execution_count": 33,
     "metadata": {},
     "output_type": "execute_result"
    }
   ],
   "source": [
    "# mean number of days\n",
    "np.mean(births.column('Gestational Days'))"
   ]
  },
  {
   "cell_type": "markdown",
   "metadata": {},
   "source": [
    "## Sampling WITH replacement\n",
    "\n",
    "Our bootstrap sample has the following qualities:\n",
    "1. Same Sample Size\n",
    "2. Sampled WITH replacement\n",
    "\n",
    "If we don't sample with replacement, we'll just end up with the same original sample and that would be disheartening :(\n",
    "\n",
    "So let's bootstrap 500 times and find the average Gestational days per resample."
   ]
  },
  {
   "cell_type": "code",
   "execution_count": 35,
   "metadata": {},
   "outputs": [],
   "source": [
    "# create empty array to append the average\n",
    "days_array = make_array()\n",
    "\n",
    "for i in np.arange(500):\n",
    "    # generate bootstrap sample. The table.sample function automatically samples with replacement and has the same sample size\n",
    "    resample = births.sample()\n",
    "    new_avg = np.mean(resample.column('Gestational Days'))\n",
    "    days_array = np.append(days_array, new_avg)"
   ]
  },
  {
   "cell_type": "markdown",
   "metadata": {},
   "source": [
    "## Confidence Interval\n",
    "\n",
    "After bootstrapping, what we do is construct a confidence interval. For example, a 95% confidence interval contains the middle 95% of our resampled average gestational days. "
   ]
  },
  {
   "cell_type": "code",
   "execution_count": 38,
   "metadata": {},
   "outputs": [
    {
     "name": "stdout",
     "output_type": "stream",
     "text": [
      "Middle 95% of bootstrappped gestational days: [278.262351, 280.049404]\n"
     ]
    }
   ],
   "source": [
    "# Our Confidence Interval Bounds.\n",
    "ci_left = percentile(2.5, days_array)\n",
    "ci_right = percentile(97.5, days_array)\n",
    "\n",
    "print(\"Middle 95% of bootstrappped gestational days: [{:f}, {:f}]\".format(ci_left, ci_right))"
   ]
  },
  {
   "cell_type": "markdown",
   "metadata": {},
   "source": [
    "Here are our conclusions:\n",
    "\n",
    "1. The average gestational days for all moms is one SINGULAR number.\n",
    "2. We do not know this number, but we can estimate it.\n",
    "3. From our confidence interval, we can say that we are 95% that the average gestational days for all moms is between (left CI) and (right CI)"
   ]
  },
  {
   "cell_type": "markdown",
   "metadata": {},
   "source": [
    "# Using Bootstrapping to Estimate Difference\n",
    "\n",
    "Another use of bootstrapping is to estimate the difference between 2 variables. For example, let's say we want to know if there is a difference between the average weight of babies between smoking mothers and non-smoking mothers. We can use bootstrapping for this as well!\n",
    "\n",
    "We'll be using our birth dataset again."
   ]
  },
  {
   "cell_type": "code",
   "execution_count": 41,
   "metadata": {
    "hideCode": true,
    "hidePrompt": false
   },
   "outputs": [
    {
     "data": {
      "text/html": [
       "<table border=\"1\" class=\"dataframe\">\n",
       "    <thead>\n",
       "        <tr>\n",
       "            <th>Maternal Smoker</th> <th>Birth Weight</th>\n",
       "        </tr>\n",
       "    </thead>\n",
       "    <tbody>\n",
       "        <tr>\n",
       "            <td>False          </td> <td>120         </td>\n",
       "        </tr>\n",
       "        <tr>\n",
       "            <td>False          </td> <td>113         </td>\n",
       "        </tr>\n",
       "        <tr>\n",
       "            <td>True           </td> <td>128         </td>\n",
       "        </tr>\n",
       "        <tr>\n",
       "            <td>True           </td> <td>108         </td>\n",
       "        </tr>\n",
       "        <tr>\n",
       "            <td>False          </td> <td>136         </td>\n",
       "        </tr>\n",
       "    </tbody>\n",
       "</table>\n",
       "<p>... (1169 rows omitted)</p>"
      ],
      "text/plain": [
       "<IPython.core.display.HTML object>"
      ]
     },
     "metadata": {},
     "output_type": "display_data"
    }
   ],
   "source": [
    "birth.show(5)"
   ]
  },
  {
   "cell_type": "markdown",
   "metadata": {},
   "source": [
    "Recall our function to find the difference of baby weight between smoking and non-smoking mothers. It will be useful."
   ]
  },
  {
   "cell_type": "code",
   "execution_count": 42,
   "metadata": {},
   "outputs": [
    {
     "data": {
      "text/plain": [
       "9.266142572024918"
      ]
     },
     "execution_count": 42,
     "metadata": {},
     "output_type": "execute_result"
    }
   ],
   "source": [
    "# Create a function to calcualte difference between average baby birth weight for both labels\n",
    "\n",
    "def compute(tbl):\n",
    "    # grouping\n",
    "    means = tbl.group('Maternal Smoker', np.mean)\n",
    "    # finding the diff for each group\n",
    "    diff = means.column('Birth Weight mean').item(0) - means.column('Birth Weight mean').item(1)\n",
    "    return diff\n",
    "\n",
    "# check to see if it's the same as our diff above!\n",
    "compute(birth)"
   ]
  },
  {
   "cell_type": "markdown",
   "metadata": {},
   "source": [
    "Here is our hypothesis again.\n",
    "\n",
    "Null - Smoking does not have an effect on birth weights. Any variation is due to chance.\n",
    "\n",
    "Alt - Smoking does have an effect on birth weights.\n",
    "\n",
    "If the null hypothesis is correct, and smoking does not have an effect on birth weights, then if we find the difference between baby weights of smoking mothers and non-smoking mothers, this difference should be near 0. \n",
    "\n",
    "Via bootstrapping, we can generate new samples and keep finding the difference of baby weights between smoking mothers and non-smoking mothers."
   ]
  },
  {
   "cell_type": "code",
   "execution_count": 43,
   "metadata": {},
   "outputs": [],
   "source": [
    "# make an empty array to store bootstrap difference\n",
    "bootstrap_array = make_array()\n",
    "\n",
    "# make a function to bootstrap sample and compute our new difference of baby weight from this sample\n",
    "def bootstrap_diff():\n",
    "    boostrap_sample = birth.sample()\n",
    "    diff = compute(boostrap_sample)\n",
    "    return diff\n",
    "\n",
    "# Bootstrap 500 times and store the differences in our array\n",
    "for i in np.arange(500):\n",
    "    bootstrap_calculation = bootstrap_diff()\n",
    "    bootstrap_array = np.append(bootstrap_array, bootstrap_calculation)"
   ]
  },
  {
   "cell_type": "markdown",
   "metadata": {},
   "source": [
    "## Confidence Intervals!"
   ]
  },
  {
   "cell_type": "code",
   "execution_count": 44,
   "metadata": {},
   "outputs": [
    {
     "name": "stdout",
     "output_type": "stream",
     "text": [
      "Middle 95% of bootstrappped smoking vs non-smoking baby weight: [7.363034, 11.354839]\n"
     ]
    }
   ],
   "source": [
    "# Our 95% Confidence Interval Bounds\n",
    "ci_left = percentile(2.5, bootstrap_array)\n",
    "ci_right = percentile(97.5, bootstrap_array)\n",
    "\n",
    "print(\"Middle 95% of bootstrappped smoking vs non-smoking baby weight: [{:f}, {:f}]\".format(ci_left, ci_right))"
   ]
  },
  {
   "cell_type": "code",
   "execution_count": 49,
   "metadata": {},
   "outputs": [
    {
     "data": {
      "image/png": "[encoded data removed]",
      "text/plain": [
       "<Figure size 432x288 with 1 Axes>"
      ]
     },
     "metadata": {},
     "output_type": "display_data"
    }
   ],
   "source": [
    "Table().with_column(\"Baby Weight Difference (Non-Smoking - Smoking)\", bootstrap_array).hist()\n",
    "plots.plot([ci_left, ci_right], [.005,.005], color=\"gold\");"
   ]
  },
  {
   "cell_type": "markdown",
   "metadata": {},
   "source": [
    "## Conclusions\n",
    "\n",
    "Here the histogram represents an empircal distribution for the differences of baby weight between non-smoking and smoking mothers. The yellow bar is our confidence interval. Let's recall what we know.\n",
    "\n",
    "1. The average baby weight of smoking mothers is a singular number (constant). We don't know what that number is.\n",
    "2. The average baby weight of non-smokig mothers is a singular number (constant). We don't know what that number is.\n",
    "3. The difference of baby weight between non-smoking and smoking mothers is also a constant. We also don't know what it is.\n",
    "4. We sample and resample to get an estimate of the difference. Our confidence interval shows it the difference is between 7 and 11.\n",
    "\n",
    "Under the null hypothesis, if smoking DOES not have an effect on baby weight, the difference should be around 0. However, we see that 0 is not in our C.I. While we don't know the true difference of baby weight between non-smoking and smoking mothers, we have a good estimate of what that number is, and 0 is not within that estimate. Thus, we can safely reject the null hypothesis and say that smoking is associated with baby weight."
   ]
  },
  {
   "cell_type": "code",
   "execution_count": null,
   "metadata": {},
   "outputs": [],
   "source": []
  }
 ],
 "metadata": {
  "hide_input": false,
  "kernelspec": {
   "display_name": "Python 3",
   "language": "python",
   "name": "python3"
  },
  "language_info": {
   "codemirror_mode": {
    "name": "ipython",
    "version": 3
   },
   "file_extension": ".py",
   "mimetype": "text/x-python",
   "name": "python",
   "nbconvert_exporter": "python",
   "pygments_lexer": "ipython3",
   "version": "3.7.6"
  },
  "toc": {
   "base_numbering": 1,
   "nav_menu": {},
   "number_sections": true,
   "sideBar": true,
   "skip_h1_title": false,
   "title_cell": "Table of Contents",
   "title_sidebar": "Contents",
   "toc_cell": false,
   "toc_position": {},
   "toc_section_display": true,
   "toc_window_display": false
  }
 },
 "nbformat": 4,
 "nbformat_minor": 4
}
